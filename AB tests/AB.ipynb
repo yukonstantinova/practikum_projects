{
 "cells": [
  {
   "cell_type": "markdown",
   "metadata": {},
   "source": [
    "# Приоритизация гипотез. Анализ результата А/В-теста"
   ]
  },
  {
   "cell_type": "markdown",
   "metadata": {},
   "source": [
    "Аналитики крупного интернет-магазина и отдел маркетинга подготовили список гипотез для увеличения выручки.\n",
    "\n",
    "Цель проекта - приоритизировать гипотезы, проанализировать результаты A/B-теста.\n",
    "\n",
    "\n",
    "План проекта:\n",
    "- [Часть 1. Приоритизация гипотез](#0)\n",
    "- [Применение фреймворка ICE для приоритизации гипотез](#1)\n",
    "- [Применение фреймворка RICE для приоритизации гипотез](#2)\n",
    "- [Объясниние измнения приоритизации гипотез](#3)\n",
    "\n",
    "\n",
    "- [Часть 2. Анализ A/B-теста](#4)\n",
    "- [Построение графика кумулятивной выручки по группам](#5)\n",
    "- [Построение графика кумулятивного среднего чека по группам](#6)\n",
    "- [Построение графика относительного изменения кумулятивного среднего чека группы B к группе A](#7)\n",
    "- [Построение графика кумулятивной конверсии по группам](#8)\n",
    "- [Построение графика относительного изменения кумулятивной конверсии группы B к группе A](#9)\n",
    "- [Построение точечного графика количества заказов по пользователям](#10)\n",
    "- [Построение точечного графика стоимостей заказов](#12)\n",
    "- [Подсчет статистической значимости различий в конверсии между группами по «сырым» данным](#14)\n",
    "- [Подсчет статистической значимости различий в среднем чеке заказа между группами по «сырым» данным](#15)\n",
    "- [Подсчет статистической значимости различий в конверсии между группами по «очищенным» данным](#16)\n",
    "- [Подсчет статистической значимости различий в среднем чеке заказа между группами по «очищенным» данным](#17)\n",
    "- [Решение по результатам теста и его объяснение](#18)"
   ]
  },
  {
   "cell_type": "markdown",
   "metadata": {},
   "source": [
    "<a id='0'></a>"
   ]
  },
  {
   "cell_type": "markdown",
   "metadata": {},
   "source": [
    "# Часть 1. Приоритизация гипотез"
   ]
  },
  {
   "cell_type": "code",
   "execution_count": 1,
   "metadata": {},
   "outputs": [],
   "source": [
    "#импорт библиотек\n",
    "import pandas as pd\n",
    "import datetime as dt\n",
    "import numpy as np\n",
    "import matplotlib.pyplot as plt\n",
    "from pandas.plotting import register_matplotlib_converters\n",
    "import scipy.stats as stats\n",
    "import seaborn as sns\n",
    "import warnings"
   ]
  },
  {
   "cell_type": "code",
   "execution_count": 2,
   "metadata": {},
   "outputs": [
    {
     "data": {
      "text/html": [
       "<div>\n",
       "<style scoped>\n",
       "    .dataframe tbody tr th:only-of-type {\n",
       "        vertical-align: middle;\n",
       "    }\n",
       "\n",
       "    .dataframe tbody tr th {\n",
       "        vertical-align: top;\n",
       "    }\n",
       "\n",
       "    .dataframe thead th {\n",
       "        text-align: right;\n",
       "    }\n",
       "</style>\n",
       "<table border=\"1\" class=\"dataframe\">\n",
       "  <thead>\n",
       "    <tr style=\"text-align: right;\">\n",
       "      <th></th>\n",
       "      <th>Hypothesis</th>\n",
       "      <th>Reach</th>\n",
       "      <th>Impact</th>\n",
       "      <th>Confidence</th>\n",
       "      <th>Efforts</th>\n",
       "    </tr>\n",
       "  </thead>\n",
       "  <tbody>\n",
       "    <tr>\n",
       "      <th>0</th>\n",
       "      <td>Добавить два новых канала привлечения трафика, что позволит привлекать на 30% больше пользователей</td>\n",
       "      <td>3</td>\n",
       "      <td>10</td>\n",
       "      <td>8</td>\n",
       "      <td>6</td>\n",
       "    </tr>\n",
       "    <tr>\n",
       "      <th>1</th>\n",
       "      <td>Запустить собственную службу доставки, что сократит срок доставки заказов</td>\n",
       "      <td>2</td>\n",
       "      <td>5</td>\n",
       "      <td>4</td>\n",
       "      <td>10</td>\n",
       "    </tr>\n",
       "    <tr>\n",
       "      <th>2</th>\n",
       "      <td>Добавить блоки рекомендаций товаров на сайт интернет магазина, чтобы повысить конверсию и средний чек заказа</td>\n",
       "      <td>8</td>\n",
       "      <td>3</td>\n",
       "      <td>7</td>\n",
       "      <td>3</td>\n",
       "    </tr>\n",
       "    <tr>\n",
       "      <th>3</th>\n",
       "      <td>Изменить структура категорий, что увеличит конверсию, т.к. пользователи быстрее найдут нужный товар</td>\n",
       "      <td>8</td>\n",
       "      <td>3</td>\n",
       "      <td>3</td>\n",
       "      <td>8</td>\n",
       "    </tr>\n",
       "    <tr>\n",
       "      <th>4</th>\n",
       "      <td>Изменить цвет фона главной страницы, чтобы увеличить вовлеченность пользователей</td>\n",
       "      <td>3</td>\n",
       "      <td>1</td>\n",
       "      <td>1</td>\n",
       "      <td>1</td>\n",
       "    </tr>\n",
       "    <tr>\n",
       "      <th>5</th>\n",
       "      <td>Добавить страницу отзывов клиентов о магазине, что позволит увеличить количество заказов</td>\n",
       "      <td>3</td>\n",
       "      <td>2</td>\n",
       "      <td>2</td>\n",
       "      <td>3</td>\n",
       "    </tr>\n",
       "    <tr>\n",
       "      <th>6</th>\n",
       "      <td>Показать на главной странице баннеры с актуальными акциями и распродажами, чтобы увеличить конверсию</td>\n",
       "      <td>5</td>\n",
       "      <td>3</td>\n",
       "      <td>8</td>\n",
       "      <td>3</td>\n",
       "    </tr>\n",
       "    <tr>\n",
       "      <th>7</th>\n",
       "      <td>Добавить форму подписки на все основные страницы, чтобы собрать базу клиентов для email-рассылок</td>\n",
       "      <td>10</td>\n",
       "      <td>7</td>\n",
       "      <td>8</td>\n",
       "      <td>5</td>\n",
       "    </tr>\n",
       "    <tr>\n",
       "      <th>8</th>\n",
       "      <td>Запустить акцию, дающую скидку на товар в день рождения</td>\n",
       "      <td>1</td>\n",
       "      <td>9</td>\n",
       "      <td>9</td>\n",
       "      <td>5</td>\n",
       "    </tr>\n",
       "  </tbody>\n",
       "</table>\n",
       "</div>"
      ],
      "text/plain": [
       "                                                                                                     Hypothesis  \\\n",
       "0            Добавить два новых канала привлечения трафика, что позволит привлекать на 30% больше пользователей   \n",
       "1                                     Запустить собственную службу доставки, что сократит срок доставки заказов   \n",
       "2  Добавить блоки рекомендаций товаров на сайт интернет магазина, чтобы повысить конверсию и средний чек заказа   \n",
       "3           Изменить структура категорий, что увеличит конверсию, т.к. пользователи быстрее найдут нужный товар   \n",
       "4                              Изменить цвет фона главной страницы, чтобы увеличить вовлеченность пользователей   \n",
       "5                      Добавить страницу отзывов клиентов о магазине, что позволит увеличить количество заказов   \n",
       "6          Показать на главной странице баннеры с актуальными акциями и распродажами, чтобы увеличить конверсию   \n",
       "7              Добавить форму подписки на все основные страницы, чтобы собрать базу клиентов для email-рассылок   \n",
       "8                                                       Запустить акцию, дающую скидку на товар в день рождения   \n",
       "\n",
       "   Reach  Impact  Confidence  Efforts  \n",
       "0      3      10           8        6  \n",
       "1      2       5           4       10  \n",
       "2      8       3           7        3  \n",
       "3      8       3           3        8  \n",
       "4      3       1           1        1  \n",
       "5      3       2           2        3  \n",
       "6      5       3           8        3  \n",
       "7     10       7           8        5  \n",
       "8      1       9           9        5  "
      ]
     },
     "execution_count": 2,
     "metadata": {},
     "output_type": "execute_result"
    }
   ],
   "source": [
    "pd.set_option('display.max_colwidth', None)\n",
    "data = pd.read_csv('...') #открытие файла с гипотезами и параметрами\n",
    "data"
   ]
  },
  {
   "cell_type": "markdown",
   "metadata": {},
   "source": [
    "Описание данных:\n",
    "- Hypothesis — краткое описание гипотезы;\n",
    "- Reach — охват пользователей по 10-балльной шкале;\n",
    "- Impact — влияние на пользователей по 10-балльной шкале;\n",
    "- Confidence — уверенность в гипотезе по 10-балльной шкале;\n",
    "- Efforts — затраты ресурсов на проверку гипотезы по 10-балльной шкале. Чем больше значение Efforts, тем дороже проверка гипотезы."
   ]
  },
  {
   "cell_type": "markdown",
   "metadata": {},
   "source": [
    "<a id='1'></a>"
   ]
  },
  {
   "cell_type": "markdown",
   "metadata": {},
   "source": [
    "## Фреймворк ICE для приоритизации гипотез"
   ]
  },
  {
   "cell_type": "code",
   "execution_count": 3,
   "metadata": {},
   "outputs": [
    {
     "data": {
      "text/html": [
       "<div>\n",
       "<style scoped>\n",
       "    .dataframe tbody tr th:only-of-type {\n",
       "        vertical-align: middle;\n",
       "    }\n",
       "\n",
       "    .dataframe tbody tr th {\n",
       "        vertical-align: top;\n",
       "    }\n",
       "\n",
       "    .dataframe thead th {\n",
       "        text-align: right;\n",
       "    }\n",
       "</style>\n",
       "<table border=\"1\" class=\"dataframe\">\n",
       "  <thead>\n",
       "    <tr style=\"text-align: right;\">\n",
       "      <th></th>\n",
       "      <th>Hypothesis</th>\n",
       "      <th>ICE</th>\n",
       "    </tr>\n",
       "  </thead>\n",
       "  <tbody>\n",
       "    <tr>\n",
       "      <th>8</th>\n",
       "      <td>Запустить акцию, дающую скидку на товар в день рождения</td>\n",
       "      <td>16.20</td>\n",
       "    </tr>\n",
       "    <tr>\n",
       "      <th>0</th>\n",
       "      <td>Добавить два новых канала привлечения трафика, что позволит привлекать на 30% больше пользователей</td>\n",
       "      <td>13.33</td>\n",
       "    </tr>\n",
       "    <tr>\n",
       "      <th>7</th>\n",
       "      <td>Добавить форму подписки на все основные страницы, чтобы собрать базу клиентов для email-рассылок</td>\n",
       "      <td>11.20</td>\n",
       "    </tr>\n",
       "    <tr>\n",
       "      <th>6</th>\n",
       "      <td>Показать на главной странице баннеры с актуальными акциями и распродажами, чтобы увеличить конверсию</td>\n",
       "      <td>8.00</td>\n",
       "    </tr>\n",
       "    <tr>\n",
       "      <th>2</th>\n",
       "      <td>Добавить блоки рекомендаций товаров на сайт интернет магазина, чтобы повысить конверсию и средний чек заказа</td>\n",
       "      <td>7.00</td>\n",
       "    </tr>\n",
       "    <tr>\n",
       "      <th>1</th>\n",
       "      <td>Запустить собственную службу доставки, что сократит срок доставки заказов</td>\n",
       "      <td>2.00</td>\n",
       "    </tr>\n",
       "    <tr>\n",
       "      <th>5</th>\n",
       "      <td>Добавить страницу отзывов клиентов о магазине, что позволит увеличить количество заказов</td>\n",
       "      <td>1.33</td>\n",
       "    </tr>\n",
       "    <tr>\n",
       "      <th>3</th>\n",
       "      <td>Изменить структура категорий, что увеличит конверсию, т.к. пользователи быстрее найдут нужный товар</td>\n",
       "      <td>1.12</td>\n",
       "    </tr>\n",
       "    <tr>\n",
       "      <th>4</th>\n",
       "      <td>Изменить цвет фона главной страницы, чтобы увеличить вовлеченность пользователей</td>\n",
       "      <td>1.00</td>\n",
       "    </tr>\n",
       "  </tbody>\n",
       "</table>\n",
       "</div>"
      ],
      "text/plain": [
       "                                                                                                     Hypothesis  \\\n",
       "8                                                       Запустить акцию, дающую скидку на товар в день рождения   \n",
       "0            Добавить два новых канала привлечения трафика, что позволит привлекать на 30% больше пользователей   \n",
       "7              Добавить форму подписки на все основные страницы, чтобы собрать базу клиентов для email-рассылок   \n",
       "6          Показать на главной странице баннеры с актуальными акциями и распродажами, чтобы увеличить конверсию   \n",
       "2  Добавить блоки рекомендаций товаров на сайт интернет магазина, чтобы повысить конверсию и средний чек заказа   \n",
       "1                                     Запустить собственную службу доставки, что сократит срок доставки заказов   \n",
       "5                      Добавить страницу отзывов клиентов о магазине, что позволит увеличить количество заказов   \n",
       "3           Изменить структура категорий, что увеличит конверсию, т.к. пользователи быстрее найдут нужный товар   \n",
       "4                              Изменить цвет фона главной страницы, чтобы увеличить вовлеченность пользователей   \n",
       "\n",
       "     ICE  \n",
       "8  16.20  \n",
       "0  13.33  \n",
       "7  11.20  \n",
       "6   8.00  \n",
       "2   7.00  \n",
       "1   2.00  \n",
       "5   1.33  \n",
       "3   1.12  \n",
       "4   1.00  "
      ]
     },
     "execution_count": 3,
     "metadata": {},
     "output_type": "execute_result"
    }
   ],
   "source": [
    "data['ICE'] = ((data['Impact'] * data['Confidence']) / data['Efforts']).round(decimals = 2) #применение фреймворка ICE\n",
    "data[['Hypothesis', 'ICE']].sort_values(by='ICE', ascending=False)"
   ]
  },
  {
   "cell_type": "markdown",
   "metadata": {},
   "source": [
    "По фреймворку наиболее приоритетные гипотезы 8 - \"Запустить акцию, дающую скидку на товар в день рождения\", 0 - \"Добавить два новых канала привлечения трафика, что позволит привлекать на 30% больше пользователей\" и 7 - \"Добавить форму подписки на все основные страницы, чтобы собрать базу клиентов для email-рассылок\"."
   ]
  },
  {
   "cell_type": "markdown",
   "metadata": {},
   "source": [
    "<a id='2'></a>"
   ]
  },
  {
   "cell_type": "markdown",
   "metadata": {},
   "source": [
    "## Фреймворк RICE для приоритизации гипотез"
   ]
  },
  {
   "cell_type": "code",
   "execution_count": 4,
   "metadata": {},
   "outputs": [
    {
     "data": {
      "text/html": [
       "<div>\n",
       "<style scoped>\n",
       "    .dataframe tbody tr th:only-of-type {\n",
       "        vertical-align: middle;\n",
       "    }\n",
       "\n",
       "    .dataframe tbody tr th {\n",
       "        vertical-align: top;\n",
       "    }\n",
       "\n",
       "    .dataframe thead th {\n",
       "        text-align: right;\n",
       "    }\n",
       "</style>\n",
       "<table border=\"1\" class=\"dataframe\">\n",
       "  <thead>\n",
       "    <tr style=\"text-align: right;\">\n",
       "      <th></th>\n",
       "      <th>Hypothesis</th>\n",
       "      <th>RICE</th>\n",
       "    </tr>\n",
       "  </thead>\n",
       "  <tbody>\n",
       "    <tr>\n",
       "      <th>7</th>\n",
       "      <td>Добавить форму подписки на все основные страницы, чтобы собрать базу клиентов для email-рассылок</td>\n",
       "      <td>112.0</td>\n",
       "    </tr>\n",
       "    <tr>\n",
       "      <th>2</th>\n",
       "      <td>Добавить блоки рекомендаций товаров на сайт интернет магазина, чтобы повысить конверсию и средний чек заказа</td>\n",
       "      <td>56.0</td>\n",
       "    </tr>\n",
       "    <tr>\n",
       "      <th>0</th>\n",
       "      <td>Добавить два новых канала привлечения трафика, что позволит привлекать на 30% больше пользователей</td>\n",
       "      <td>40.0</td>\n",
       "    </tr>\n",
       "    <tr>\n",
       "      <th>6</th>\n",
       "      <td>Показать на главной странице баннеры с актуальными акциями и распродажами, чтобы увеличить конверсию</td>\n",
       "      <td>40.0</td>\n",
       "    </tr>\n",
       "    <tr>\n",
       "      <th>8</th>\n",
       "      <td>Запустить акцию, дающую скидку на товар в день рождения</td>\n",
       "      <td>16.2</td>\n",
       "    </tr>\n",
       "    <tr>\n",
       "      <th>3</th>\n",
       "      <td>Изменить структура категорий, что увеличит конверсию, т.к. пользователи быстрее найдут нужный товар</td>\n",
       "      <td>9.0</td>\n",
       "    </tr>\n",
       "    <tr>\n",
       "      <th>1</th>\n",
       "      <td>Запустить собственную службу доставки, что сократит срок доставки заказов</td>\n",
       "      <td>4.0</td>\n",
       "    </tr>\n",
       "    <tr>\n",
       "      <th>5</th>\n",
       "      <td>Добавить страницу отзывов клиентов о магазине, что позволит увеличить количество заказов</td>\n",
       "      <td>4.0</td>\n",
       "    </tr>\n",
       "    <tr>\n",
       "      <th>4</th>\n",
       "      <td>Изменить цвет фона главной страницы, чтобы увеличить вовлеченность пользователей</td>\n",
       "      <td>3.0</td>\n",
       "    </tr>\n",
       "  </tbody>\n",
       "</table>\n",
       "</div>"
      ],
      "text/plain": [
       "                                                                                                     Hypothesis  \\\n",
       "7              Добавить форму подписки на все основные страницы, чтобы собрать базу клиентов для email-рассылок   \n",
       "2  Добавить блоки рекомендаций товаров на сайт интернет магазина, чтобы повысить конверсию и средний чек заказа   \n",
       "0            Добавить два новых канала привлечения трафика, что позволит привлекать на 30% больше пользователей   \n",
       "6          Показать на главной странице баннеры с актуальными акциями и распродажами, чтобы увеличить конверсию   \n",
       "8                                                       Запустить акцию, дающую скидку на товар в день рождения   \n",
       "3           Изменить структура категорий, что увеличит конверсию, т.к. пользователи быстрее найдут нужный товар   \n",
       "1                                     Запустить собственную службу доставки, что сократит срок доставки заказов   \n",
       "5                      Добавить страницу отзывов клиентов о магазине, что позволит увеличить количество заказов   \n",
       "4                              Изменить цвет фона главной страницы, чтобы увеличить вовлеченность пользователей   \n",
       "\n",
       "    RICE  \n",
       "7  112.0  \n",
       "2   56.0  \n",
       "0   40.0  \n",
       "6   40.0  \n",
       "8   16.2  \n",
       "3    9.0  \n",
       "1    4.0  \n",
       "5    4.0  \n",
       "4    3.0  "
      ]
     },
     "execution_count": 4,
     "metadata": {},
     "output_type": "execute_result"
    }
   ],
   "source": [
    "data['RICE'] = ((data['Reach'] * data['Impact'] * data['Confidence']) / data['Efforts']).round(decimals = 2) #применение фреймворка RICE\n",
    "data[['Hypothesis', 'RICE']].sort_values(by='RICE', ascending=False)"
   ]
  },
  {
   "cell_type": "markdown",
   "metadata": {},
   "source": [
    "По фреймворку наиболее приоритетные гипотезы 7 - \"Добавить форму подписки на все основные страницы, чтобы собрать базу клиентов для email-рассылок\", 2 - \"Добавить блоки рекомендаций товаров на сайт интернет магазина, чтобы повысить конверсию и средний чек заказа\", 0 - \"Добавить два новых канала привлечения трафика, что позволит привлекать на 30% больше пользователей\". "
   ]
  },
  {
   "cell_type": "markdown",
   "metadata": {},
   "source": [
    "<a id='3'></a>"
   ]
  },
  {
   "cell_type": "code",
   "execution_count": 5,
   "metadata": {},
   "outputs": [
    {
     "data": {
      "text/html": [
       "<div>\n",
       "<style scoped>\n",
       "    .dataframe tbody tr th:only-of-type {\n",
       "        vertical-align: middle;\n",
       "    }\n",
       "\n",
       "    .dataframe tbody tr th {\n",
       "        vertical-align: top;\n",
       "    }\n",
       "\n",
       "    .dataframe thead th {\n",
       "        text-align: right;\n",
       "    }\n",
       "</style>\n",
       "<table border=\"1\" class=\"dataframe\">\n",
       "  <thead>\n",
       "    <tr style=\"text-align: right;\">\n",
       "      <th></th>\n",
       "      <th>Hypothesis</th>\n",
       "      <th>ICE</th>\n",
       "      <th>RICE</th>\n",
       "    </tr>\n",
       "  </thead>\n",
       "  <tbody>\n",
       "    <tr>\n",
       "      <th>7</th>\n",
       "      <td>Добавить форму подписки на все основные страницы, чтобы собрать базу клиентов для email-рассылок</td>\n",
       "      <td>11.20</td>\n",
       "      <td>112.0</td>\n",
       "    </tr>\n",
       "    <tr>\n",
       "      <th>2</th>\n",
       "      <td>Добавить блоки рекомендаций товаров на сайт интернет магазина, чтобы повысить конверсию и средний чек заказа</td>\n",
       "      <td>7.00</td>\n",
       "      <td>56.0</td>\n",
       "    </tr>\n",
       "    <tr>\n",
       "      <th>0</th>\n",
       "      <td>Добавить два новых канала привлечения трафика, что позволит привлекать на 30% больше пользователей</td>\n",
       "      <td>13.33</td>\n",
       "      <td>40.0</td>\n",
       "    </tr>\n",
       "    <tr>\n",
       "      <th>6</th>\n",
       "      <td>Показать на главной странице баннеры с актуальными акциями и распродажами, чтобы увеличить конверсию</td>\n",
       "      <td>8.00</td>\n",
       "      <td>40.0</td>\n",
       "    </tr>\n",
       "    <tr>\n",
       "      <th>8</th>\n",
       "      <td>Запустить акцию, дающую скидку на товар в день рождения</td>\n",
       "      <td>16.20</td>\n",
       "      <td>16.2</td>\n",
       "    </tr>\n",
       "    <tr>\n",
       "      <th>3</th>\n",
       "      <td>Изменить структура категорий, что увеличит конверсию, т.к. пользователи быстрее найдут нужный товар</td>\n",
       "      <td>1.12</td>\n",
       "      <td>9.0</td>\n",
       "    </tr>\n",
       "    <tr>\n",
       "      <th>1</th>\n",
       "      <td>Запустить собственную службу доставки, что сократит срок доставки заказов</td>\n",
       "      <td>2.00</td>\n",
       "      <td>4.0</td>\n",
       "    </tr>\n",
       "    <tr>\n",
       "      <th>5</th>\n",
       "      <td>Добавить страницу отзывов клиентов о магазине, что позволит увеличить количество заказов</td>\n",
       "      <td>1.33</td>\n",
       "      <td>4.0</td>\n",
       "    </tr>\n",
       "    <tr>\n",
       "      <th>4</th>\n",
       "      <td>Изменить цвет фона главной страницы, чтобы увеличить вовлеченность пользователей</td>\n",
       "      <td>1.00</td>\n",
       "      <td>3.0</td>\n",
       "    </tr>\n",
       "  </tbody>\n",
       "</table>\n",
       "</div>"
      ],
      "text/plain": [
       "                                                                                                     Hypothesis  \\\n",
       "7              Добавить форму подписки на все основные страницы, чтобы собрать базу клиентов для email-рассылок   \n",
       "2  Добавить блоки рекомендаций товаров на сайт интернет магазина, чтобы повысить конверсию и средний чек заказа   \n",
       "0            Добавить два новых канала привлечения трафика, что позволит привлекать на 30% больше пользователей   \n",
       "6          Показать на главной странице баннеры с актуальными акциями и распродажами, чтобы увеличить конверсию   \n",
       "8                                                       Запустить акцию, дающую скидку на товар в день рождения   \n",
       "3           Изменить структура категорий, что увеличит конверсию, т.к. пользователи быстрее найдут нужный товар   \n",
       "1                                     Запустить собственную службу доставки, что сократит срок доставки заказов   \n",
       "5                      Добавить страницу отзывов клиентов о магазине, что позволит увеличить количество заказов   \n",
       "4                              Изменить цвет фона главной страницы, чтобы увеличить вовлеченность пользователей   \n",
       "\n",
       "     ICE   RICE  \n",
       "7  11.20  112.0  \n",
       "2   7.00   56.0  \n",
       "0  13.33   40.0  \n",
       "6   8.00   40.0  \n",
       "8  16.20   16.2  \n",
       "3   1.12    9.0  \n",
       "1   2.00    4.0  \n",
       "5   1.33    4.0  \n",
       "4   1.00    3.0  "
      ]
     },
     "execution_count": 5,
     "metadata": {},
     "output_type": "execute_result"
    }
   ],
   "source": [
    "data[['Hypothesis', 'ICE','RICE']].sort_values(by='RICE', ascending=False) #общая таблица с приоритезацией гипотез"
   ]
  },
  {
   "cell_type": "markdown",
   "metadata": {},
   "source": [
    "Применение фреймворков ICE и RICE для приоритерзации гипотез показывает различные результаты.\n",
    "Для ICE на первые места вышли гипотезы 8 - \"Запустить акцию, дающую скидку на товар в день рождения\",  - \"Добавить два новых канала привлечения трафика, что позволит привлекать на 30% больше пользователей\" и 7 - \"Добавить форму подписки на все основные страницы, чтобы собрать базу клиентов для email-рассылок\".\n",
    "\n",
    "Для RICE на первом месте с существенным отрывом гипотеза 7 - \"Добавить форму подписки на все основные страницы, чтобы собрать базу клиентов для email-рассылок\" из-за 10 баллов параметра Reach - у гипотезы самый большой охват пользователей.\n",
    "\n",
    "Для тестирования целесообразно выбрать гипотезу 7, т.к. по RICE у нее отрыв практически в два раза от остальных гипотез, по ICE она также находится в топ-3."
   ]
  },
  {
   "cell_type": "markdown",
   "metadata": {},
   "source": [
    "<a id='4'></a>"
   ]
  },
  {
   "cell_type": "markdown",
   "metadata": {},
   "source": [
    "# Часть 2. Анализ A/B-теста"
   ]
  },
  {
   "cell_type": "markdown",
   "metadata": {},
   "source": [
    "## Подготовка данных"
   ]
  },
  {
   "cell_type": "code",
   "execution_count": 6,
   "metadata": {},
   "outputs": [
    {
     "data": {
      "text/html": [
       "<div>\n",
       "<style scoped>\n",
       "    .dataframe tbody tr th:only-of-type {\n",
       "        vertical-align: middle;\n",
       "    }\n",
       "\n",
       "    .dataframe tbody tr th {\n",
       "        vertical-align: top;\n",
       "    }\n",
       "\n",
       "    .dataframe thead th {\n",
       "        text-align: right;\n",
       "    }\n",
       "</style>\n",
       "<table border=\"1\" class=\"dataframe\">\n",
       "  <thead>\n",
       "    <tr style=\"text-align: right;\">\n",
       "      <th></th>\n",
       "      <th>transactionId</th>\n",
       "      <th>visitorId</th>\n",
       "      <th>date</th>\n",
       "      <th>revenue</th>\n",
       "      <th>group</th>\n",
       "    </tr>\n",
       "  </thead>\n",
       "  <tbody>\n",
       "    <tr>\n",
       "      <th>0</th>\n",
       "      <td>3667963787</td>\n",
       "      <td>3312258926</td>\n",
       "      <td>2019-08-15</td>\n",
       "      <td>1650</td>\n",
       "      <td>B</td>\n",
       "    </tr>\n",
       "    <tr>\n",
       "      <th>1</th>\n",
       "      <td>2804400009</td>\n",
       "      <td>3642806036</td>\n",
       "      <td>2019-08-15</td>\n",
       "      <td>730</td>\n",
       "      <td>B</td>\n",
       "    </tr>\n",
       "    <tr>\n",
       "      <th>2</th>\n",
       "      <td>2961555356</td>\n",
       "      <td>4069496402</td>\n",
       "      <td>2019-08-15</td>\n",
       "      <td>400</td>\n",
       "      <td>A</td>\n",
       "    </tr>\n",
       "    <tr>\n",
       "      <th>3</th>\n",
       "      <td>3797467345</td>\n",
       "      <td>1196621759</td>\n",
       "      <td>2019-08-15</td>\n",
       "      <td>9759</td>\n",
       "      <td>B</td>\n",
       "    </tr>\n",
       "    <tr>\n",
       "      <th>4</th>\n",
       "      <td>2282983706</td>\n",
       "      <td>2322279887</td>\n",
       "      <td>2019-08-15</td>\n",
       "      <td>2308</td>\n",
       "      <td>B</td>\n",
       "    </tr>\n",
       "  </tbody>\n",
       "</table>\n",
       "</div>"
      ],
      "text/plain": [
       "   transactionId   visitorId        date  revenue group\n",
       "0     3667963787  3312258926  2019-08-15     1650     B\n",
       "1     2804400009  3642806036  2019-08-15      730     B\n",
       "2     2961555356  4069496402  2019-08-15      400     A\n",
       "3     3797467345  1196621759  2019-08-15     9759     B\n",
       "4     2282983706  2322279887  2019-08-15     2308     B"
      ]
     },
     "execution_count": 6,
     "metadata": {},
     "output_type": "execute_result"
    }
   ],
   "source": [
    "orders = pd.read_csv('...') #откртие таблицы с заказами\n",
    "orders.head()"
   ]
  },
  {
   "cell_type": "markdown",
   "metadata": {},
   "source": [
    "Описание данных:\n",
    "- transactionId — идентификатор заказа;\n",
    "- visitorId — идентификатор пользователя, совершившего заказ;\n",
    "- date — дата, когда был совершён заказ;\n",
    "- revenue — выручка заказа;\n",
    "- group — группа A/B-теста, в которую попал заказ."
   ]
  },
  {
   "cell_type": "code",
   "execution_count": 7,
   "metadata": {
    "scrolled": true
   },
   "outputs": [
    {
     "name": "stdout",
     "output_type": "stream",
     "text": [
      "<class 'pandas.core.frame.DataFrame'>\n",
      "RangeIndex: 1197 entries, 0 to 1196\n",
      "Data columns (total 5 columns):\n",
      " #   Column         Non-Null Count  Dtype \n",
      "---  ------         --------------  ----- \n",
      " 0   transactionId  1197 non-null   int64 \n",
      " 1   visitorId      1197 non-null   int64 \n",
      " 2   date           1197 non-null   object\n",
      " 3   revenue        1197 non-null   int64 \n",
      " 4   group          1197 non-null   object\n",
      "dtypes: int64(3), object(2)\n",
      "memory usage: 46.9+ KB\n"
     ]
    }
   ],
   "source": [
    "orders.info() #просмотр информации о таблице"
   ]
  },
  {
   "cell_type": "code",
   "execution_count": 8,
   "metadata": {},
   "outputs": [
    {
     "data": {
      "text/plain": [
       "0"
      ]
     },
     "execution_count": 8,
     "metadata": {},
     "output_type": "execute_result"
    }
   ],
   "source": [
    "orders.duplicated().sum() #проверка наличия дубликатов"
   ]
  },
  {
   "cell_type": "code",
   "execution_count": 9,
   "metadata": {},
   "outputs": [],
   "source": [
    "orders['date'] = pd.to_datetime(orders['date']).dt.date #изменение типа данных"
   ]
  },
  {
   "cell_type": "markdown",
   "metadata": {},
   "source": [
    "В таблице нет пропусков и дубликатов. Заменен тип данных в столбце date."
   ]
  },
  {
   "cell_type": "code",
   "execution_count": 10,
   "metadata": {},
   "outputs": [
    {
     "data": {
      "text/html": [
       "<div>\n",
       "<style scoped>\n",
       "    .dataframe tbody tr th:only-of-type {\n",
       "        vertical-align: middle;\n",
       "    }\n",
       "\n",
       "    .dataframe tbody tr th {\n",
       "        vertical-align: top;\n",
       "    }\n",
       "\n",
       "    .dataframe thead th {\n",
       "        text-align: right;\n",
       "    }\n",
       "</style>\n",
       "<table border=\"1\" class=\"dataframe\">\n",
       "  <thead>\n",
       "    <tr style=\"text-align: right;\">\n",
       "      <th></th>\n",
       "      <th>date</th>\n",
       "      <th>group</th>\n",
       "      <th>visitors</th>\n",
       "    </tr>\n",
       "  </thead>\n",
       "  <tbody>\n",
       "    <tr>\n",
       "      <th>0</th>\n",
       "      <td>2019-08-01</td>\n",
       "      <td>A</td>\n",
       "      <td>719</td>\n",
       "    </tr>\n",
       "    <tr>\n",
       "      <th>1</th>\n",
       "      <td>2019-08-02</td>\n",
       "      <td>A</td>\n",
       "      <td>619</td>\n",
       "    </tr>\n",
       "    <tr>\n",
       "      <th>2</th>\n",
       "      <td>2019-08-03</td>\n",
       "      <td>A</td>\n",
       "      <td>507</td>\n",
       "    </tr>\n",
       "    <tr>\n",
       "      <th>3</th>\n",
       "      <td>2019-08-04</td>\n",
       "      <td>A</td>\n",
       "      <td>717</td>\n",
       "    </tr>\n",
       "    <tr>\n",
       "      <th>4</th>\n",
       "      <td>2019-08-05</td>\n",
       "      <td>A</td>\n",
       "      <td>756</td>\n",
       "    </tr>\n",
       "  </tbody>\n",
       "</table>\n",
       "</div>"
      ],
      "text/plain": [
       "         date group  visitors\n",
       "0  2019-08-01     A       719\n",
       "1  2019-08-02     A       619\n",
       "2  2019-08-03     A       507\n",
       "3  2019-08-04     A       717\n",
       "4  2019-08-05     A       756"
      ]
     },
     "execution_count": 10,
     "metadata": {},
     "output_type": "execute_result"
    }
   ],
   "source": [
    "visitors = pd.read_csv('...') #открытие таблицы с визитами\n",
    "visitors.head()"
   ]
  },
  {
   "cell_type": "code",
   "execution_count": 11,
   "metadata": {},
   "outputs": [
    {
     "name": "stdout",
     "output_type": "stream",
     "text": [
      "<class 'pandas.core.frame.DataFrame'>\n",
      "RangeIndex: 62 entries, 0 to 61\n",
      "Data columns (total 3 columns):\n",
      " #   Column    Non-Null Count  Dtype \n",
      "---  ------    --------------  ----- \n",
      " 0   date      62 non-null     object\n",
      " 1   group     62 non-null     object\n",
      " 2   visitors  62 non-null     int64 \n",
      "dtypes: int64(1), object(2)\n",
      "memory usage: 1.6+ KB\n"
     ]
    }
   ],
   "source": [
    "visitors.info() #просмотр информации о таблице"
   ]
  },
  {
   "cell_type": "code",
   "execution_count": 12,
   "metadata": {},
   "outputs": [
    {
     "data": {
      "text/plain": [
       "0"
      ]
     },
     "execution_count": 12,
     "metadata": {},
     "output_type": "execute_result"
    }
   ],
   "source": [
    "visitors.duplicated().sum() #проверка наличия дубликатов"
   ]
  },
  {
   "cell_type": "code",
   "execution_count": 13,
   "metadata": {},
   "outputs": [],
   "source": [
    "visitors['date'] = pd.to_datetime(visitors['date']).dt.date #измнение типа данных"
   ]
  },
  {
   "cell_type": "markdown",
   "metadata": {},
   "source": [
    "В таблице нет пропусков и дубликатов. Заменен тип данных в столбце date."
   ]
  },
  {
   "cell_type": "code",
   "execution_count": 14,
   "metadata": {},
   "outputs": [
    {
     "data": {
      "text/plain": [
       "array(['A', 'B'], dtype=object)"
      ]
     },
     "execution_count": 14,
     "metadata": {},
     "output_type": "execute_result"
    }
   ],
   "source": [
    "visitors['group'].unique() #просмотр количества групп в тесте"
   ]
  },
  {
   "cell_type": "code",
   "execution_count": 15,
   "metadata": {
    "scrolled": true
   },
   "outputs": [
    {
     "data": {
      "text/plain": [
       "array(['B', 'A'], dtype=object)"
      ]
     },
     "execution_count": 15,
     "metadata": {},
     "output_type": "execute_result"
    }
   ],
   "source": [
    "orders['group'].unique() #просмотр количества групп в тесте"
   ]
  },
  {
   "cell_type": "code",
   "execution_count": 16,
   "metadata": {},
   "outputs": [
    {
     "name": "stdout",
     "output_type": "stream",
     "text": [
      "2019-08-01\n",
      "2019-08-31\n"
     ]
    }
   ],
   "source": [
    "print(visitors['date'].min()) #временной интервал теста\n",
    "print(visitors['date'].max())"
   ]
  },
  {
   "cell_type": "code",
   "execution_count": 17,
   "metadata": {},
   "outputs": [
    {
     "name": "stdout",
     "output_type": "stream",
     "text": [
      "2019-08-01\n",
      "2019-08-31\n"
     ]
    }
   ],
   "source": [
    "print(orders['date'].min()) #временной интервал теста\n",
    "print(orders['date'].max())"
   ]
  },
  {
   "cell_type": "code",
   "execution_count": 18,
   "metadata": {},
   "outputs": [
    {
     "data": {
      "text/plain": [
       "group\n",
       "A    503\n",
       "B    586\n",
       "Name: visitorId, dtype: int64"
      ]
     },
     "execution_count": 18,
     "metadata": {},
     "output_type": "execute_result"
    }
   ],
   "source": [
    "orders.groupby('group')['visitorId'].nunique() #просмотр количества пользователей в каждoй группе"
   ]
  },
  {
   "cell_type": "code",
   "execution_count": 19,
   "metadata": {},
   "outputs": [],
   "source": [
    "users_a = orders.query('group == \"A\"')['visitorId'] #список visitorId группы А\n",
    "users_a = users_a.unique().tolist()"
   ]
  },
  {
   "cell_type": "code",
   "execution_count": 20,
   "metadata": {},
   "outputs": [],
   "source": [
    "users_b = orders.query('group == \"B\"')['visitorId']#список visitorId группы В\n",
    "users_b = users_b.unique().tolist()"
   ]
  },
  {
   "cell_type": "code",
   "execution_count": 21,
   "metadata": {},
   "outputs": [
    {
     "data": {
      "text/plain": [
       "58"
      ]
     },
     "execution_count": 21,
     "metadata": {},
     "output_type": "execute_result"
    }
   ],
   "source": [
    "users = users_a + users_b \n",
    "users = pd.DataFrame({'Id':users}) #таблица с пользователями\n",
    "users = users.groupby('Id')['Id'].agg(['count']).sort_values(by = 'count', ascending=False) #подсчет количества каждого Id\n",
    "len(users.query('count > 1')) #количество Id больше одного"
   ]
  },
  {
   "cell_type": "code",
   "execution_count": 22,
   "metadata": {
    "scrolled": true
   },
   "outputs": [
    {
     "data": {
      "image/png": "[encoded data removed]",
      "text/plain": [
       "<Figure size 1080x576 with 1 Axes>"
      ]
     },
     "metadata": {
      "needs_background": "light"
     },
     "output_type": "display_data"
    }
   ],
   "source": [
    "plt.figure(figsize=(15,8)) #динамика посещений по дням\n",
    "sns.barplot(x='date', y='visitors', hue='group', data=visitors) \n",
    "plt.xticks(rotation=45)\n",
    "None"
   ]
  },
  {
   "cell_type": "markdown",
   "metadata": {},
   "source": [
    "Всего в тесте две группы - А и В. В группе А 503 пользователя, в группе В - 586 пользователей. Однако обнаружено 58 пользователей, которые входят в обе группы.\n",
    "\n",
    "Временные рамки теста: с 1 по 31 августа 2019 года.\n",
    "\n",
    "Динамика визитов по дням относительно равномерна - провалы количества посещений и их пики приходятся на одни и те же даты."
   ]
  },
  {
   "cell_type": "markdown",
   "metadata": {},
   "source": [
    "<a id='5'></a>"
   ]
  },
  {
   "cell_type": "markdown",
   "metadata": {},
   "source": [
    "## График кумулятивной выручки по группам"
   ]
  },
  {
   "cell_type": "code",
   "execution_count": 23,
   "metadata": {},
   "outputs": [],
   "source": [
    "#подготовка таблиц для графика\n",
    "datesGroups = orders[['date','group']].drop_duplicates() \n",
    "ordersAggregated = datesGroups.apply(lambda x: orders[np.logical_and(orders['date'] <= x['date'], orders['group'] == x['group'])]\\\n",
    ".agg({'date' : 'max', 'group' : 'max', 'transactionId' : 'nunique', 'visitorId' : 'nunique', 'revenue' : 'sum'}), axis=1).sort_values(by=['date','group'])\n",
    "\n",
    "visitorsAggregated = datesGroups.apply(lambda x: visitors[np.logical_and(visitors['date'] <= x['date'], visitors['group'] == x['group'])].agg({'date' : 'max', 'group' : 'max', 'visitors' : 'sum'}), axis=1).sort_values(by=['date','group'])\n",
    "\n",
    "cumulativeData = ordersAggregated.merge(visitorsAggregated, left_on=['date', 'group'], right_on=['date', 'group'])\n",
    "cumulativeData.columns = ['date', 'group', 'orders', 'buyers', 'revenue', 'visitors']"
   ]
  },
  {
   "cell_type": "code",
   "execution_count": 24,
   "metadata": {},
   "outputs": [
    {
     "data": {
      "text/html": [
       "<div>\n",
       "<style scoped>\n",
       "    .dataframe tbody tr th:only-of-type {\n",
       "        vertical-align: middle;\n",
       "    }\n",
       "\n",
       "    .dataframe tbody tr th {\n",
       "        vertical-align: top;\n",
       "    }\n",
       "\n",
       "    .dataframe thead th {\n",
       "        text-align: right;\n",
       "    }\n",
       "</style>\n",
       "<table border=\"1\" class=\"dataframe\">\n",
       "  <thead>\n",
       "    <tr style=\"text-align: right;\">\n",
       "      <th></th>\n",
       "      <th>date</th>\n",
       "      <th>group</th>\n",
       "      <th>orders</th>\n",
       "      <th>buyers</th>\n",
       "      <th>revenue</th>\n",
       "      <th>visitors</th>\n",
       "    </tr>\n",
       "  </thead>\n",
       "  <tbody>\n",
       "    <tr>\n",
       "      <th>0</th>\n",
       "      <td>2019-08-01</td>\n",
       "      <td>A</td>\n",
       "      <td>24</td>\n",
       "      <td>20</td>\n",
       "      <td>148579</td>\n",
       "      <td>719</td>\n",
       "    </tr>\n",
       "    <tr>\n",
       "      <th>1</th>\n",
       "      <td>2019-08-01</td>\n",
       "      <td>B</td>\n",
       "      <td>21</td>\n",
       "      <td>20</td>\n",
       "      <td>101217</td>\n",
       "      <td>713</td>\n",
       "    </tr>\n",
       "    <tr>\n",
       "      <th>2</th>\n",
       "      <td>2019-08-02</td>\n",
       "      <td>A</td>\n",
       "      <td>44</td>\n",
       "      <td>38</td>\n",
       "      <td>242401</td>\n",
       "      <td>1338</td>\n",
       "    </tr>\n",
       "    <tr>\n",
       "      <th>3</th>\n",
       "      <td>2019-08-02</td>\n",
       "      <td>B</td>\n",
       "      <td>45</td>\n",
       "      <td>43</td>\n",
       "      <td>266748</td>\n",
       "      <td>1294</td>\n",
       "    </tr>\n",
       "    <tr>\n",
       "      <th>4</th>\n",
       "      <td>2019-08-03</td>\n",
       "      <td>A</td>\n",
       "      <td>68</td>\n",
       "      <td>62</td>\n",
       "      <td>354874</td>\n",
       "      <td>1845</td>\n",
       "    </tr>\n",
       "  </tbody>\n",
       "</table>\n",
       "</div>"
      ],
      "text/plain": [
       "         date group  orders  buyers  revenue  visitors\n",
       "0  2019-08-01     A      24      20   148579       719\n",
       "1  2019-08-01     B      21      20   101217       713\n",
       "2  2019-08-02     A      44      38   242401      1338\n",
       "3  2019-08-02     B      45      43   266748      1294\n",
       "4  2019-08-03     A      68      62   354874      1845"
      ]
     },
     "execution_count": 24,
     "metadata": {},
     "output_type": "execute_result"
    }
   ],
   "source": [
    "cumulativeData.head(5)"
   ]
  },
  {
   "cell_type": "code",
   "execution_count": 25,
   "metadata": {},
   "outputs": [
    {
     "data": {
      "image/png": "[encoded data removed]",
      "text/plain": [
       "<Figure size 1080x720 with 1 Axes>"
      ]
     },
     "metadata": {
      "needs_background": "light"
     },
     "output_type": "display_data"
    }
   ],
   "source": [
    "# фильтр таблиц\n",
    "cumulativeRevenueA = cumulativeData[cumulativeData['group']=='A'][['date','revenue', 'orders']]\n",
    "\n",
    "\n",
    "cumulativeRevenueB = cumulativeData[cumulativeData['group']=='B'][['date','revenue', 'orders']]\n",
    "\n",
    "#построение графика\n",
    "plt.figure(figsize=(15, 10))\n",
    "plt.title('График кумулятивной выручки по группам')\n",
    "plt.plot(cumulativeRevenueA['date'], cumulativeRevenueA['revenue'], label='A')\n",
    "\n",
    "\n",
    "plt.plot(cumulativeRevenueB['date'], cumulativeRevenueB['revenue'], label='B')\n",
    "plt.xlabel('Дата')\n",
    "plt.ylabel('Размер выручки')\n",
    "plt.legend() \n",
    "None"
   ]
  },
  {
   "cell_type": "markdown",
   "metadata": {},
   "source": [
    "В середине теста выручка группы B резко выросла, возможно были аномально большие заказы. Далее выручка идет без скачков - практически параллельно для двух групп.\n",
    "\n",
    "В целом в течение всего теста выручка растет."
   ]
  },
  {
   "cell_type": "markdown",
   "metadata": {},
   "source": [
    "<a id='6'></a>"
   ]
  },
  {
   "cell_type": "markdown",
   "metadata": {},
   "source": [
    "## График кумулятивного среднего чека по группам"
   ]
  },
  {
   "cell_type": "code",
   "execution_count": 26,
   "metadata": {},
   "outputs": [
    {
     "data": {
      "image/png": "[encoded data removed]",
      "text/plain": [
       "<Figure size 1080x720 with 1 Axes>"
      ]
     },
     "metadata": {
      "needs_background": "light"
     },
     "output_type": "display_data"
    }
   ],
   "source": [
    "#графики по среднему чеку\n",
    "plt.figure(figsize=(15, 10))\n",
    "plt.plot(cumulativeRevenueA['date'], cumulativeRevenueA['revenue']/cumulativeRevenueA['orders'], label='A')\n",
    "plt.plot(cumulativeRevenueB['date'], cumulativeRevenueB['revenue']/cumulativeRevenueB['orders'], label='B')\n",
    "plt.title('График кумулятивного среднего чека по группам')\n",
    "plt.xlabel('Дата')\n",
    "plt.ylabel('Средний чек')\n",
    "plt.legend()\n",
    "None"
   ]
  },
  {
   "cell_type": "markdown",
   "metadata": {},
   "source": [
    "Также виден выброс в середине теста для группы В. Группа А в начале тестирования имела низкий средний чек, затем показатели выровнялись, однако, группа В выигрывает за счет аномального заказа.\n",
    "\n",
    "Значения среднего чека для группы В постепенно снижаются."
   ]
  },
  {
   "cell_type": "markdown",
   "metadata": {},
   "source": [
    "<a id='7'></a>"
   ]
  },
  {
   "cell_type": "markdown",
   "metadata": {},
   "source": [
    "## График относительного изменения кумулятивного среднего чека"
   ]
  },
  {
   "cell_type": "code",
   "execution_count": 27,
   "metadata": {},
   "outputs": [
    {
     "data": {
      "image/png": "[encoded data removed]",
      "text/plain": [
       "<Figure size 1080x720 with 1 Axes>"
      ]
     },
     "metadata": {
      "needs_background": "light"
     },
     "output_type": "display_data"
    }
   ],
   "source": [
    "#подготовка таблицы, построение графика\n",
    "mergedCumulativeRevenue = cumulativeRevenueA.merge(cumulativeRevenueB, left_on='date', right_on='date', how='left', suffixes=['A', 'B'])\n",
    "\n",
    "plt.figure(figsize=(15, 10))\n",
    "\n",
    "plt.plot(mergedCumulativeRevenue['date'], (mergedCumulativeRevenue['revenueB']/mergedCumulativeRevenue['ordersB'])/(mergedCumulativeRevenue['revenueA']/mergedCumulativeRevenue['ordersA'])-1)\n",
    "plt.title('График относительного изменения кумулятивного среднего чека')\n",
    "plt.xlabel('Дата')\n",
    "plt.ylabel('Изменение среднего чека')\n",
    "plt.axhline(y=0, color='black', linestyle='--')\n",
    "None"
   ]
  },
  {
   "cell_type": "markdown",
   "metadata": {},
   "source": [
    "Различия в среднем чеке значительно менялись в несколько дат.\n",
    "\n",
    "Группа А имела преимущество 13 августа, затем значения группы B резко выросли, что вряд ли связано с тестируемой гипотезой."
   ]
  },
  {
   "cell_type": "markdown",
   "metadata": {},
   "source": [
    "Возможно, был крупный заказ, который был бы совершен вне зависимости от нахождения пользователя в той или иной группе."
   ]
  },
  {
   "cell_type": "markdown",
   "metadata": {},
   "source": [
    "<a id='8'></a>"
   ]
  },
  {
   "cell_type": "markdown",
   "metadata": {},
   "source": [
    "## График кумулятивной конверсии по группам"
   ]
  },
  {
   "cell_type": "code",
   "execution_count": 28,
   "metadata": {},
   "outputs": [
    {
     "data": {
      "image/png": "[encoded data removed]",
      "text/plain": [
       "<Figure size 1080x720 with 1 Axes>"
      ]
     },
     "metadata": {
      "needs_background": "light"
     },
     "output_type": "display_data"
    }
   ],
   "source": [
    "#подготовка данных, построение графика\n",
    "cumulativeData['conversion'] = cumulativeData['orders']/cumulativeData['visitors']\n",
    "\n",
    "cumulativeDataA = cumulativeData[cumulativeData['group']=='A']\n",
    "\n",
    "\n",
    "cumulativeDataB = cumulativeData[cumulativeData['group']=='B']\n",
    "plt.figure(figsize=(15, 10))\n",
    "\n",
    "plt.plot(cumulativeDataA['date'], cumulativeDataA['conversion'], label='A')\n",
    "plt.plot(cumulativeDataB['date'], cumulativeDataB['conversion'], label='B')\n",
    "plt.title('График кумулятивной конверсии по группам')\n",
    "plt.xlabel('Дата')\n",
    "plt.ylabel('Кумулятивная конверсия')\n",
    "plt.legend()\n",
    "\n",
    "#определение масштаба\n",
    "plt.axis([dt.datetime(2019, 7, 31), dt.datetime(2019, 9, 1), 0, 0.04])\n",
    "None"
   ]
  },
  {
   "cell_type": "markdown",
   "metadata": {},
   "source": [
    "В самом начале теста группа А имела большую конверсию и пиковое значение на 0.037, которого группа B так и не достигла за время теста. Однако уже через несколько дней конверсия группа В превысила конверсию группы A.\n",
    "\n",
    "Колебания конверсии продолжаются, однако в небольшом диапазоне - во второй половине теста данные стабилизировались."
   ]
  },
  {
   "cell_type": "markdown",
   "metadata": {},
   "source": [
    "<a id='9'></a>"
   ]
  },
  {
   "cell_type": "markdown",
   "metadata": {},
   "source": [
    "## График относительного изменения кумулятивной конверсии группы B к группе A. "
   ]
  },
  {
   "cell_type": "code",
   "execution_count": 29,
   "metadata": {},
   "outputs": [
    {
     "data": {
      "image/png": "[encoded data removed]",
      "text/plain": [
       "<Figure size 1080x720 with 1 Axes>"
      ]
     },
     "metadata": {
      "needs_background": "light"
     },
     "output_type": "display_data"
    }
   ],
   "source": [
    "#подготовка данных, построение графика\n",
    "mergedCumulativeConversions = cumulativeDataA[['date','conversion']].merge(cumulativeDataB[['date','conversion']], left_on='date', right_on='date', how='left', suffixes=['A', 'B'])\n",
    "plt.figure(figsize=(15, 10))\n",
    "plt.plot(mergedCumulativeConversions['date'], mergedCumulativeConversions['conversionB']/mergedCumulativeConversions['conversionA']-1, label=\"Относительный прирост конверсии группы B относительно группы A\")\n",
    "plt.title('График относительного изменения кумулятивной конверсии')\n",
    "plt.xlabel('Дата')\n",
    "plt.ylabel('Кумулятивная конверсия')\n",
    "plt.legend()\n",
    "\n",
    "plt.axhline(y=0, color='black', linestyle='--')\n",
    "plt.axhline(y=0.2, color='grey', linestyle='--')\n",
    "plt.axis([dt.datetime(2019, 8, 1), dt.datetime(2019, 8, 31), -0.5, 0.5])\n",
    "None"
   ]
  },
  {
   "cell_type": "markdown",
   "metadata": {},
   "source": [
    "Группа В с 6 дня теста показывает прирост конверсии относительно группы А. Прирост достиг 20%, затем начал снижение. К последней дате он составляет около 16%, к пиковым значениям больше не возвращался."
   ]
  },
  {
   "cell_type": "markdown",
   "metadata": {},
   "source": [
    "<a id='10'></a>"
   ]
  },
  {
   "cell_type": "markdown",
   "metadata": {},
   "source": [
    "## Точечный график количества заказов по пользователям"
   ]
  },
  {
   "cell_type": "code",
   "execution_count": 30,
   "metadata": {},
   "outputs": [],
   "source": [
    "#подготовка таблицы\n",
    "orders_users = orders.groupby('visitorId', as_index=False).agg({'transactionId': 'nunique'})\n",
    "orders_users.columns = ['userId', 'orders']"
   ]
  },
  {
   "cell_type": "code",
   "execution_count": 31,
   "metadata": {},
   "outputs": [
    {
     "data": {
      "image/png": "[encoded data removed]",
      "text/plain": [
       "<Figure size 1080x720 with 1 Axes>"
      ]
     },
     "metadata": {
      "needs_background": "light"
     },
     "output_type": "display_data"
    }
   ],
   "source": [
    "#построение графика\n",
    "x_values = pd.Series(range(0, len(orders_users)))\n",
    "plt.figure(figsize=(15, 10))\n",
    "plt.scatter(x_values, orders_users['orders'])\n",
    "plt.title('График количества заказов по пользователям')\n",
    "plt.xlabel('Пользователи')\n",
    "plt.ylabel('Количество заказов')\n",
    "None"
   ]
  },
  {
   "cell_type": "markdown",
   "metadata": {},
   "source": [
    "В основном пользователи совершают по одному заказу, также много пользователей с двумя заказами. Больше трех заказов - уже редкость."
   ]
  },
  {
   "cell_type": "markdown",
   "metadata": {},
   "source": [
    "<a id='11'></a>"
   ]
  },
  {
   "cell_type": "code",
   "execution_count": 32,
   "metadata": {},
   "outputs": [
    {
     "data": {
      "text/plain": [
       "array([2., 4.])"
      ]
     },
     "execution_count": 32,
     "metadata": {},
     "output_type": "execute_result"
    }
   ],
   "source": [
    "np.percentile(orders_users['orders'], [95, 99])"
   ]
  },
  {
   "cell_type": "markdown",
   "metadata": {},
   "source": [
    "Не более 5% пользователей совершали больше двух заказов. Не более 1% пользователей совершали более 4 заказов.\n",
    "Граница аномальных показателей - более 4 заказов."
   ]
  },
  {
   "cell_type": "markdown",
   "metadata": {},
   "source": [
    "<a id='12'></a>"
   ]
  },
  {
   "cell_type": "markdown",
   "metadata": {},
   "source": [
    "## Точечный график стоимостей заказов"
   ]
  },
  {
   "cell_type": "code",
   "execution_count": 33,
   "metadata": {},
   "outputs": [
    {
     "data": {
      "image/png": "[encoded data removed]",
      "text/plain": [
       "<Figure size 1080x720 with 1 Axes>"
      ]
     },
     "metadata": {
      "needs_background": "light"
     },
     "output_type": "display_data"
    }
   ],
   "source": [
    "x_values = pd.Series(range(0, len(orders['revenue'])))\n",
    "plt.figure(figsize=(15, 10))\n",
    "plt.ticklabel_format(style='plain')\n",
    "plt.scatter(x_values, orders['revenue'])\n",
    "plt.title('График стоимостей заказов')\n",
    "plt.xlabel('Пользователи')\n",
    "plt.ylabel('Стоимость заказа')\n",
    "None"
   ]
  },
  {
   "cell_type": "code",
   "execution_count": 34,
   "metadata": {
    "scrolled": true
   },
   "outputs": [
    {
     "data": {
      "image/png": "[encoded data removed]",
      "text/plain": [
       "<Figure size 1080x720 with 1 Axes>"
      ]
     },
     "metadata": {
      "needs_background": "light"
     },
     "output_type": "display_data"
    }
   ],
   "source": [
    "x_values = pd.Series(range(0, len(orders['revenue'])))\n",
    "plt.figure(figsize=(15, 10))\n",
    "plt.ylim(0, 100000)\n",
    "plt.scatter(x_values, orders['revenue'])\n",
    "plt.title('График стоимостей заказов')\n",
    "plt.xlabel('Пользователи')\n",
    "plt.ylabel('Стоимость заказа')\n",
    "None"
   ]
  },
  {
   "cell_type": "markdown",
   "metadata": {},
   "source": [
    "Большинство заказов в диапазоне до 20000, есть отдельные выбросы более 200000 и более 120000. "
   ]
  },
  {
   "cell_type": "markdown",
   "metadata": {},
   "source": [
    "<a id='13'></a>"
   ]
  },
  {
   "cell_type": "code",
   "execution_count": 35,
   "metadata": {
    "scrolled": true
   },
   "outputs": [
    {
     "data": {
      "text/plain": [
       "array([28000. , 58233.2])"
      ]
     },
     "execution_count": 35,
     "metadata": {},
     "output_type": "execute_result"
    }
   ],
   "source": [
    "np.percentile(orders['revenue'], [95, 99])"
   ]
  },
  {
   "cell_type": "markdown",
   "metadata": {},
   "source": [
    "Не более 5% пользователей совершали заказ дороже 28000. Не более 1% пользователей совершали заказ более, чем на 58233.2\n",
    "Граница аномальных заказов - дороже 58233.2."
   ]
  },
  {
   "cell_type": "markdown",
   "metadata": {},
   "source": [
    "<a id='14'></a>"
   ]
  },
  {
   "cell_type": "markdown",
   "metadata": {},
   "source": [
    "## Статистическая значимость различий в конверсии между группами по «сырым» данным"
   ]
  },
  {
   "cell_type": "markdown",
   "metadata": {},
   "source": [
    "Нулевая гипотеза: различий в конверсии между группами нет. \n",
    "\n",
    "Альтернативная гипотеза: различия в конверсии между группами есть.\n",
    "\n",
    "Для проверки гипотезы будет использоваться критерий Манна-Уитни."
   ]
  },
  {
   "cell_type": "code",
   "execution_count": 36,
   "metadata": {
    "scrolled": true
   },
   "outputs": [
    {
     "name": "stdout",
     "output_type": "stream",
     "text": [
      "         date  ordersPerDateA  revenuePerDateA  ordersPerDateB  \\\n",
      "0  2019-08-01              20           148579              20   \n",
      "1  2019-08-02              19            93822              23   \n",
      "2  2019-08-03              24           112473              16   \n",
      "3  2019-08-04              15            70825              16   \n",
      "4  2019-08-05              25           124218              23   \n",
      "\n",
      "   revenuePerDateB  ordersCummulativeA  revenueCummulativeA  \\\n",
      "0           101217                  20               148579   \n",
      "1           165531                  39               242401   \n",
      "2           114248                  63               354874   \n",
      "3           108571                  78               425699   \n",
      "4            92428                 103               549917   \n",
      "\n",
      "   ordersCummulativeB  revenueCummulativeB  visitorsPerDateA  \\\n",
      "0                  20               101217               719   \n",
      "1                  43               266748               619   \n",
      "2                  59               380996               507   \n",
      "3                  75               489567               717   \n",
      "4                  98               581995               756   \n",
      "\n",
      "   visitorsPerDateB  visitorsCummulativeA  visitorsCummulativeB  \n",
      "0               713                   719                   713  \n",
      "1               581                  1338                  1294  \n",
      "2               509                  1845                  1803  \n",
      "3               770                  2562                  2573  \n",
      "4               707                  3318                  3280  \n",
      "p-value 0.01679\n",
      "Нулевая гипотеза может быть отвергнута\n",
      "Относительное различие конверсии между группами 0.138\n"
     ]
    }
   ],
   "source": [
    "visitorsADaily = visitors[visitors['group'] == 'A'][['date', 'visitors']]\n",
    "visitorsADaily.columns = ['date', 'visitorsPerDateA']\n",
    "\n",
    "visitorsACummulative = visitorsADaily.apply(\n",
    "    lambda x: visitorsADaily[visitorsADaily['date'] <= x['date']].agg(\n",
    "        {'date': 'max', 'visitorsPerDateA': 'sum'}\n",
    "    ),\n",
    "    axis=1,\n",
    ")\n",
    "visitorsACummulative.columns = ['date', 'visitorsCummulativeA']\n",
    "\n",
    "visitorsBDaily = visitors[visitors['group'] == 'B'][['date', 'visitors']]\n",
    "visitorsBDaily.columns = ['date', 'visitorsPerDateB']\n",
    "\n",
    "visitorsBCummulative = visitorsBDaily.apply(\n",
    "    lambda x: visitorsBDaily[visitorsBDaily['date'] <= x['date']].agg(\n",
    "        {'date': 'max', 'visitorsPerDateB': 'sum'}\n",
    "    ),\n",
    "    axis=1,\n",
    ")\n",
    "visitorsBCummulative.columns = ['date', 'visitorsCummulativeB']\n",
    "\n",
    "ordersADaily = (\n",
    "    orders[orders['group'] == 'A'][['date', 'transactionId', 'visitorId', 'revenue']]\n",
    "    .groupby('date', as_index=False)\n",
    "    .agg({'visitorId': pd.Series.nunique, 'revenue': 'sum'})\n",
    ")\n",
    "ordersADaily.columns = ['date', 'ordersPerDateA', 'revenuePerDateA']\n",
    "\n",
    "ordersACummulative = ordersADaily.apply(\n",
    "    lambda x: ordersADaily[ordersADaily['date'] <= x['date']].agg(\n",
    "        {'date': 'max', 'ordersPerDateA': 'sum', 'revenuePerDateA': 'sum'}\n",
    "    ),\n",
    "    axis=1,\n",
    ").sort_values(by=['date'])\n",
    "ordersACummulative.columns = [\n",
    "    'date',\n",
    "    'ordersCummulativeA',\n",
    "    'revenueCummulativeA',\n",
    "]\n",
    "\n",
    "ordersBDaily = (\n",
    "    orders[orders['group'] == 'B'][['date', 'transactionId', 'visitorId', 'revenue']]\n",
    "    .groupby('date', as_index=False)\n",
    "    .agg({'visitorId': pd.Series.nunique, 'revenue': 'sum'})\n",
    ")\n",
    "ordersBDaily.columns = ['date', 'ordersPerDateB', 'revenuePerDateB']\n",
    "\n",
    "ordersBCummulative = ordersBDaily.apply(\n",
    "    lambda x: ordersBDaily[ordersBDaily['date'] <= x['date']].agg(\n",
    "        {'date': 'max', 'ordersPerDateB': 'sum', 'revenuePerDateB': 'sum'}\n",
    "    ),\n",
    "    axis=1,\n",
    ").sort_values(by=['date'])\n",
    "ordersBCummulative.columns = [\n",
    "    'date',\n",
    "    'ordersCummulativeB',\n",
    "    'revenueCummulativeB',\n",
    "]\n",
    "\n",
    "data = (\n",
    "    ordersADaily.merge(\n",
    "        ordersBDaily, left_on='date', right_on='date', how='left'\n",
    "    )\n",
    "    .merge(ordersACummulative, left_on='date', right_on='date', how='left')\n",
    "    .merge(ordersBCummulative, left_on='date', right_on='date', how='left')\n",
    "    .merge(visitorsADaily, left_on='date', right_on='date', how='left')\n",
    "    .merge(visitorsBDaily, left_on='date', right_on='date', how='left')\n",
    "    .merge(visitorsACummulative, left_on='date', right_on='date', how='left')\n",
    "    .merge(visitorsBCummulative, left_on='date', right_on='date', how='left')\n",
    ")\n",
    "\n",
    "print(data.head(5))\n",
    "ordersByUsersA = (\n",
    "    orders[orders['group'] == 'A']\n",
    "    .groupby('visitorId', as_index=False)\n",
    "    .agg({'transactionId': pd.Series.nunique})\n",
    ")\n",
    "ordersByUsersA.columns = ['userId', 'orders']\n",
    "\n",
    "ordersByUsersB = (\n",
    "    orders[orders['group'] == 'B']\n",
    "    .groupby('visitorId', as_index=False)\n",
    "    .agg({'transactionId': pd.Series.nunique})\n",
    ")\n",
    "ordersByUsersB.columns = ['userId', 'orders']\n",
    "\n",
    "sampleA = pd.concat([ordersByUsersA['orders'],pd.Series(0, index=np.arange(data['visitorsPerDateA'].sum() - len(ordersByUsersA['orders'])), name='orders')],axis=0)\n",
    "\n",
    "sampleB = pd.concat([ordersByUsersB['orders'],pd.Series(0, index=np.arange(data['visitorsPerDateB'].sum() - len(ordersByUsersB['orders'])), name='orders')],axis=0)\n",
    "\n",
    "ordersByUsersA = (\n",
    "    orders[orders['group'] == 'A']\n",
    "    .groupby('visitorId', as_index=False)\n",
    "    .agg({'transactionId': pd.Series.nunique})\n",
    ")\n",
    "ordersByUsersA.columns = ['userId', 'orders']\n",
    "\n",
    "ordersByUsersB = (\n",
    "    orders[orders['group'] == 'B']\n",
    "    .groupby('visitorId', as_index=False)\n",
    "    .agg({'transactionId': pd.Series.nunique})\n",
    ")\n",
    "ordersByUsersB.columns = ['userId', 'orders']\n",
    "\n",
    "sampleA = pd.concat(\n",
    "    [\n",
    "        ordersByUsersA['orders'],\n",
    "        pd.Series(\n",
    "            0,\n",
    "            index=np.arange(\n",
    "                data['visitorsPerDateA'].sum() - len(ordersByUsersA['orders'])\n",
    "            ),\n",
    "            name='orders',\n",
    "        ),\n",
    "    ],\n",
    "    axis=0,\n",
    ")\n",
    "\n",
    "sampleB = pd.concat(\n",
    "    [\n",
    "        ordersByUsersB['orders'],\n",
    "        pd.Series(\n",
    "            0,\n",
    "            index=np.arange(\n",
    "                data['visitorsPerDateB'].sum() - len(ordersByUsersB['orders'])\n",
    "            ),\n",
    "            name='orders',\n",
    "        ),\n",
    "    ],\n",
    "    axis=0,\n",
    ")\n",
    "\n",
    "alpha = 0.05\n",
    "p_value = stats.mannwhitneyu(sampleA, sampleB)[1]\n",
    "print(\"p-value {0:.5f}\".format(p_value))\n",
    "if p_value > alpha:\n",
    "    print('Нулевая гипотеза не может быть отвергнута')\n",
    "else:\n",
    "    print('Нулевая гипотеза может быть отвергнута')\n",
    "print(\"Относительное различие конверсии между группами {0:.3f}\".format(sampleB.mean() / sampleA.mean() - 1))"
   ]
  },
  {
   "cell_type": "markdown",
   "metadata": {},
   "source": [
    "P-value меньше 0.05 - нулевая гипотеза о том, что статистически значимых различий в конверсии между группами нет, может быть отвергнута.\n",
    "\n",
    "Относительный прирост конверсии группы В к группе А - 13.8%"
   ]
  },
  {
   "cell_type": "markdown",
   "metadata": {},
   "source": [
    "<a id='15'></a>"
   ]
  },
  {
   "cell_type": "markdown",
   "metadata": {},
   "source": [
    "## Статистическую значимость различий в среднем чеке заказа между группами по «сырым» данным"
   ]
  },
  {
   "cell_type": "markdown",
   "metadata": {},
   "source": [
    "Нулевая гипотеза: различий в среднем чеке между группами нет. \n",
    "\n",
    "Альтернативная гипотеза: различия в среднем чеке между группами есть. "
   ]
  },
  {
   "cell_type": "code",
   "execution_count": 37,
   "metadata": {},
   "outputs": [
    {
     "name": "stdout",
     "output_type": "stream",
     "text": [
      "p-value 0.729\n",
      "Нулевая гипотеза не может быть отвергнута\n",
      "Относительное различие среднего чека 0.259\n"
     ]
    }
   ],
   "source": [
    "p_value = stats.mannwhitneyu(orders[orders['group']=='A']['revenue'], orders[orders['group']=='B']['revenue'])[1]\n",
    "print('p-value {0:.3f}'.format(p_value))\n",
    "\n",
    "if p_value > alpha:\n",
    "    print('Нулевая гипотеза не может быть отвергнута')\n",
    "else:\n",
    "    print('Нулевая гипотеза может быть отвергнута')\n",
    "print('Относительное различие среднего чека {0:.3f}'.format(orders[orders['group']=='B']['revenue'].mean()/orders[orders['group']=='A']['revenue'].mean()-1)) "
   ]
  },
  {
   "cell_type": "markdown",
   "metadata": {},
   "source": [
    "P-value больше 0.05 - нулевая гипотеза не отвергается, различий в среднем чеке между группами нет.\n",
    "Однако средний чек группы В выше среднего чека группы А на 25.9% - эти различия были получены случайно."
   ]
  },
  {
   "cell_type": "markdown",
   "metadata": {},
   "source": [
    "<a id='16'></a>"
   ]
  },
  {
   "cell_type": "markdown",
   "metadata": {},
   "source": [
    "## Статистическая значимость различий в конверсии между группами по «очищенным» данным"
   ]
  },
  {
   "cell_type": "markdown",
   "metadata": {},
   "source": [
    "Очистка данных: в очищенных данных оставим пользователей, которые совершили не более четырех заказов и заказы которых не дороже 58233.2."
   ]
  },
  {
   "cell_type": "code",
   "execution_count": 38,
   "metadata": {},
   "outputs": [
    {
     "name": "stdout",
     "output_type": "stream",
     "text": [
      "1099     148427295\n",
      "949      887908475\n",
      "744      888512513\n",
      "1103    1164614297\n",
      "1136    1307669133\n",
      "dtype: int64\n",
      "15\n"
     ]
    }
   ],
   "source": [
    "#создание таблицы с аномальными пользователями\n",
    "abnormal_orders = 4\n",
    "abnormal_revenue = 58233.2\n",
    "usersWithManyOrders = pd.concat(\n",
    "    [\n",
    "        ordersByUsersA[ordersByUsersA['orders'] > abnormal_orders]['userId'],\n",
    "        ordersByUsersB[ordersByUsersB['orders'] > abnormal_orders]['userId'],\n",
    "    ],\n",
    "    axis=0,\n",
    ")\n",
    "usersWithExpensiveOrders = orders[orders['revenue'] > abnormal_revenue]['visitorId']\n",
    "abnormalUsers = (\n",
    "    pd.concat([usersWithManyOrders, usersWithExpensiveOrders], axis=0)\n",
    "    .drop_duplicates()\n",
    "    .sort_values()\n",
    ")\n",
    "print(abnormalUsers.head(5)) #просмотр объединенной таблицы\n",
    "print(abnormalUsers.shape[0]) #просмотр количества пользователей"
   ]
  },
  {
   "cell_type": "markdown",
   "metadata": {},
   "source": [
    "Аномальных пользователей 15 человек."
   ]
  },
  {
   "cell_type": "markdown",
   "metadata": {},
   "source": [
    "Нулевая гипотеза: различий в конверсии между группами нет. \n",
    "\n",
    "Альтернативная гипотеза: различия в конверсии между группами есть.\n",
    "\n",
    "Для проверки гипотезы будет использоваться критерий Манна-Уитни."
   ]
  },
  {
   "cell_type": "code",
   "execution_count": 39,
   "metadata": {},
   "outputs": [],
   "source": [
    "#фильтрация групп теста\n",
    "sampleAFiltered = pd.concat(\n",
    "    [\n",
    "        ordersByUsersA[\n",
    "            np.logical_not(ordersByUsersA['userId'].isin(abnormalUsers))\n",
    "        ]['orders'],\n",
    "        pd.Series(\n",
    "            0,\n",
    "            index=np.arange(\n",
    "                data['visitorsPerDateA'].sum() - len(ordersByUsersA['orders'])\n",
    "            ),\n",
    "            name='orders',\n",
    "        ),\n",
    "    ],\n",
    "    axis=0,\n",
    ")\n",
    "\n",
    "sampleBFiltered = pd.concat(\n",
    "    [\n",
    "        ordersByUsersB[\n",
    "            np.logical_not(ordersByUsersB['userId'].isin(abnormalUsers))\n",
    "        ]['orders'],\n",
    "        pd.Series(\n",
    "            0,\n",
    "            index=np.arange(\n",
    "                data['visitorsPerDateB'].sum() - len(ordersByUsersB['orders'])\n",
    "            ),\n",
    "            name='orders',\n",
    "        ),\n",
    "    ],\n",
    "    axis=0,\n",
    ") \n",
    "p_value = stats.mannwhitneyu(sampleAFiltered, sampleBFiltered)[1]"
   ]
  },
  {
   "cell_type": "code",
   "execution_count": 40,
   "metadata": {},
   "outputs": [
    {
     "name": "stdout",
     "output_type": "stream",
     "text": [
      "p-value 0.014\n",
      "Нулевая гипотеза может быть отвергнута\n",
      "Относительное различие конверсии между группами 0.153\n"
     ]
    }
   ],
   "source": [
    "print('p-value {0:.3f}'.format(p_value))\n",
    "if p_value > alpha:\n",
    "    print('Нулевая гипотеза не может быть отвергнута')\n",
    "else:\n",
    "    print('Нулевая гипотеза может быть отвергнута')\n",
    "print('Относительное различие конверсии между группами {0:.3f}'.format(sampleBFiltered.mean()/sampleAFiltered.mean()-1)) "
   ]
  },
  {
   "cell_type": "markdown",
   "metadata": {},
   "source": [
    "По очищенным данным P-value еще уменьшился до 0.014 (по сырым - 0.016). Нулевая гипотеза о том, что статистически значимых различий в конверсии между группами нет, может быть отвергнута.\n",
    "\n",
    "Относительный прирост конверсии группы В к группе А по очищенным даным 15,3% (по сырым - 13.8%).\n",
    "\n",
    "Если улучшение показателей, но незначительное.\n"
   ]
  },
  {
   "cell_type": "markdown",
   "metadata": {},
   "source": [
    "<a id='17'></a>"
   ]
  },
  {
   "cell_type": "markdown",
   "metadata": {},
   "source": [
    "## Статистическая значимость различий в среднем чеке заказа между группами по «очищенным» данным"
   ]
  },
  {
   "cell_type": "code",
   "execution_count": 41,
   "metadata": {},
   "outputs": [
    {
     "name": "stdout",
     "output_type": "stream",
     "text": [
      "p-value 0.851\n",
      "Нулевая гипотеза не может быть отвергнута\n",
      "Относительное различие среднего чека -0.006\n"
     ]
    }
   ],
   "source": [
    "p_value = stats.mannwhitneyu(\n",
    "            orders[\n",
    "                np.logical_and(\n",
    "                    orders['group'] == 'A',\n",
    "                    np.logical_not(orders['visitorId'].isin(abnormalUsers)),\n",
    "                )\n",
    "            ]['revenue'],\n",
    "            orders[\n",
    "                np.logical_and(\n",
    "                    orders['group'] == 'B',\n",
    "                    np.logical_not(orders['visitorId'].isin(abnormalUsers)),\n",
    "                )\n",
    "            ]['revenue'],\n",
    "        )[1]\n",
    "print('p-value {0:.3f}'.format(p_value))\n",
    "\n",
    "if p_value > alpha:\n",
    "    print('Нулевая гипотеза не может быть отвергнута')\n",
    "else:\n",
    "    print('Нулевая гипотеза может быть отвергнута')\n",
    "print(\n",
    "    'Относительное различие среднего чека {0:.3f}'.format(\n",
    "        orders[\n",
    "            np.logical_and(\n",
    "                orders['group'] == 'B',\n",
    "                np.logical_not(orders['visitorId'].isin(abnormalUsers)),\n",
    "            )\n",
    "        ]['revenue'].mean()\n",
    "        / orders[\n",
    "            np.logical_and(\n",
    "                orders['group'] == 'A',\n",
    "                np.logical_not(orders['visitorId'].isin(abnormalUsers)),\n",
    "            )\n",
    "        ]['revenue'].mean()\n",
    "        - 1\n",
    "    )\n",
    ") "
   ]
  },
  {
   "cell_type": "markdown",
   "metadata": {},
   "source": [
    "По очищенным данным p-value стал больше, что дает больше еще оснований не отвергать нулевую гипотезу, различий в среднем чеке нет.\n",
    "\n",
    "Относительное различие среднего чека кардинально изменилось - по очищенным данным у группы В нет преимуществ перед группой А, более того, у группы А средний чек больше на 0.6%."
   ]
  },
  {
   "cell_type": "markdown",
   "metadata": {},
   "source": [
    "Таким образом, есть статистическое различие между конверсиями групп, группа В показывает прирост конверсии и по сырым, и по очищенным данным.\n",
    "Однако статистически значимого различия в среднем чеке нет, по сырым данным различие в среднем чеке было в 25.9%, что было вкладом аномальных пользователей. После очистки группа А показывает чуть больший средний чек.\n"
   ]
  },
  {
   "cell_type": "markdown",
   "metadata": {},
   "source": [
    "<a id='18'></a>"
   ]
  },
  {
   "cell_type": "markdown",
   "metadata": {},
   "source": [
    "## Решение по результатам теста"
   ]
  },
  {
   "cell_type": "markdown",
   "metadata": {},
   "source": [
    "Тест неоходимо остановить, зафиксировав победу группы В - несмотря на то, что статистической разницы в средних чеках не обнаружено, конверсия пользователей из группы В оказалась выше, чем конверсия пользователей из группы А."
   ]
  }
 ],
 "metadata": {
  "ExecuteTimeLog": [
   {
    "duration": 61,
    "start_time": "2022-05-27T15:16:14.762Z"
   },
   {
    "duration": 402,
    "start_time": "2022-05-27T15:16:17.902Z"
   },
   {
    "duration": 67,
    "start_time": "2022-05-27T15:16:18.400Z"
   },
   {
    "duration": 122,
    "start_time": "2022-05-27T15:17:29.285Z"
   },
   {
    "duration": 10,
    "start_time": "2022-05-27T15:18:28.856Z"
   },
   {
    "duration": 174,
    "start_time": "2022-05-27T16:22:16.178Z"
   },
   {
    "duration": 63,
    "start_time": "2022-05-27T16:23:21.318Z"
   },
   {
    "duration": 11,
    "start_time": "2022-05-27T16:23:47.968Z"
   },
   {
    "duration": 13,
    "start_time": "2022-05-27T16:24:41.948Z"
   },
   {
    "duration": 5,
    "start_time": "2022-05-27T16:28:59.353Z"
   },
   {
    "duration": 10,
    "start_time": "2022-05-27T16:29:10.167Z"
   },
   {
    "duration": 9,
    "start_time": "2022-05-27T16:29:23.364Z"
   },
   {
    "duration": 3,
    "start_time": "2022-05-27T16:30:06.687Z"
   },
   {
    "duration": 11,
    "start_time": "2022-05-27T16:30:07.386Z"
   },
   {
    "duration": 3,
    "start_time": "2022-05-27T16:32:07.883Z"
   },
   {
    "duration": 52,
    "start_time": "2022-05-27T16:33:19.078Z"
   },
   {
    "duration": 276,
    "start_time": "2022-05-27T16:35:56.568Z"
   },
   {
    "duration": 10,
    "start_time": "2022-05-27T16:36:08.990Z"
   },
   {
    "duration": 13,
    "start_time": "2022-05-27T16:37:25.127Z"
   },
   {
    "duration": 591,
    "start_time": "2022-05-27T16:37:46.060Z"
   },
   {
    "duration": 284,
    "start_time": "2022-05-27T16:37:51.596Z"
   },
   {
    "duration": 173,
    "start_time": "2022-05-27T16:42:14.985Z"
   },
   {
    "duration": 306,
    "start_time": "2022-05-27T16:44:24.672Z"
   },
   {
    "duration": 156,
    "start_time": "2022-05-27T16:46:26.785Z"
   },
   {
    "duration": 198,
    "start_time": "2022-05-27T16:46:39.062Z"
   },
   {
    "duration": 167,
    "start_time": "2022-05-27T17:29:29.607Z"
   },
   {
    "duration": 321,
    "start_time": "2022-05-27T17:31:00.356Z"
   },
   {
    "duration": 326,
    "start_time": "2022-05-27T17:31:14.764Z"
   },
   {
    "duration": 248,
    "start_time": "2022-05-27T17:31:35.652Z"
   },
   {
    "duration": 354,
    "start_time": "2022-05-27T17:31:54.154Z"
   },
   {
    "duration": 10,
    "start_time": "2022-05-27T17:33:06.306Z"
   },
   {
    "duration": 4,
    "start_time": "2022-05-27T17:33:36.095Z"
   },
   {
    "duration": 4,
    "start_time": "2022-05-27T17:34:47.165Z"
   },
   {
    "duration": 184,
    "start_time": "2022-05-27T17:34:55.395Z"
   },
   {
    "duration": 230,
    "start_time": "2022-05-27T17:36:30.484Z"
   },
   {
    "duration": 185,
    "start_time": "2022-05-27T17:40:12.308Z"
   },
   {
    "duration": 217,
    "start_time": "2022-05-27T17:40:28.092Z"
   },
   {
    "duration": 238,
    "start_time": "2022-05-27T17:40:46.926Z"
   },
   {
    "duration": 249,
    "start_time": "2022-05-27T17:40:57.584Z"
   },
   {
    "duration": 320,
    "start_time": "2022-05-27T17:41:03.489Z"
   },
   {
    "duration": 344,
    "start_time": "2022-05-27T17:43:22.169Z"
   },
   {
    "duration": 376,
    "start_time": "2022-05-27T17:43:49.810Z"
   },
   {
    "duration": 283,
    "start_time": "2022-05-27T17:45:16.425Z"
   },
   {
    "duration": 372,
    "start_time": "2022-05-27T17:45:35.665Z"
   },
   {
    "duration": 311,
    "start_time": "2022-05-27T17:45:47.271Z"
   },
   {
    "duration": 120,
    "start_time": "2022-05-27T17:51:18.169Z"
   },
   {
    "duration": 6,
    "start_time": "2022-05-27T17:52:28.020Z"
   },
   {
    "duration": 102,
    "start_time": "2022-05-27T17:52:41.190Z"
   },
   {
    "duration": 6,
    "start_time": "2022-05-27T17:55:59.323Z"
   },
   {
    "duration": 23,
    "start_time": "2022-05-27T17:57:26.013Z"
   },
   {
    "duration": 6,
    "start_time": "2022-05-27T18:01:10.479Z"
   },
   {
    "duration": 136,
    "start_time": "2022-05-27T19:20:31.355Z"
   },
   {
    "duration": 138,
    "start_time": "2022-05-27T19:21:23.300Z"
   },
   {
    "duration": 6,
    "start_time": "2022-05-27T19:22:15.055Z"
   },
   {
    "duration": 106,
    "start_time": "2022-05-27T19:28:14.786Z"
   },
   {
    "duration": 123,
    "start_time": "2022-05-27T19:29:14.638Z"
   },
   {
    "duration": 352,
    "start_time": "2022-05-27T19:30:54.522Z"
   },
   {
    "duration": 493,
    "start_time": "2022-05-27T19:31:29.726Z"
   },
   {
    "duration": 657,
    "start_time": "2022-05-27T19:31:49.700Z"
   },
   {
    "duration": 510,
    "start_time": "2022-05-27T19:31:55.602Z"
   },
   {
    "duration": 475,
    "start_time": "2022-05-27T19:33:19.475Z"
   },
   {
    "duration": 490,
    "start_time": "2022-05-27T19:33:47.759Z"
   },
   {
    "duration": 12,
    "start_time": "2022-05-27T19:40:07.637Z"
   },
   {
    "duration": 10,
    "start_time": "2022-05-27T19:40:51.723Z"
   },
   {
    "duration": 1278,
    "start_time": "2022-05-28T10:19:58.764Z"
   },
   {
    "duration": 75,
    "start_time": "2022-05-28T10:20:00.044Z"
   },
   {
    "duration": 11,
    "start_time": "2022-05-28T10:20:00.121Z"
   },
   {
    "duration": 10,
    "start_time": "2022-05-28T10:20:00.134Z"
   },
   {
    "duration": 93,
    "start_time": "2022-05-28T10:20:00.145Z"
   },
   {
    "duration": 11,
    "start_time": "2022-05-28T10:20:00.239Z"
   },
   {
    "duration": 20,
    "start_time": "2022-05-28T10:20:00.252Z"
   },
   {
    "duration": 70,
    "start_time": "2022-05-28T10:20:00.274Z"
   },
   {
    "duration": 12,
    "start_time": "2022-05-28T10:20:00.346Z"
   },
   {
    "duration": 26,
    "start_time": "2022-05-28T10:20:00.360Z"
   },
   {
    "duration": 312,
    "start_time": "2022-05-28T10:20:00.388Z"
   },
   {
    "duration": 11,
    "start_time": "2022-05-28T10:20:00.702Z"
   },
   {
    "duration": 381,
    "start_time": "2022-05-28T10:20:00.715Z"
   },
   {
    "duration": 308,
    "start_time": "2022-05-28T10:20:01.098Z"
   },
   {
    "duration": 370,
    "start_time": "2022-05-28T10:20:01.408Z"
   },
   {
    "duration": 237,
    "start_time": "2022-05-28T10:20:01.780Z"
   },
   {
    "duration": 333,
    "start_time": "2022-05-28T10:20:02.019Z"
   },
   {
    "duration": 9,
    "start_time": "2022-05-28T10:20:02.354Z"
   },
   {
    "duration": 162,
    "start_time": "2022-05-28T10:20:02.365Z"
   },
   {
    "duration": 8,
    "start_time": "2022-05-28T10:20:02.529Z"
   },
   {
    "duration": 18,
    "start_time": "2022-05-28T10:20:02.539Z"
   },
   {
    "duration": 192,
    "start_time": "2022-05-28T10:20:02.558Z"
   },
   {
    "duration": 7,
    "start_time": "2022-05-28T10:20:02.752Z"
   },
   {
    "duration": 542,
    "start_time": "2022-05-28T10:20:02.761Z"
   },
   {
    "duration": 11,
    "start_time": "2022-05-28T10:20:03.304Z"
   },
   {
    "duration": 476,
    "start_time": "2022-05-28T10:25:35.650Z"
   },
   {
    "duration": 9,
    "start_time": "2022-05-28T10:31:29.863Z"
   },
   {
    "duration": 12,
    "start_time": "2022-05-28T10:31:36.525Z"
   },
   {
    "duration": 9,
    "start_time": "2022-05-28T10:31:42.083Z"
   },
   {
    "duration": 11,
    "start_time": "2022-05-28T10:32:13.944Z"
   },
   {
    "duration": 397,
    "start_time": "2022-05-28T10:32:24.256Z"
   },
   {
    "duration": 12,
    "start_time": "2022-05-28T10:32:32.069Z"
   },
   {
    "duration": 13,
    "start_time": "2022-05-28T10:34:34.591Z"
   },
   {
    "duration": 4,
    "start_time": "2022-05-28T10:34:41.434Z"
   },
   {
    "duration": 5,
    "start_time": "2022-05-28T10:34:51.744Z"
   },
   {
    "duration": 9,
    "start_time": "2022-05-28T10:35:04.416Z"
   },
   {
    "duration": 9,
    "start_time": "2022-05-28T10:35:07.921Z"
   },
   {
    "duration": 5,
    "start_time": "2022-05-28T10:35:25.349Z"
   },
   {
    "duration": 9,
    "start_time": "2022-05-28T10:37:29.360Z"
   },
   {
    "duration": 11,
    "start_time": "2022-05-28T10:39:36.948Z"
   },
   {
    "duration": 28,
    "start_time": "2022-05-28T10:41:17.543Z"
   },
   {
    "duration": 26,
    "start_time": "2022-05-28T10:41:25.237Z"
   },
   {
    "duration": 433,
    "start_time": "2022-05-28T10:46:19.541Z"
   },
   {
    "duration": 13,
    "start_time": "2022-05-28T10:47:02.174Z"
   },
   {
    "duration": 46,
    "start_time": "2022-05-28T11:06:56.171Z"
   },
   {
    "duration": 1072,
    "start_time": "2022-05-28T16:15:31.625Z"
   },
   {
    "duration": 54,
    "start_time": "2022-05-28T16:15:32.699Z"
   },
   {
    "duration": 11,
    "start_time": "2022-05-28T16:15:32.755Z"
   },
   {
    "duration": 13,
    "start_time": "2022-05-28T16:15:32.768Z"
   },
   {
    "duration": 81,
    "start_time": "2022-05-28T16:15:32.783Z"
   },
   {
    "duration": 11,
    "start_time": "2022-05-28T16:15:32.865Z"
   },
   {
    "duration": 29,
    "start_time": "2022-05-28T16:15:32.878Z"
   },
   {
    "duration": 65,
    "start_time": "2022-05-28T16:15:32.909Z"
   },
   {
    "duration": 10,
    "start_time": "2022-05-28T16:15:32.975Z"
   },
   {
    "duration": 9,
    "start_time": "2022-05-28T16:15:32.986Z"
   },
   {
    "duration": 288,
    "start_time": "2022-05-28T16:15:32.997Z"
   },
   {
    "duration": 12,
    "start_time": "2022-05-28T16:15:33.287Z"
   },
   {
    "duration": 317,
    "start_time": "2022-05-28T16:15:33.300Z"
   },
   {
    "duration": 268,
    "start_time": "2022-05-28T16:15:33.619Z"
   },
   {
    "duration": 307,
    "start_time": "2022-05-28T16:15:33.889Z"
   },
   {
    "duration": 214,
    "start_time": "2022-05-28T16:15:34.198Z"
   },
   {
    "duration": 297,
    "start_time": "2022-05-28T16:15:34.414Z"
   },
   {
    "duration": 6,
    "start_time": "2022-05-28T16:15:34.713Z"
   },
   {
    "duration": 132,
    "start_time": "2022-05-28T16:15:34.721Z"
   },
   {
    "duration": 6,
    "start_time": "2022-05-28T16:15:34.855Z"
   },
   {
    "duration": 11,
    "start_time": "2022-05-28T16:15:34.862Z"
   },
   {
    "duration": 167,
    "start_time": "2022-05-28T16:15:34.874Z"
   },
   {
    "duration": 4,
    "start_time": "2022-05-28T16:15:35.043Z"
   },
   {
    "duration": 483,
    "start_time": "2022-05-28T16:15:35.048Z"
   },
   {
    "duration": 9,
    "start_time": "2022-05-28T16:15:35.533Z"
   },
   {
    "duration": 15,
    "start_time": "2022-05-28T16:15:35.544Z"
   },
   {
    "duration": 34,
    "start_time": "2022-05-28T16:15:35.561Z"
   },
   {
    "duration": 12,
    "start_time": "2022-05-28T16:15:35.597Z"
   },
   {
    "duration": 63,
    "start_time": "2022-05-28T16:15:35.611Z"
   },
   {
    "duration": 13,
    "start_time": "2022-05-28T16:15:35.676Z"
   },
   {
    "duration": 569,
    "start_time": "2022-05-28T16:38:31.776Z"
   },
   {
    "duration": 3,
    "start_time": "2022-05-28T16:38:50.100Z"
   },
   {
    "duration": 31,
    "start_time": "2022-05-28T16:38:50.620Z"
   },
   {
    "duration": 11,
    "start_time": "2022-05-28T16:38:53.391Z"
   },
   {
    "duration": 1360,
    "start_time": "2022-05-30T05:14:59.640Z"
   },
   {
    "duration": 87,
    "start_time": "2022-05-30T05:15:01.003Z"
   },
   {
    "duration": 14,
    "start_time": "2022-05-30T05:15:01.095Z"
   },
   {
    "duration": 17,
    "start_time": "2022-05-30T05:15:01.112Z"
   },
   {
    "duration": 112,
    "start_time": "2022-05-30T05:15:01.130Z"
   },
   {
    "duration": 46,
    "start_time": "2022-05-30T05:15:01.244Z"
   },
   {
    "duration": 27,
    "start_time": "2022-05-30T05:15:01.292Z"
   },
   {
    "duration": 93,
    "start_time": "2022-05-30T05:15:01.320Z"
   },
   {
    "duration": 9,
    "start_time": "2022-05-30T05:15:01.415Z"
   },
   {
    "duration": 8,
    "start_time": "2022-05-30T05:15:01.426Z"
   },
   {
    "duration": 347,
    "start_time": "2022-05-30T05:15:01.435Z"
   },
   {
    "duration": 12,
    "start_time": "2022-05-30T05:15:01.785Z"
   },
   {
    "duration": 415,
    "start_time": "2022-05-30T05:15:01.799Z"
   },
   {
    "duration": 319,
    "start_time": "2022-05-30T05:15:02.216Z"
   },
   {
    "duration": 385,
    "start_time": "2022-05-30T05:15:02.536Z"
   },
   {
    "duration": 269,
    "start_time": "2022-05-30T05:15:02.923Z"
   },
   {
    "duration": 312,
    "start_time": "2022-05-30T05:15:03.194Z"
   },
   {
    "duration": 6,
    "start_time": "2022-05-30T05:15:03.508Z"
   },
   {
    "duration": 143,
    "start_time": "2022-05-30T05:15:03.516Z"
   },
   {
    "duration": 8,
    "start_time": "2022-05-30T05:15:03.668Z"
   },
   {
    "duration": 27,
    "start_time": "2022-05-30T05:15:03.678Z"
   },
   {
    "duration": 164,
    "start_time": "2022-05-30T05:15:03.707Z"
   },
   {
    "duration": 6,
    "start_time": "2022-05-30T05:15:03.873Z"
   },
   {
    "duration": 600,
    "start_time": "2022-05-30T05:15:03.881Z"
   },
   {
    "duration": 13,
    "start_time": "2022-05-30T05:15:04.486Z"
   },
   {
    "duration": 10,
    "start_time": "2022-05-30T05:15:04.500Z"
   },
   {
    "duration": 12,
    "start_time": "2022-05-30T05:15:04.512Z"
   },
   {
    "duration": 8,
    "start_time": "2022-05-30T05:15:04.527Z"
   },
   {
    "duration": 80,
    "start_time": "2022-05-30T05:15:04.536Z"
   },
   {
    "duration": 14,
    "start_time": "2022-05-30T05:15:04.617Z"
   },
   {
    "duration": 30,
    "start_time": "2022-05-30T05:16:19.698Z"
   },
   {
    "duration": 27,
    "start_time": "2022-05-30T05:16:50.957Z"
   },
   {
    "duration": 12,
    "start_time": "2022-05-30T05:17:06.780Z"
   },
   {
    "duration": 108,
    "start_time": "2022-05-30T05:22:06.543Z"
   },
   {
    "duration": 204,
    "start_time": "2022-05-30T05:22:15.177Z"
   },
   {
    "duration": 226,
    "start_time": "2022-05-30T05:22:21.253Z"
   },
   {
    "duration": 247,
    "start_time": "2022-05-30T05:23:57.885Z"
   },
   {
    "duration": 310,
    "start_time": "2022-05-30T05:26:32.512Z"
   },
   {
    "duration": 284,
    "start_time": "2022-05-30T05:30:00.115Z"
   },
   {
    "duration": 307,
    "start_time": "2022-05-30T05:31:36.212Z"
   },
   {
    "duration": 414,
    "start_time": "2022-05-30T05:31:43.839Z"
   },
   {
    "duration": 136,
    "start_time": "2022-05-30T05:33:55.456Z"
   },
   {
    "duration": 170,
    "start_time": "2022-05-30T05:35:56.646Z"
   },
   {
    "duration": 1157,
    "start_time": "2022-05-30T11:15:31.284Z"
   },
   {
    "duration": 70,
    "start_time": "2022-05-30T11:15:32.443Z"
   },
   {
    "duration": 10,
    "start_time": "2022-05-30T11:15:32.514Z"
   },
   {
    "duration": 9,
    "start_time": "2022-05-30T11:15:32.525Z"
   },
   {
    "duration": 88,
    "start_time": "2022-05-30T11:15:32.536Z"
   },
   {
    "duration": 10,
    "start_time": "2022-05-30T11:15:32.626Z"
   },
   {
    "duration": 6,
    "start_time": "2022-05-30T11:15:32.637Z"
   },
   {
    "duration": 56,
    "start_time": "2022-05-30T11:15:32.644Z"
   },
   {
    "duration": 8,
    "start_time": "2022-05-30T11:15:32.702Z"
   },
   {
    "duration": 6,
    "start_time": "2022-05-30T11:15:32.711Z"
   },
   {
    "duration": 313,
    "start_time": "2022-05-30T11:15:32.718Z"
   },
   {
    "duration": 7,
    "start_time": "2022-05-30T11:15:33.033Z"
   },
   {
    "duration": 363,
    "start_time": "2022-05-30T11:15:33.041Z"
   },
   {
    "duration": 196,
    "start_time": "2022-05-30T11:15:33.407Z"
   },
   {
    "duration": 344,
    "start_time": "2022-05-30T11:15:33.605Z"
   },
   {
    "duration": 4,
    "start_time": "2022-05-30T11:15:33.950Z"
   },
   {
    "duration": 1,
    "start_time": "2022-05-30T11:15:33.955Z"
   },
   {
    "duration": 0,
    "start_time": "2022-05-30T11:15:33.957Z"
   },
   {
    "duration": 0,
    "start_time": "2022-05-30T11:15:33.958Z"
   },
   {
    "duration": 0,
    "start_time": "2022-05-30T11:15:33.960Z"
   },
   {
    "duration": 0,
    "start_time": "2022-05-30T11:15:33.975Z"
   },
   {
    "duration": 0,
    "start_time": "2022-05-30T11:15:33.976Z"
   },
   {
    "duration": 0,
    "start_time": "2022-05-30T11:15:33.977Z"
   },
   {
    "duration": 0,
    "start_time": "2022-05-30T11:15:33.977Z"
   },
   {
    "duration": 0,
    "start_time": "2022-05-30T11:15:33.978Z"
   },
   {
    "duration": 0,
    "start_time": "2022-05-30T11:15:33.980Z"
   },
   {
    "duration": 0,
    "start_time": "2022-05-30T11:15:33.981Z"
   },
   {
    "duration": 0,
    "start_time": "2022-05-30T11:15:33.982Z"
   },
   {
    "duration": 0,
    "start_time": "2022-05-30T11:15:33.983Z"
   },
   {
    "duration": 0,
    "start_time": "2022-05-30T11:15:33.985Z"
   },
   {
    "duration": 177,
    "start_time": "2022-05-30T11:16:35.935Z"
   },
   {
    "duration": 268,
    "start_time": "2022-05-30T11:16:38.621Z"
   },
   {
    "duration": 32,
    "start_time": "2022-05-30T11:16:39.836Z"
   },
   {
    "duration": 6,
    "start_time": "2022-05-30T11:16:45.498Z"
   },
   {
    "duration": 111,
    "start_time": "2022-05-30T11:16:46.195Z"
   },
   {
    "duration": 4,
    "start_time": "2022-05-30T11:16:49.408Z"
   },
   {
    "duration": 133,
    "start_time": "2022-05-30T11:16:52.095Z"
   },
   {
    "duration": 4,
    "start_time": "2022-05-30T11:16:54.691Z"
   },
   {
    "duration": 444,
    "start_time": "2022-05-30T11:16:57.387Z"
   },
   {
    "duration": 10,
    "start_time": "2022-05-30T11:17:00.287Z"
   },
   {
    "duration": 12,
    "start_time": "2022-05-30T11:17:02.845Z"
   },
   {
    "duration": 8,
    "start_time": "2022-05-30T11:17:03.922Z"
   },
   {
    "duration": 25,
    "start_time": "2022-05-30T11:17:04.457Z"
   },
   {
    "duration": 11,
    "start_time": "2022-05-30T11:17:06.542Z"
   },
   {
    "duration": 1494,
    "start_time": "2022-05-31T07:44:20.153Z"
   },
   {
    "duration": 61,
    "start_time": "2022-05-31T07:44:21.663Z"
   },
   {
    "duration": 25,
    "start_time": "2022-05-31T07:44:21.725Z"
   },
   {
    "duration": 42,
    "start_time": "2022-05-31T07:44:21.754Z"
   },
   {
    "duration": 93,
    "start_time": "2022-05-31T07:44:21.800Z"
   },
   {
    "duration": 18,
    "start_time": "2022-05-31T07:44:21.897Z"
   },
   {
    "duration": 24,
    "start_time": "2022-05-31T07:44:21.917Z"
   },
   {
    "duration": 110,
    "start_time": "2022-05-31T07:44:21.949Z"
   },
   {
    "duration": 48,
    "start_time": "2022-05-31T07:44:22.061Z"
   },
   {
    "duration": 7,
    "start_time": "2022-05-31T07:44:22.112Z"
   },
   {
    "duration": 457,
    "start_time": "2022-05-31T07:44:22.120Z"
   },
   {
    "duration": 18,
    "start_time": "2022-05-31T07:44:22.590Z"
   },
   {
    "duration": 503,
    "start_time": "2022-05-31T07:44:22.611Z"
   },
   {
    "duration": 406,
    "start_time": "2022-05-31T07:44:23.116Z"
   },
   {
    "duration": 430,
    "start_time": "2022-05-31T07:44:23.526Z"
   },
   {
    "duration": 369,
    "start_time": "2022-05-31T07:44:23.958Z"
   },
   {
    "duration": 379,
    "start_time": "2022-05-31T07:44:24.334Z"
   },
   {
    "duration": 15,
    "start_time": "2022-05-31T07:44:24.715Z"
   },
   {
    "duration": 184,
    "start_time": "2022-05-31T07:44:24.734Z"
   },
   {
    "duration": 23,
    "start_time": "2022-05-31T07:44:24.920Z"
   },
   {
    "duration": 266,
    "start_time": "2022-05-31T07:44:24.950Z"
   },
   {
    "duration": 15,
    "start_time": "2022-05-31T07:44:25.219Z"
   },
   {
    "duration": 693,
    "start_time": "2022-05-31T07:44:25.238Z"
   },
   {
    "duration": 17,
    "start_time": "2022-05-31T07:44:25.932Z"
   },
   {
    "duration": 65,
    "start_time": "2022-05-31T07:44:25.955Z"
   },
   {
    "duration": 84,
    "start_time": "2022-05-31T07:44:26.022Z"
   },
   {
    "duration": 82,
    "start_time": "2022-05-31T07:44:26.109Z"
   },
   {
    "duration": 20,
    "start_time": "2022-05-31T07:44:26.198Z"
   },
   {
    "duration": 1344,
    "start_time": "2022-06-03T05:13:43.624Z"
   },
   {
    "duration": 74,
    "start_time": "2022-06-03T05:13:44.970Z"
   },
   {
    "duration": 16,
    "start_time": "2022-06-03T05:13:45.046Z"
   },
   {
    "duration": 15,
    "start_time": "2022-06-03T05:13:45.065Z"
   },
   {
    "duration": 90,
    "start_time": "2022-06-03T05:13:45.082Z"
   },
   {
    "duration": 13,
    "start_time": "2022-06-03T05:13:45.174Z"
   },
   {
    "duration": 13,
    "start_time": "2022-06-03T05:13:45.189Z"
   },
   {
    "duration": 65,
    "start_time": "2022-06-03T05:13:45.204Z"
   },
   {
    "duration": 10,
    "start_time": "2022-06-03T05:13:45.271Z"
   },
   {
    "duration": 6,
    "start_time": "2022-06-03T05:13:45.284Z"
   },
   {
    "duration": 346,
    "start_time": "2022-06-03T05:13:45.292Z"
   },
   {
    "duration": 13,
    "start_time": "2022-06-03T05:13:45.639Z"
   },
   {
    "duration": 339,
    "start_time": "2022-06-03T05:13:45.653Z"
   },
   {
    "duration": 296,
    "start_time": "2022-06-03T05:13:45.993Z"
   },
   {
    "duration": 380,
    "start_time": "2022-06-03T05:13:46.291Z"
   },
   {
    "duration": 230,
    "start_time": "2022-06-03T05:13:46.673Z"
   },
   {
    "duration": 369,
    "start_time": "2022-06-03T05:13:46.905Z"
   },
   {
    "duration": 9,
    "start_time": "2022-06-03T05:13:47.276Z"
   },
   {
    "duration": 141,
    "start_time": "2022-06-03T05:13:47.287Z"
   },
   {
    "duration": 5,
    "start_time": "2022-06-03T05:13:47.430Z"
   },
   {
    "duration": 215,
    "start_time": "2022-06-03T05:13:47.437Z"
   },
   {
    "duration": 6,
    "start_time": "2022-06-03T05:13:47.653Z"
   },
   {
    "duration": 557,
    "start_time": "2022-06-03T05:13:47.661Z"
   },
   {
    "duration": 10,
    "start_time": "2022-06-03T05:13:48.220Z"
   },
   {
    "duration": 30,
    "start_time": "2022-06-03T05:13:48.232Z"
   },
   {
    "duration": 20,
    "start_time": "2022-06-03T05:13:48.264Z"
   },
   {
    "duration": 55,
    "start_time": "2022-06-03T05:13:48.286Z"
   },
   {
    "duration": 21,
    "start_time": "2022-06-03T05:13:48.344Z"
   },
   {
    "duration": 127,
    "start_time": "2022-06-03T05:14:31.949Z"
   },
   {
    "duration": 543,
    "start_time": "2022-06-03T05:14:56.230Z"
   },
   {
    "duration": 1033,
    "start_time": "2022-06-03T05:15:15.484Z"
   },
   {
    "duration": 36,
    "start_time": "2022-06-03T05:15:16.987Z"
   },
   {
    "duration": 13,
    "start_time": "2022-06-03T05:15:23.055Z"
   },
   {
    "duration": 12,
    "start_time": "2022-06-03T05:16:57.488Z"
   },
   {
    "duration": 10,
    "start_time": "2022-06-03T05:19:37.802Z"
   },
   {
    "duration": 11,
    "start_time": "2022-06-03T05:20:15.382Z"
   },
   {
    "duration": 50,
    "start_time": "2022-06-03T05:20:26.757Z"
   },
   {
    "duration": 12,
    "start_time": "2022-06-03T05:20:31.290Z"
   },
   {
    "duration": 8,
    "start_time": "2022-06-03T05:21:02.561Z"
   },
   {
    "duration": 7,
    "start_time": "2022-06-03T05:22:01.737Z"
   },
   {
    "duration": 7,
    "start_time": "2022-06-03T05:22:09.411Z"
   },
   {
    "duration": 8,
    "start_time": "2022-06-03T05:24:53.305Z"
   },
   {
    "duration": 6,
    "start_time": "2022-06-03T05:24:54.325Z"
   },
   {
    "duration": 6,
    "start_time": "2022-06-03T05:25:46.744Z"
   },
   {
    "duration": 30,
    "start_time": "2022-06-03T05:49:12.338Z"
   },
   {
    "duration": 13,
    "start_time": "2022-06-03T05:49:15.404Z"
   },
   {
    "duration": 135,
    "start_time": "2022-06-03T05:49:24.965Z"
   },
   {
    "duration": 7,
    "start_time": "2022-06-03T05:49:30.872Z"
   },
   {
    "duration": 5,
    "start_time": "2022-06-03T05:49:32.601Z"
   },
   {
    "duration": 1054,
    "start_time": "2022-06-03T16:54:21.036Z"
   },
   {
    "duration": 37,
    "start_time": "2022-06-03T16:54:22.721Z"
   },
   {
    "duration": 16,
    "start_time": "2022-06-03T16:54:25.183Z"
   },
   {
    "duration": 12,
    "start_time": "2022-06-03T16:54:29.239Z"
   },
   {
    "duration": 15,
    "start_time": "2022-06-03T16:54:31.826Z"
   },
   {
    "duration": 51,
    "start_time": "2022-06-03T16:54:35.959Z"
   },
   {
    "duration": 12,
    "start_time": "2022-06-03T16:54:38.508Z"
   },
   {
    "duration": 6,
    "start_time": "2022-06-03T16:54:38.986Z"
   },
   {
    "duration": 5,
    "start_time": "2022-06-03T16:54:39.419Z"
   },
   {
    "duration": 30,
    "start_time": "2022-06-03T16:54:40.254Z"
   },
   {
    "duration": 9,
    "start_time": "2022-06-03T16:54:40.686Z"
   },
   {
    "duration": 5,
    "start_time": "2022-06-03T16:54:41.135Z"
   },
   {
    "duration": 3,
    "start_time": "2022-06-03T16:54:42.023Z"
   },
   {
    "duration": 4,
    "start_time": "2022-06-03T16:56:30.681Z"
   },
   {
    "duration": 5,
    "start_time": "2022-06-03T16:57:14.376Z"
   },
   {
    "duration": 5,
    "start_time": "2022-06-03T16:57:51.169Z"
   },
   {
    "duration": 4,
    "start_time": "2022-06-03T16:57:58.535Z"
   },
   {
    "duration": 4,
    "start_time": "2022-06-03T16:58:11.077Z"
   },
   {
    "duration": 4,
    "start_time": "2022-06-03T16:58:41.062Z"
   },
   {
    "duration": 7,
    "start_time": "2022-06-03T17:09:55.606Z"
   },
   {
    "duration": 104,
    "start_time": "2022-06-03T17:18:32.678Z"
   },
   {
    "duration": 9,
    "start_time": "2022-06-03T17:18:40.198Z"
   },
   {
    "duration": 9,
    "start_time": "2022-06-03T17:18:44.482Z"
   },
   {
    "duration": 7,
    "start_time": "2022-06-03T17:18:53.912Z"
   },
   {
    "duration": 6,
    "start_time": "2022-06-03T17:20:28.884Z"
   },
   {
    "duration": 4,
    "start_time": "2022-06-03T17:20:54.636Z"
   },
   {
    "duration": 4,
    "start_time": "2022-06-03T17:21:04.540Z"
   },
   {
    "duration": 10,
    "start_time": "2022-06-03T17:21:14.924Z"
   },
   {
    "duration": 6,
    "start_time": "2022-06-03T17:21:25.301Z"
   },
   {
    "duration": 22,
    "start_time": "2022-06-03T17:23:48.465Z"
   },
   {
    "duration": 320,
    "start_time": "2022-06-03T17:24:07.959Z"
   },
   {
    "duration": 118,
    "start_time": "2022-06-03T17:26:10.474Z"
   },
   {
    "duration": 17,
    "start_time": "2022-06-03T17:26:34.293Z"
   },
   {
    "duration": 16,
    "start_time": "2022-06-03T17:27:19.810Z"
   },
   {
    "duration": 929,
    "start_time": "2022-06-03T17:27:49.558Z"
   },
   {
    "duration": 30,
    "start_time": "2022-06-03T17:28:08.157Z"
   },
   {
    "duration": 629,
    "start_time": "2022-06-03T17:28:12.854Z"
   },
   {
    "duration": 9,
    "start_time": "2022-06-03T17:29:50.735Z"
   },
   {
    "duration": 9,
    "start_time": "2022-06-03T17:32:23.859Z"
   },
   {
    "duration": 150,
    "start_time": "2022-06-03T17:33:21.147Z"
   },
   {
    "duration": 187,
    "start_time": "2022-06-03T17:33:54.143Z"
   },
   {
    "duration": 649,
    "start_time": "2022-06-03T17:34:03.422Z"
   },
   {
    "duration": 741,
    "start_time": "2022-06-03T17:34:11.554Z"
   },
   {
    "duration": 665,
    "start_time": "2022-06-03T17:35:27.251Z"
   },
   {
    "duration": 1284,
    "start_time": "2022-06-04T01:10:47.061Z"
   },
   {
    "duration": 67,
    "start_time": "2022-06-04T01:10:48.347Z"
   },
   {
    "duration": 14,
    "start_time": "2022-06-04T01:10:50.487Z"
   },
   {
    "duration": 11,
    "start_time": "2022-06-04T01:10:53.371Z"
   },
   {
    "duration": 11,
    "start_time": "2022-06-04T01:10:55.218Z"
   },
   {
    "duration": 91,
    "start_time": "2022-06-04T01:10:58.730Z"
   },
   {
    "duration": 14,
    "start_time": "2022-06-04T01:10:59.665Z"
   },
   {
    "duration": 7,
    "start_time": "2022-06-04T01:11:00.575Z"
   },
   {
    "duration": 7,
    "start_time": "2022-06-04T01:11:01.165Z"
   },
   {
    "duration": 66,
    "start_time": "2022-06-04T01:11:03.074Z"
   },
   {
    "duration": 11,
    "start_time": "2022-06-04T01:11:07.119Z"
   },
   {
    "duration": 6,
    "start_time": "2022-06-04T01:11:07.877Z"
   },
   {
    "duration": 5,
    "start_time": "2022-06-04T01:11:32.888Z"
   },
   {
    "duration": 4,
    "start_time": "2022-06-04T01:11:33.335Z"
   },
   {
    "duration": 4,
    "start_time": "2022-06-04T01:11:37.757Z"
   },
   {
    "duration": 5,
    "start_time": "2022-06-04T01:11:38.654Z"
   },
   {
    "duration": 4,
    "start_time": "2022-06-04T01:11:39.406Z"
   },
   {
    "duration": 6,
    "start_time": "2022-06-04T01:12:31.547Z"
   },
   {
    "duration": 4,
    "start_time": "2022-06-04T01:12:43.026Z"
   },
   {
    "duration": 4,
    "start_time": "2022-06-04T01:12:45.896Z"
   },
   {
    "duration": 5,
    "start_time": "2022-06-04T01:12:46.567Z"
   },
   {
    "duration": 4,
    "start_time": "2022-06-04T01:12:47.136Z"
   },
   {
    "duration": 5,
    "start_time": "2022-06-04T01:12:53.497Z"
   },
   {
    "duration": 7,
    "start_time": "2022-06-04T01:12:56.344Z"
   },
   {
    "duration": 691,
    "start_time": "2022-06-04T01:12:59.211Z"
   },
   {
    "duration": 116,
    "start_time": "2022-06-04T01:15:05.662Z"
   },
   {
    "duration": 9,
    "start_time": "2022-06-04T01:15:14.397Z"
   },
   {
    "duration": 8,
    "start_time": "2022-06-04T01:15:47.319Z"
   },
   {
    "duration": 7,
    "start_time": "2022-06-04T01:16:31.814Z"
   },
   {
    "duration": 7,
    "start_time": "2022-06-04T01:16:37.171Z"
   },
   {
    "duration": 6,
    "start_time": "2022-06-04T01:16:43.158Z"
   },
   {
    "duration": 9,
    "start_time": "2022-06-04T01:16:50.920Z"
   },
   {
    "duration": 12,
    "start_time": "2022-06-04T01:17:33.210Z"
   },
   {
    "duration": 12,
    "start_time": "2022-06-04T01:17:49.534Z"
   },
   {
    "duration": 5,
    "start_time": "2022-06-04T01:18:36.872Z"
   },
   {
    "duration": 6,
    "start_time": "2022-06-04T01:18:39.566Z"
   },
   {
    "duration": 9,
    "start_time": "2022-06-04T01:19:58.154Z"
   },
   {
    "duration": 6,
    "start_time": "2022-06-04T01:20:30.662Z"
   },
   {
    "duration": 5,
    "start_time": "2022-06-04T01:20:31.263Z"
   },
   {
    "duration": 14,
    "start_time": "2022-06-04T01:20:32.190Z"
   },
   {
    "duration": 9,
    "start_time": "2022-06-04T01:20:53.403Z"
   },
   {
    "duration": 9,
    "start_time": "2022-06-04T01:21:59.082Z"
   },
   {
    "duration": 9,
    "start_time": "2022-06-04T01:22:11.043Z"
   },
   {
    "duration": 7,
    "start_time": "2022-06-04T01:22:20.367Z"
   },
   {
    "duration": 13,
    "start_time": "2022-06-04T01:22:29.843Z"
   },
   {
    "duration": 7,
    "start_time": "2022-06-04T01:23:04.994Z"
   },
   {
    "duration": 12,
    "start_time": "2022-06-04T01:24:08.487Z"
   },
   {
    "duration": 11,
    "start_time": "2022-06-04T01:24:50.431Z"
   },
   {
    "duration": 13,
    "start_time": "2022-06-04T01:24:55.151Z"
   },
   {
    "duration": 11,
    "start_time": "2022-06-04T01:25:05.173Z"
   },
   {
    "duration": 11,
    "start_time": "2022-06-04T01:25:45.291Z"
   },
   {
    "duration": 12,
    "start_time": "2022-06-04T01:25:56.124Z"
   },
   {
    "duration": 11,
    "start_time": "2022-06-04T01:26:50.303Z"
   },
   {
    "duration": 15,
    "start_time": "2022-06-04T01:27:39.199Z"
   },
   {
    "duration": 13,
    "start_time": "2022-06-04T01:29:30.575Z"
   },
   {
    "duration": 15,
    "start_time": "2022-06-04T01:29:55.052Z"
   },
   {
    "duration": 14,
    "start_time": "2022-06-04T01:30:14.551Z"
   },
   {
    "duration": 12,
    "start_time": "2022-06-04T01:31:09.976Z"
   },
   {
    "duration": 13,
    "start_time": "2022-06-04T01:31:55.192Z"
   },
   {
    "duration": 16,
    "start_time": "2022-06-04T01:32:29.204Z"
   },
   {
    "duration": 15,
    "start_time": "2022-06-04T01:32:42.813Z"
   },
   {
    "duration": 11,
    "start_time": "2022-06-04T01:32:58.392Z"
   },
   {
    "duration": 273,
    "start_time": "2022-06-04T01:41:03.853Z"
   },
   {
    "duration": 9,
    "start_time": "2022-06-04T01:41:04.804Z"
   },
   {
    "duration": 350,
    "start_time": "2022-06-04T01:41:08.470Z"
   },
   {
    "duration": 237,
    "start_time": "2022-06-04T01:41:18.568Z"
   },
   {
    "duration": 250,
    "start_time": "2022-06-04T01:41:25.423Z"
   },
   {
    "duration": 222,
    "start_time": "2022-06-04T01:41:31.470Z"
   },
   {
    "duration": 214,
    "start_time": "2022-06-04T01:42:26.475Z"
   },
   {
    "duration": 226,
    "start_time": "2022-06-04T01:42:43.371Z"
   },
   {
    "duration": 197,
    "start_time": "2022-06-04T01:43:46.675Z"
   },
   {
    "duration": 319,
    "start_time": "2022-06-04T01:43:52.672Z"
   },
   {
    "duration": 226,
    "start_time": "2022-06-04T01:44:24.931Z"
   },
   {
    "duration": 330,
    "start_time": "2022-06-04T01:45:44.814Z"
   },
   {
    "duration": 363,
    "start_time": "2022-06-04T01:46:28.610Z"
   },
   {
    "duration": 208,
    "start_time": "2022-06-04T01:49:07.012Z"
   },
   {
    "duration": 212,
    "start_time": "2022-06-04T01:49:25.475Z"
   },
   {
    "duration": 213,
    "start_time": "2022-06-04T01:49:59.379Z"
   },
   {
    "duration": 239,
    "start_time": "2022-06-04T01:50:17.077Z"
   },
   {
    "duration": 345,
    "start_time": "2022-06-04T01:51:36.475Z"
   },
   {
    "duration": 7,
    "start_time": "2022-06-04T01:52:02.825Z"
   },
   {
    "duration": 118,
    "start_time": "2022-06-04T01:52:07.669Z"
   },
   {
    "duration": 121,
    "start_time": "2022-06-04T01:53:02.107Z"
   },
   {
    "duration": 179,
    "start_time": "2022-06-04T01:54:18.914Z"
   },
   {
    "duration": 7,
    "start_time": "2022-06-04T01:54:42.837Z"
   },
   {
    "duration": 150,
    "start_time": "2022-06-04T01:54:44.937Z"
   },
   {
    "duration": 290,
    "start_time": "2022-06-04T01:55:19.007Z"
   },
   {
    "duration": 145,
    "start_time": "2022-06-04T01:56:40.354Z"
   },
   {
    "duration": 185,
    "start_time": "2022-06-04T01:57:54.329Z"
   },
   {
    "duration": 179,
    "start_time": "2022-06-04T01:58:02.539Z"
   },
   {
    "duration": 22,
    "start_time": "2022-06-04T01:58:58.469Z"
   },
   {
    "duration": 178,
    "start_time": "2022-06-04T02:00:41.176Z"
   },
   {
    "duration": 189,
    "start_time": "2022-06-04T02:00:59.316Z"
   },
   {
    "duration": 184,
    "start_time": "2022-06-04T02:01:13.280Z"
   },
   {
    "duration": 188,
    "start_time": "2022-06-04T02:01:46.948Z"
   },
   {
    "duration": 5,
    "start_time": "2022-06-04T02:02:59.476Z"
   },
   {
    "duration": 5,
    "start_time": "2022-06-04T02:05:33.425Z"
   },
   {
    "duration": 548,
    "start_time": "2022-06-04T02:05:38.047Z"
   },
   {
    "duration": 485,
    "start_time": "2022-06-04T02:22:44.491Z"
   },
   {
    "duration": 11,
    "start_time": "2022-06-04T02:24:03.959Z"
   },
   {
    "duration": 12,
    "start_time": "2022-06-04T02:24:23.347Z"
   },
   {
    "duration": 29,
    "start_time": "2022-06-04T02:25:36.478Z"
   },
   {
    "duration": 22,
    "start_time": "2022-06-04T02:25:50.356Z"
   },
   {
    "duration": 22,
    "start_time": "2022-06-04T02:25:57.249Z"
   },
   {
    "duration": 10,
    "start_time": "2022-06-04T02:26:05.860Z"
   },
   {
    "duration": 40,
    "start_time": "2022-06-04T02:31:37.078Z"
   },
   {
    "duration": 9,
    "start_time": "2022-06-04T02:31:43.684Z"
   },
   {
    "duration": 26,
    "start_time": "2022-06-04T02:33:45.897Z"
   },
   {
    "duration": 10,
    "start_time": "2022-06-04T02:33:50.898Z"
   },
   {
    "duration": 31,
    "start_time": "2022-06-04T02:34:02.315Z"
   },
   {
    "duration": 5,
    "start_time": "2022-06-04T02:34:02.917Z"
   },
   {
    "duration": 13,
    "start_time": "2022-06-04T02:36:05.506Z"
   },
   {
    "duration": 14,
    "start_time": "2022-06-04T02:37:02.933Z"
   },
   {
    "duration": 1160,
    "start_time": "2022-06-04T02:39:34.781Z"
   },
   {
    "duration": 34,
    "start_time": "2022-06-04T02:39:35.943Z"
   },
   {
    "duration": 12,
    "start_time": "2022-06-04T02:39:35.979Z"
   },
   {
    "duration": 10,
    "start_time": "2022-06-04T02:39:35.993Z"
   },
   {
    "duration": 17,
    "start_time": "2022-06-04T02:39:36.005Z"
   },
   {
    "duration": 55,
    "start_time": "2022-06-04T02:39:36.023Z"
   },
   {
    "duration": 11,
    "start_time": "2022-06-04T02:39:36.079Z"
   },
   {
    "duration": 11,
    "start_time": "2022-06-04T02:39:36.092Z"
   },
   {
    "duration": 6,
    "start_time": "2022-06-04T02:39:36.105Z"
   },
   {
    "duration": 26,
    "start_time": "2022-06-04T02:39:36.113Z"
   },
   {
    "duration": 10,
    "start_time": "2022-06-04T02:39:36.141Z"
   },
   {
    "duration": 8,
    "start_time": "2022-06-04T02:39:36.152Z"
   },
   {
    "duration": 9,
    "start_time": "2022-06-04T02:39:36.161Z"
   },
   {
    "duration": 7,
    "start_time": "2022-06-04T02:39:36.171Z"
   },
   {
    "duration": 7,
    "start_time": "2022-06-04T02:39:36.179Z"
   },
   {
    "duration": 6,
    "start_time": "2022-06-04T02:39:36.188Z"
   },
   {
    "duration": 8,
    "start_time": "2022-06-04T02:39:36.195Z"
   },
   {
    "duration": 7,
    "start_time": "2022-06-04T02:39:36.205Z"
   },
   {
    "duration": 6,
    "start_time": "2022-06-04T02:39:36.213Z"
   },
   {
    "duration": 8,
    "start_time": "2022-06-04T02:39:36.220Z"
   },
   {
    "duration": 14,
    "start_time": "2022-06-04T02:39:36.230Z"
   },
   {
    "duration": 712,
    "start_time": "2022-06-04T02:39:36.246Z"
   },
   {
    "duration": 249,
    "start_time": "2022-06-04T02:39:36.959Z"
   },
   {
    "duration": 7,
    "start_time": "2022-06-04T02:39:37.210Z"
   },
   {
    "duration": 330,
    "start_time": "2022-06-04T02:39:37.219Z"
   },
   {
    "duration": 225,
    "start_time": "2022-06-04T02:39:37.550Z"
   },
   {
    "duration": 355,
    "start_time": "2022-06-04T02:39:37.777Z"
   },
   {
    "duration": 234,
    "start_time": "2022-06-04T02:39:38.135Z"
   },
   {
    "duration": 344,
    "start_time": "2022-06-04T02:39:38.370Z"
   },
   {
    "duration": 6,
    "start_time": "2022-06-04T02:39:38.716Z"
   },
   {
    "duration": 178,
    "start_time": "2022-06-04T02:39:38.724Z"
   },
   {
    "duration": 6,
    "start_time": "2022-06-04T02:39:38.905Z"
   },
   {
    "duration": 207,
    "start_time": "2022-06-04T02:39:38.913Z"
   },
   {
    "duration": 188,
    "start_time": "2022-06-04T02:39:39.121Z"
   },
   {
    "duration": 5,
    "start_time": "2022-06-04T02:39:39.310Z"
   },
   {
    "duration": 594,
    "start_time": "2022-06-04T02:39:39.316Z"
   },
   {
    "duration": 11,
    "start_time": "2022-06-04T02:39:39.911Z"
   },
   {
    "duration": 10,
    "start_time": "2022-06-04T02:39:39.923Z"
   },
   {
    "duration": 36,
    "start_time": "2022-06-04T02:39:39.935Z"
   },
   {
    "duration": 22,
    "start_time": "2022-06-04T02:39:39.973Z"
   },
   {
    "duration": 14,
    "start_time": "2022-06-04T02:39:39.997Z"
   },
   {
    "duration": 1149,
    "start_time": "2022-06-04T14:36:25.911Z"
   },
   {
    "duration": 70,
    "start_time": "2022-06-04T14:36:27.061Z"
   },
   {
    "duration": 12,
    "start_time": "2022-06-04T14:36:27.132Z"
   },
   {
    "duration": 11,
    "start_time": "2022-06-04T14:36:27.145Z"
   },
   {
    "duration": 11,
    "start_time": "2022-06-04T14:36:27.158Z"
   },
   {
    "duration": 141,
    "start_time": "2022-06-04T14:36:27.170Z"
   },
   {
    "duration": 10,
    "start_time": "2022-06-04T14:36:27.313Z"
   },
   {
    "duration": 10,
    "start_time": "2022-06-04T14:36:27.324Z"
   },
   {
    "duration": 5,
    "start_time": "2022-06-04T14:36:27.335Z"
   },
   {
    "duration": 59,
    "start_time": "2022-06-04T14:36:27.342Z"
   },
   {
    "duration": 9,
    "start_time": "2022-06-04T14:36:27.403Z"
   },
   {
    "duration": 7,
    "start_time": "2022-06-04T14:36:27.414Z"
   },
   {
    "duration": 7,
    "start_time": "2022-06-04T14:36:27.422Z"
   },
   {
    "duration": 6,
    "start_time": "2022-06-04T14:36:27.431Z"
   },
   {
    "duration": 7,
    "start_time": "2022-06-04T14:36:27.439Z"
   },
   {
    "duration": 5,
    "start_time": "2022-06-04T14:36:27.447Z"
   },
   {
    "duration": 9,
    "start_time": "2022-06-04T14:36:27.453Z"
   },
   {
    "duration": 8,
    "start_time": "2022-06-04T14:36:27.463Z"
   },
   {
    "duration": 7,
    "start_time": "2022-06-04T14:36:27.473Z"
   },
   {
    "duration": 6,
    "start_time": "2022-06-04T14:36:27.482Z"
   },
   {
    "duration": 11,
    "start_time": "2022-06-04T14:36:27.489Z"
   },
   {
    "duration": 657,
    "start_time": "2022-06-04T14:36:27.523Z"
   },
   {
    "duration": 242,
    "start_time": "2022-06-04T14:36:28.181Z"
   },
   {
    "duration": 8,
    "start_time": "2022-06-04T14:36:28.424Z"
   },
   {
    "duration": 327,
    "start_time": "2022-06-04T14:36:28.434Z"
   },
   {
    "duration": 244,
    "start_time": "2022-06-04T14:36:28.762Z"
   },
   {
    "duration": 366,
    "start_time": "2022-06-04T14:36:29.008Z"
   },
   {
    "duration": 234,
    "start_time": "2022-06-04T14:36:29.378Z"
   },
   {
    "duration": 336,
    "start_time": "2022-06-04T14:36:29.614Z"
   },
   {
    "duration": 7,
    "start_time": "2022-06-04T14:36:29.952Z"
   },
   {
    "duration": 173,
    "start_time": "2022-06-04T14:36:29.960Z"
   },
   {
    "duration": 5,
    "start_time": "2022-06-04T14:36:30.134Z"
   },
   {
    "duration": 187,
    "start_time": "2022-06-04T14:36:30.140Z"
   },
   {
    "duration": 173,
    "start_time": "2022-06-04T14:36:30.329Z"
   },
   {
    "duration": 5,
    "start_time": "2022-06-04T14:36:30.503Z"
   },
   {
    "duration": 542,
    "start_time": "2022-06-04T14:36:30.509Z"
   },
   {
    "duration": 11,
    "start_time": "2022-06-04T14:36:31.052Z"
   },
   {
    "duration": 16,
    "start_time": "2022-06-04T14:36:31.065Z"
   },
   {
    "duration": 47,
    "start_time": "2022-06-04T14:36:31.082Z"
   },
   {
    "duration": 4,
    "start_time": "2022-06-04T14:36:31.131Z"
   },
   {
    "duration": 21,
    "start_time": "2022-06-04T14:36:31.137Z"
   }
  ],
  "kernelspec": {
   "display_name": "Python 3 (ipykernel)",
   "language": "python",
   "name": "python3"
  },
  "language_info": {
   "codemirror_mode": {
    "name": "ipython",
    "version": 3
   },
   "file_extension": ".py",
   "mimetype": "text/x-python",
   "name": "python",
   "nbconvert_exporter": "python",
   "pygments_lexer": "ipython3",
   "version": "3.9.12"
  },
  "toc": {
   "base_numbering": 1,
   "nav_menu": {},
   "number_sections": true,
   "sideBar": true,
   "skip_h1_title": true,
   "title_cell": "Table of Contents",
   "title_sidebar": "Contents",
   "toc_cell": false,
   "toc_position": {},
   "toc_section_display": true,
   "toc_window_display": false
  }
 },
 "nbformat": 4,
 "nbformat_minor": 2
}
