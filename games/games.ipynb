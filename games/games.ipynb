{
 "cells": [
  {
   "cell_type": "markdown",
   "metadata": {},
   "source": [
    "# Определение закономерностей, влияющих на успешность игры"
   ]
  },
  {
   "cell_type": "markdown",
   "metadata": {},
   "source": [
    "Для анализа предоставлена таблица об играх различных платформ и жанров игр с 1980 по 2016 год. \n",
    "\n",
    "Цель проекта: выявить определяющие успешность игры закономерности. Это позволит сделать ставку на потенциально популярный\n",
    "продукт и спланировать рекламные кампании.\n",
    "\n",
    "План работы:\n",
    "- [Подготовка данных](#1step): \n",
    "    * замена названий столбцов;\n",
    "    * преобразование данных в нужные типы; \n",
    "    * обработка пропусков; \n",
    "    * добавление столбца с информацией по суммарным продажам.\n",
    "- [Исследовательский анализ данных](#2step): \n",
    "    * определение выпуска игр по годам; \n",
    "    * изменения продаж по платформам;\n",
    "    * распределение продаж по годам;\n",
    "    * поиск популярных в прошлом платфом, определение жизненного цикла платформы;\n",
    "    * определение периода данных для дальнейшего анализа;\n",
    "    * поиск популярных платформ, потенциально прибыльных платформ;\n",
    "    * построение графика \"ящик с усами\"по глобальным продажам каждой игры и платформам;\n",
    "    * определение влияния на продажи отзывов пользовалетей и критиков, построение диаграммы рассеяния, подсчет корреляции;\n",
    "    * изучение общего распределения игр по жанрам.\n",
    "- [Составление портрета пользователя каждого региона](#3step):\n",
    "    * определение для пользователя каждого региона самых популярных платформ, жанров, влияния рейтинга ESBR на продажи.\n",
    "- [Исследование статистических показателей](#4step):\n",
    "    * изменения рейтинга пользователей и критиков в различных жанрах, подсчет среднего количества, дисперсии, стандартного отклонения, построение гистограмм.\n",
    "- [Проверка гипотез](#4step):\n",
    "    * Средние пользовательские рейтинги платформ Xbox One и PC одинаковые;\n",
    "    * Средние пользовательские рейтинги жанров Action и Sports разные.\n",
    "- [Общий вывод](#5step).\n"
   ]
  },
  {
   "cell_type": "markdown",
   "metadata": {},
   "source": [
    "<a id='1step'></a>"
   ]
  },
  {
   "cell_type": "markdown",
   "metadata": {},
   "source": [
    "## Подготовка данных"
   ]
  },
  {
   "cell_type": "code",
   "execution_count": 1,
   "metadata": {
    "scrolled": true
   },
   "outputs": [],
   "source": [
    "import pandas as pd #импорт библиотек\n",
    "import numpy as np \n",
    "import matplotlib.pyplot as plt\n",
    "from scipy import stats as st\n",
    "import warnings\n",
    "import seaborn as sns\n",
    "warnings.simplefilter(action = 'ignore', category = FutureWarning)"
   ]
  },
  {
   "cell_type": "code",
   "execution_count": 2,
   "metadata": {},
   "outputs": [
    {
     "data": {
      "text/html": [
       "<div>\n",
       "<style scoped>\n",
       "    .dataframe tbody tr th:only-of-type {\n",
       "        vertical-align: middle;\n",
       "    }\n",
       "\n",
       "    .dataframe tbody tr th {\n",
       "        vertical-align: top;\n",
       "    }\n",
       "\n",
       "    .dataframe thead th {\n",
       "        text-align: right;\n",
       "    }\n",
       "</style>\n",
       "<table border=\"1\" class=\"dataframe\">\n",
       "  <thead>\n",
       "    <tr style=\"text-align: right;\">\n",
       "      <th></th>\n",
       "      <th>Name</th>\n",
       "      <th>Platform</th>\n",
       "      <th>Year_of_Release</th>\n",
       "      <th>Genre</th>\n",
       "      <th>NA_sales</th>\n",
       "      <th>EU_sales</th>\n",
       "      <th>JP_sales</th>\n",
       "      <th>Other_sales</th>\n",
       "      <th>Critic_Score</th>\n",
       "      <th>User_Score</th>\n",
       "      <th>Rating</th>\n",
       "    </tr>\n",
       "  </thead>\n",
       "  <tbody>\n",
       "    <tr>\n",
       "      <th>0</th>\n",
       "      <td>Wii Sports</td>\n",
       "      <td>Wii</td>\n",
       "      <td>2006.0</td>\n",
       "      <td>Sports</td>\n",
       "      <td>41.36</td>\n",
       "      <td>28.96</td>\n",
       "      <td>3.77</td>\n",
       "      <td>8.45</td>\n",
       "      <td>76.0</td>\n",
       "      <td>8</td>\n",
       "      <td>E</td>\n",
       "    </tr>\n",
       "    <tr>\n",
       "      <th>1</th>\n",
       "      <td>Super Mario Bros.</td>\n",
       "      <td>NES</td>\n",
       "      <td>1985.0</td>\n",
       "      <td>Platform</td>\n",
       "      <td>29.08</td>\n",
       "      <td>3.58</td>\n",
       "      <td>6.81</td>\n",
       "      <td>0.77</td>\n",
       "      <td>NaN</td>\n",
       "      <td>NaN</td>\n",
       "      <td>NaN</td>\n",
       "    </tr>\n",
       "    <tr>\n",
       "      <th>2</th>\n",
       "      <td>Mario Kart Wii</td>\n",
       "      <td>Wii</td>\n",
       "      <td>2008.0</td>\n",
       "      <td>Racing</td>\n",
       "      <td>15.68</td>\n",
       "      <td>12.76</td>\n",
       "      <td>3.79</td>\n",
       "      <td>3.29</td>\n",
       "      <td>82.0</td>\n",
       "      <td>8.3</td>\n",
       "      <td>E</td>\n",
       "    </tr>\n",
       "    <tr>\n",
       "      <th>3</th>\n",
       "      <td>Wii Sports Resort</td>\n",
       "      <td>Wii</td>\n",
       "      <td>2009.0</td>\n",
       "      <td>Sports</td>\n",
       "      <td>15.61</td>\n",
       "      <td>10.93</td>\n",
       "      <td>3.28</td>\n",
       "      <td>2.95</td>\n",
       "      <td>80.0</td>\n",
       "      <td>8</td>\n",
       "      <td>E</td>\n",
       "    </tr>\n",
       "    <tr>\n",
       "      <th>4</th>\n",
       "      <td>Pokemon Red/Pokemon Blue</td>\n",
       "      <td>GB</td>\n",
       "      <td>1996.0</td>\n",
       "      <td>Role-Playing</td>\n",
       "      <td>11.27</td>\n",
       "      <td>8.89</td>\n",
       "      <td>10.22</td>\n",
       "      <td>1.00</td>\n",
       "      <td>NaN</td>\n",
       "      <td>NaN</td>\n",
       "      <td>NaN</td>\n",
       "    </tr>\n",
       "  </tbody>\n",
       "</table>\n",
       "</div>"
      ],
      "text/plain": [
       "                       Name Platform  Year_of_Release         Genre  NA_sales  \\\n",
       "0                Wii Sports      Wii           2006.0        Sports     41.36   \n",
       "1         Super Mario Bros.      NES           1985.0      Platform     29.08   \n",
       "2            Mario Kart Wii      Wii           2008.0        Racing     15.68   \n",
       "3         Wii Sports Resort      Wii           2009.0        Sports     15.61   \n",
       "4  Pokemon Red/Pokemon Blue       GB           1996.0  Role-Playing     11.27   \n",
       "\n",
       "   EU_sales  JP_sales  Other_sales  Critic_Score User_Score Rating  \n",
       "0     28.96      3.77         8.45          76.0          8      E  \n",
       "1      3.58      6.81         0.77           NaN        NaN    NaN  \n",
       "2     12.76      3.79         3.29          82.0        8.3      E  \n",
       "3     10.93      3.28         2.95          80.0          8      E  \n",
       "4      8.89     10.22         1.00           NaN        NaN    NaN  "
      ]
     },
     "execution_count": 2,
     "metadata": {},
     "output_type": "execute_result"
    }
   ],
   "source": [
    "df = pd.read_csv('...') #открытие таблицы\n",
    "df.head()"
   ]
  },
  {
   "cell_type": "markdown",
   "metadata": {},
   "source": [
    "### Замена названий столбцов"
   ]
  },
  {
   "cell_type": "code",
   "execution_count": 3,
   "metadata": {
    "scrolled": false
   },
   "outputs": [
    {
     "data": {
      "text/plain": [
       "Index(['name', 'platform', 'year_of_release', 'genre', 'na_sales', 'eu_sales',\n",
       "       'jp_sales', 'other_sales', 'critic_score', 'user_score', 'rating'],\n",
       "      dtype='object')"
      ]
     },
     "execution_count": 3,
     "metadata": {},
     "output_type": "execute_result"
    }
   ],
   "source": [
    "#переименование столбцов\n",
    "df = df.rename(columns = {'Name': 'name','Platform': 'platform','Year_of_Release': 'year_of_release', 'Genre': 'genre', 'NA_sales': 'na_sales','EU_sales': 'eu_sales', 'JP_sales': 'jp_sales', 'Other_sales': 'other_sales', 'Critic_Score': 'critic_score', 'User_Score': 'user_score', 'Rating': 'rating'})\n",
    "df.columns"
   ]
  },
  {
   "cell_type": "markdown",
   "metadata": {},
   "source": [
    "### Преобразование данных в нужные типы"
   ]
  },
  {
   "cell_type": "code",
   "execution_count": 4,
   "metadata": {
    "scrolled": false
   },
   "outputs": [
    {
     "name": "stdout",
     "output_type": "stream",
     "text": [
      "<class 'pandas.core.frame.DataFrame'>\n",
      "RangeIndex: 16715 entries, 0 to 16714\n",
      "Data columns (total 11 columns):\n",
      " #   Column           Non-Null Count  Dtype  \n",
      "---  ------           --------------  -----  \n",
      " 0   name             16713 non-null  object \n",
      " 1   platform         16715 non-null  object \n",
      " 2   year_of_release  16446 non-null  float64\n",
      " 3   genre            16713 non-null  object \n",
      " 4   na_sales         16715 non-null  float64\n",
      " 5   eu_sales         16715 non-null  float64\n",
      " 6   jp_sales         16715 non-null  float64\n",
      " 7   other_sales      16715 non-null  float64\n",
      " 8   critic_score     8137 non-null   float64\n",
      " 9   user_score       10014 non-null  object \n",
      " 10  rating           9949 non-null   object \n",
      "dtypes: float64(6), object(5)\n",
      "memory usage: 1.4+ MB\n"
     ]
    }
   ],
   "source": [
    "df.info() #просмотр информации о таблице"
   ]
  },
  {
   "cell_type": "markdown",
   "metadata": {},
   "source": [
    "Преобразования требуют следующие данные:\n",
    "- year_of_release в тип integer, т.к. представляет собой целое число;\n",
    "- user_score в тип float, т.к. представляет собой чиcло в плавающей точкой.\n",
    "\n",
    "Для изменения типа year_of_release сначала необходимо удалить пропуски."
   ]
  },
  {
   "cell_type": "markdown",
   "metadata": {},
   "source": [
    "### Обработка пропусков "
   ]
  },
  {
   "cell_type": "code",
   "execution_count": 5,
   "metadata": {
    "scrolled": false
   },
   "outputs": [
    {
     "data": {
      "text/plain": [
       "name                  2\n",
       "platform              0\n",
       "year_of_release     269\n",
       "genre                 2\n",
       "na_sales              0\n",
       "eu_sales              0\n",
       "jp_sales              0\n",
       "other_sales           0\n",
       "critic_score       8578\n",
       "user_score         6701\n",
       "rating             6766\n",
       "dtype: int64"
      ]
     },
     "execution_count": 5,
     "metadata": {},
     "output_type": "execute_result"
    }
   ],
   "source": [
    "df.isnull().sum() #поиск пропусков"
   ]
  },
  {
   "cell_type": "code",
   "execution_count": 6,
   "metadata": {},
   "outputs": [
    {
     "data": {
      "text/plain": [
       "0.016095255190570215"
      ]
     },
     "execution_count": 6,
     "metadata": {},
     "output_type": "execute_result"
    }
   ],
   "source": [
    "empty_year = df['year_of_release'].isnull().sum() / 16713 #подсчет количества пропущенных значений\n",
    "empty_year"
   ]
  },
  {
   "cell_type": "markdown",
   "metadata": {},
   "source": [
    "В столбце year_of_release 1,6% пропущенных значений, их допустимо удалить."
   ]
  },
  {
   "cell_type": "code",
   "execution_count": 7,
   "metadata": {
    "scrolled": false
   },
   "outputs": [],
   "source": [
    "df.dropna(subset=['year_of_release'], inplace=True) #удаление пропущенных значений\n",
    "df['year_of_release'] = pd.to_numeric(df['year_of_release'],errors ='coerce', downcast = 'integer') #замена типов"
   ]
  },
  {
   "cell_type": "code",
   "execution_count": 8,
   "metadata": {
    "scrolled": true
   },
   "outputs": [
    {
     "name": "stdout",
     "output_type": "stream",
     "text": [
      "<class 'pandas.core.frame.DataFrame'>\n",
      "Int64Index: 16446 entries, 0 to 16714\n",
      "Data columns (total 11 columns):\n",
      " #   Column           Non-Null Count  Dtype  \n",
      "---  ------           --------------  -----  \n",
      " 0   name             16444 non-null  object \n",
      " 1   platform         16446 non-null  object \n",
      " 2   year_of_release  16446 non-null  int16  \n",
      " 3   genre            16444 non-null  object \n",
      " 4   na_sales         16446 non-null  float64\n",
      " 5   eu_sales         16446 non-null  float64\n",
      " 6   jp_sales         16446 non-null  float64\n",
      " 7   other_sales      16446 non-null  float64\n",
      " 8   critic_score     7983 non-null   float64\n",
      " 9   user_score       7463 non-null   float64\n",
      " 10  rating           9768 non-null   object \n",
      "dtypes: float64(6), int16(1), object(4)\n",
      "memory usage: 1.4+ MB\n"
     ]
    }
   ],
   "source": [
    "df['user_score'] = pd.to_numeric(df['user_score'], errors='coerce') #замена типа в столбце 'user_score', замена всех текстовых значений на NaN\n",
    "df.info()"
   ]
  },
  {
   "cell_type": "code",
   "execution_count": 9,
   "metadata": {
    "scrolled": false
   },
   "outputs": [
    {
     "data": {
      "text/plain": [
       "name                  2\n",
       "platform              0\n",
       "year_of_release       0\n",
       "genre                 2\n",
       "na_sales              0\n",
       "eu_sales              0\n",
       "jp_sales              0\n",
       "other_sales           0\n",
       "critic_score       8463\n",
       "user_score         8983\n",
       "rating             6678\n",
       "dtype: int64"
      ]
     },
     "execution_count": 9,
     "metadata": {},
     "output_type": "execute_result"
    }
   ],
   "source": [
    "df.isnull().sum() #просмотр количества пропусков"
   ]
  },
  {
   "cell_type": "code",
   "execution_count": 10,
   "metadata": {
    "scrolled": true
   },
   "outputs": [
    {
     "data": {
      "text/html": [
       "<div>\n",
       "<style scoped>\n",
       "    .dataframe tbody tr th:only-of-type {\n",
       "        vertical-align: middle;\n",
       "    }\n",
       "\n",
       "    .dataframe tbody tr th {\n",
       "        vertical-align: top;\n",
       "    }\n",
       "\n",
       "    .dataframe thead th {\n",
       "        text-align: right;\n",
       "    }\n",
       "</style>\n",
       "<table border=\"1\" class=\"dataframe\">\n",
       "  <thead>\n",
       "    <tr style=\"text-align: right;\">\n",
       "      <th></th>\n",
       "      <th>name</th>\n",
       "      <th>platform</th>\n",
       "      <th>year_of_release</th>\n",
       "      <th>genre</th>\n",
       "      <th>na_sales</th>\n",
       "      <th>eu_sales</th>\n",
       "      <th>jp_sales</th>\n",
       "      <th>other_sales</th>\n",
       "      <th>critic_score</th>\n",
       "      <th>user_score</th>\n",
       "      <th>rating</th>\n",
       "    </tr>\n",
       "  </thead>\n",
       "  <tbody>\n",
       "    <tr>\n",
       "      <th>659</th>\n",
       "      <td>NaN</td>\n",
       "      <td>GEN</td>\n",
       "      <td>1993</td>\n",
       "      <td>NaN</td>\n",
       "      <td>1.78</td>\n",
       "      <td>0.53</td>\n",
       "      <td>0.00</td>\n",
       "      <td>0.08</td>\n",
       "      <td>NaN</td>\n",
       "      <td>NaN</td>\n",
       "      <td>NaN</td>\n",
       "    </tr>\n",
       "    <tr>\n",
       "      <th>14244</th>\n",
       "      <td>NaN</td>\n",
       "      <td>GEN</td>\n",
       "      <td>1993</td>\n",
       "      <td>NaN</td>\n",
       "      <td>0.00</td>\n",
       "      <td>0.00</td>\n",
       "      <td>0.03</td>\n",
       "      <td>0.00</td>\n",
       "      <td>NaN</td>\n",
       "      <td>NaN</td>\n",
       "      <td>NaN</td>\n",
       "    </tr>\n",
       "  </tbody>\n",
       "</table>\n",
       "</div>"
      ],
      "text/plain": [
       "      name platform  year_of_release genre  na_sales  eu_sales  jp_sales  \\\n",
       "659    NaN      GEN             1993   NaN      1.78      0.53      0.00   \n",
       "14244  NaN      GEN             1993   NaN      0.00      0.00      0.03   \n",
       "\n",
       "       other_sales  critic_score  user_score rating  \n",
       "659           0.08           NaN         NaN    NaN  \n",
       "14244         0.00           NaN         NaN    NaN  "
      ]
     },
     "execution_count": 10,
     "metadata": {},
     "output_type": "execute_result"
    }
   ],
   "source": [
    "df[df['name'].isnull()].head()"
   ]
  },
  {
   "cell_type": "code",
   "execution_count": 11,
   "metadata": {},
   "outputs": [
    {
     "data": {
      "text/plain": [
       "0"
      ]
     },
     "execution_count": 11,
     "metadata": {},
     "output_type": "execute_result"
    }
   ],
   "source": [
    "df = df.drop(index=[659, 14244]).reset_index(drop = True) #удаление пропущенных значений в столбце name\n",
    "df['name'].isnull().sum()"
   ]
  },
  {
   "cell_type": "code",
   "execution_count": 12,
   "metadata": {},
   "outputs": [],
   "source": [
    "df['rating'] = df['rating'].fillna('Нет рейтинга') #заполнение пропусков в столбце рейтинг на значение \"Нет рейтинга\""
   ]
  },
  {
   "cell_type": "code",
   "execution_count": 13,
   "metadata": {
    "scrolled": false
   },
   "outputs": [
    {
     "data": {
      "text/plain": [
       "name                  0\n",
       "platform              0\n",
       "year_of_release       0\n",
       "genre                 0\n",
       "na_sales              0\n",
       "eu_sales              0\n",
       "jp_sales              0\n",
       "other_sales           0\n",
       "critic_score       8461\n",
       "user_score         8981\n",
       "rating                0\n",
       "dtype: int64"
      ]
     },
     "execution_count": 13,
     "metadata": {},
     "output_type": "execute_result"
    }
   ],
   "source": [
    "df.isnull().sum() #проверка пропусков"
   ]
  },
  {
   "cell_type": "markdown",
   "metadata": {},
   "source": [
    "Пропуски в year_of_release были удалены, т.к. их заполнение приведет к искажению при анализе данных и пропуски составляли 1% от данных.\n",
    "\n",
    "Пропуски в name и genre были удалены, т.к. отсутствовали и другие данные по этим строкам.\n",
    "\n",
    "Пропуски в critic_score, user_score были оставлены без изменений, т.к. их заполение может существенно исказить результаты анализа, при том, что они отсутствуют практически в половине строк. Для столбца рейтинг введна новая категория \"Нет рейтинга\", т.к. его отсутствие может быть связано не с пропуском, а с отсутствие рейтингования каких-то категорий игр.\n",
    "\n",
    "Aббревиатура 'tbd' в столбцах с рейтингом обозначает \"будет объявлено позже\", что можно приравнять к NaN. \n",
    "Пропуски значений в данных рейтингов могут быть связаны с особенностями сбора рейтинга, а также временным лагом, особенно за последние годы сбора данных."
   ]
  },
  {
   "cell_type": "markdown",
   "metadata": {},
   "source": [
    "### Посчитайте суммарные продажи во всех регионах и запишите их в отдельный столбец."
   ]
  },
  {
   "cell_type": "code",
   "execution_count": 14,
   "metadata": {},
   "outputs": [
    {
     "data": {
      "text/html": [
       "<div>\n",
       "<style scoped>\n",
       "    .dataframe tbody tr th:only-of-type {\n",
       "        vertical-align: middle;\n",
       "    }\n",
       "\n",
       "    .dataframe tbody tr th {\n",
       "        vertical-align: top;\n",
       "    }\n",
       "\n",
       "    .dataframe thead th {\n",
       "        text-align: right;\n",
       "    }\n",
       "</style>\n",
       "<table border=\"1\" class=\"dataframe\">\n",
       "  <thead>\n",
       "    <tr style=\"text-align: right;\">\n",
       "      <th></th>\n",
       "      <th>name</th>\n",
       "      <th>platform</th>\n",
       "      <th>year_of_release</th>\n",
       "      <th>genre</th>\n",
       "      <th>na_sales</th>\n",
       "      <th>eu_sales</th>\n",
       "      <th>jp_sales</th>\n",
       "      <th>other_sales</th>\n",
       "      <th>critic_score</th>\n",
       "      <th>user_score</th>\n",
       "      <th>rating</th>\n",
       "      <th>total_sales</th>\n",
       "    </tr>\n",
       "  </thead>\n",
       "  <tbody>\n",
       "    <tr>\n",
       "      <th>0</th>\n",
       "      <td>Wii Sports</td>\n",
       "      <td>Wii</td>\n",
       "      <td>2006</td>\n",
       "      <td>Sports</td>\n",
       "      <td>41.36</td>\n",
       "      <td>28.96</td>\n",
       "      <td>3.77</td>\n",
       "      <td>8.45</td>\n",
       "      <td>76.0</td>\n",
       "      <td>8.0</td>\n",
       "      <td>E</td>\n",
       "      <td>82.54</td>\n",
       "    </tr>\n",
       "    <tr>\n",
       "      <th>1</th>\n",
       "      <td>Super Mario Bros.</td>\n",
       "      <td>NES</td>\n",
       "      <td>1985</td>\n",
       "      <td>Platform</td>\n",
       "      <td>29.08</td>\n",
       "      <td>3.58</td>\n",
       "      <td>6.81</td>\n",
       "      <td>0.77</td>\n",
       "      <td>NaN</td>\n",
       "      <td>NaN</td>\n",
       "      <td>Нет рейтинга</td>\n",
       "      <td>40.24</td>\n",
       "    </tr>\n",
       "    <tr>\n",
       "      <th>2</th>\n",
       "      <td>Mario Kart Wii</td>\n",
       "      <td>Wii</td>\n",
       "      <td>2008</td>\n",
       "      <td>Racing</td>\n",
       "      <td>15.68</td>\n",
       "      <td>12.76</td>\n",
       "      <td>3.79</td>\n",
       "      <td>3.29</td>\n",
       "      <td>82.0</td>\n",
       "      <td>8.3</td>\n",
       "      <td>E</td>\n",
       "      <td>35.52</td>\n",
       "    </tr>\n",
       "    <tr>\n",
       "      <th>3</th>\n",
       "      <td>Wii Sports Resort</td>\n",
       "      <td>Wii</td>\n",
       "      <td>2009</td>\n",
       "      <td>Sports</td>\n",
       "      <td>15.61</td>\n",
       "      <td>10.93</td>\n",
       "      <td>3.28</td>\n",
       "      <td>2.95</td>\n",
       "      <td>80.0</td>\n",
       "      <td>8.0</td>\n",
       "      <td>E</td>\n",
       "      <td>32.77</td>\n",
       "    </tr>\n",
       "    <tr>\n",
       "      <th>4</th>\n",
       "      <td>Pokemon Red/Pokemon Blue</td>\n",
       "      <td>GB</td>\n",
       "      <td>1996</td>\n",
       "      <td>Role-Playing</td>\n",
       "      <td>11.27</td>\n",
       "      <td>8.89</td>\n",
       "      <td>10.22</td>\n",
       "      <td>1.00</td>\n",
       "      <td>NaN</td>\n",
       "      <td>NaN</td>\n",
       "      <td>Нет рейтинга</td>\n",
       "      <td>31.38</td>\n",
       "    </tr>\n",
       "  </tbody>\n",
       "</table>\n",
       "</div>"
      ],
      "text/plain": [
       "                       name platform  year_of_release         genre  na_sales  \\\n",
       "0                Wii Sports      Wii             2006        Sports     41.36   \n",
       "1         Super Mario Bros.      NES             1985      Platform     29.08   \n",
       "2            Mario Kart Wii      Wii             2008        Racing     15.68   \n",
       "3         Wii Sports Resort      Wii             2009        Sports     15.61   \n",
       "4  Pokemon Red/Pokemon Blue       GB             1996  Role-Playing     11.27   \n",
       "\n",
       "   eu_sales  jp_sales  other_sales  critic_score  user_score        rating  \\\n",
       "0     28.96      3.77         8.45          76.0         8.0             E   \n",
       "1      3.58      6.81         0.77           NaN         NaN  Нет рейтинга   \n",
       "2     12.76      3.79         3.29          82.0         8.3             E   \n",
       "3     10.93      3.28         2.95          80.0         8.0             E   \n",
       "4      8.89     10.22         1.00           NaN         NaN  Нет рейтинга   \n",
       "\n",
       "   total_sales  \n",
       "0        82.54  \n",
       "1        40.24  \n",
       "2        35.52  \n",
       "3        32.77  \n",
       "4        31.38  "
      ]
     },
     "execution_count": 14,
     "metadata": {},
     "output_type": "execute_result"
    }
   ],
   "source": [
    "df['total_sales'] = df['na_sales'] + df['eu_sales'] + df['jp_sales'] + df['other_sales'] #запись нового столбца\n",
    "df.head()"
   ]
  },
  {
   "cell_type": "markdown",
   "metadata": {},
   "source": [
    "<a id='2step'></a>"
   ]
  },
  {
   "cell_type": "markdown",
   "metadata": {},
   "source": [
    "## Исследовательский анализ данных"
   ]
  },
  {
   "cell_type": "markdown",
   "metadata": {},
   "source": [
    "### Статистика выпуска игр по годам. Выбор временного диапазона для исследования."
   ]
  },
  {
   "cell_type": "code",
   "execution_count": 15,
   "metadata": {},
   "outputs": [
    {
     "data": {
      "text/html": [
       "<div>\n",
       "<style scoped>\n",
       "    .dataframe tbody tr th:only-of-type {\n",
       "        vertical-align: middle;\n",
       "    }\n",
       "\n",
       "    .dataframe tbody tr th {\n",
       "        vertical-align: top;\n",
       "    }\n",
       "\n",
       "    .dataframe thead th {\n",
       "        text-align: right;\n",
       "    }\n",
       "</style>\n",
       "<table border=\"1\" class=\"dataframe\">\n",
       "  <thead>\n",
       "    <tr style=\"text-align: right;\">\n",
       "      <th></th>\n",
       "      <th>name</th>\n",
       "    </tr>\n",
       "    <tr>\n",
       "      <th>year_of_release</th>\n",
       "      <th></th>\n",
       "    </tr>\n",
       "  </thead>\n",
       "  <tbody>\n",
       "    <tr>\n",
       "      <th>1980</th>\n",
       "      <td>9</td>\n",
       "    </tr>\n",
       "    <tr>\n",
       "      <th>1981</th>\n",
       "      <td>46</td>\n",
       "    </tr>\n",
       "    <tr>\n",
       "      <th>1982</th>\n",
       "      <td>36</td>\n",
       "    </tr>\n",
       "    <tr>\n",
       "      <th>1983</th>\n",
       "      <td>17</td>\n",
       "    </tr>\n",
       "    <tr>\n",
       "      <th>1984</th>\n",
       "      <td>14</td>\n",
       "    </tr>\n",
       "    <tr>\n",
       "      <th>1985</th>\n",
       "      <td>14</td>\n",
       "    </tr>\n",
       "    <tr>\n",
       "      <th>1986</th>\n",
       "      <td>21</td>\n",
       "    </tr>\n",
       "    <tr>\n",
       "      <th>1987</th>\n",
       "      <td>16</td>\n",
       "    </tr>\n",
       "    <tr>\n",
       "      <th>1988</th>\n",
       "      <td>15</td>\n",
       "    </tr>\n",
       "    <tr>\n",
       "      <th>1989</th>\n",
       "      <td>17</td>\n",
       "    </tr>\n",
       "    <tr>\n",
       "      <th>1990</th>\n",
       "      <td>16</td>\n",
       "    </tr>\n",
       "    <tr>\n",
       "      <th>1991</th>\n",
       "      <td>41</td>\n",
       "    </tr>\n",
       "    <tr>\n",
       "      <th>1992</th>\n",
       "      <td>43</td>\n",
       "    </tr>\n",
       "    <tr>\n",
       "      <th>1993</th>\n",
       "      <td>60</td>\n",
       "    </tr>\n",
       "    <tr>\n",
       "      <th>1994</th>\n",
       "      <td>121</td>\n",
       "    </tr>\n",
       "    <tr>\n",
       "      <th>1995</th>\n",
       "      <td>219</td>\n",
       "    </tr>\n",
       "    <tr>\n",
       "      <th>1996</th>\n",
       "      <td>263</td>\n",
       "    </tr>\n",
       "    <tr>\n",
       "      <th>1997</th>\n",
       "      <td>289</td>\n",
       "    </tr>\n",
       "    <tr>\n",
       "      <th>1998</th>\n",
       "      <td>379</td>\n",
       "    </tr>\n",
       "    <tr>\n",
       "      <th>1999</th>\n",
       "      <td>338</td>\n",
       "    </tr>\n",
       "    <tr>\n",
       "      <th>2000</th>\n",
       "      <td>350</td>\n",
       "    </tr>\n",
       "    <tr>\n",
       "      <th>2001</th>\n",
       "      <td>482</td>\n",
       "    </tr>\n",
       "    <tr>\n",
       "      <th>2002</th>\n",
       "      <td>829</td>\n",
       "    </tr>\n",
       "    <tr>\n",
       "      <th>2003</th>\n",
       "      <td>775</td>\n",
       "    </tr>\n",
       "    <tr>\n",
       "      <th>2004</th>\n",
       "      <td>762</td>\n",
       "    </tr>\n",
       "    <tr>\n",
       "      <th>2005</th>\n",
       "      <td>939</td>\n",
       "    </tr>\n",
       "    <tr>\n",
       "      <th>2006</th>\n",
       "      <td>1006</td>\n",
       "    </tr>\n",
       "    <tr>\n",
       "      <th>2007</th>\n",
       "      <td>1197</td>\n",
       "    </tr>\n",
       "    <tr>\n",
       "      <th>2008</th>\n",
       "      <td>1427</td>\n",
       "    </tr>\n",
       "    <tr>\n",
       "      <th>2009</th>\n",
       "      <td>1426</td>\n",
       "    </tr>\n",
       "    <tr>\n",
       "      <th>2010</th>\n",
       "      <td>1255</td>\n",
       "    </tr>\n",
       "    <tr>\n",
       "      <th>2011</th>\n",
       "      <td>1136</td>\n",
       "    </tr>\n",
       "    <tr>\n",
       "      <th>2012</th>\n",
       "      <td>653</td>\n",
       "    </tr>\n",
       "    <tr>\n",
       "      <th>2013</th>\n",
       "      <td>544</td>\n",
       "    </tr>\n",
       "    <tr>\n",
       "      <th>2014</th>\n",
       "      <td>581</td>\n",
       "    </tr>\n",
       "    <tr>\n",
       "      <th>2015</th>\n",
       "      <td>606</td>\n",
       "    </tr>\n",
       "    <tr>\n",
       "      <th>2016</th>\n",
       "      <td>502</td>\n",
       "    </tr>\n",
       "  </tbody>\n",
       "</table>\n",
       "</div>"
      ],
      "text/plain": [
       "                 name\n",
       "year_of_release      \n",
       "1980                9\n",
       "1981               46\n",
       "1982               36\n",
       "1983               17\n",
       "1984               14\n",
       "1985               14\n",
       "1986               21\n",
       "1987               16\n",
       "1988               15\n",
       "1989               17\n",
       "1990               16\n",
       "1991               41\n",
       "1992               43\n",
       "1993               60\n",
       "1994              121\n",
       "1995              219\n",
       "1996              263\n",
       "1997              289\n",
       "1998              379\n",
       "1999              338\n",
       "2000              350\n",
       "2001              482\n",
       "2002              829\n",
       "2003              775\n",
       "2004              762\n",
       "2005              939\n",
       "2006             1006\n",
       "2007             1197\n",
       "2008             1427\n",
       "2009             1426\n",
       "2010             1255\n",
       "2011             1136\n",
       "2012              653\n",
       "2013              544\n",
       "2014              581\n",
       "2015              606\n",
       "2016              502"
      ]
     },
     "execution_count": 15,
     "metadata": {},
     "output_type": "execute_result"
    }
   ],
   "source": [
    "game_stat_year = pd.pivot_table(df, index='year_of_release', values='name', aggfunc='count') #сводная таблица с количеством выпущенных игр\n",
    "game_stat_year "
   ]
  },
  {
   "cell_type": "code",
   "execution_count": 16,
   "metadata": {},
   "outputs": [
    {
     "data": {
      "image/png": "[encoded data removed]",
      "text/plain": [
       "<Figure size 648x648 with 1 Axes>"
      ]
     },
     "metadata": {
      "needs_background": "light"
     },
     "output_type": "display_data"
    }
   ],
   "source": [
    "game_stat_year.plot(figsize=(9,9)) #график по годам выхода игр\n",
    "None"
   ]
  },
  {
   "cell_type": "markdown",
   "metadata": {},
   "source": [
    "Для анализа будут актуальны данные только начиная с 2012 года, т.к. после пика количества выпущенных игр в 2008-2009 годах, пошел спад и в последние года рынок стабилизировался, кроме того, платформы, на которых выпускались игры в прошлом, уже потеряли свою актуальность.\n"
   ]
  },
  {
   "cell_type": "markdown",
   "metadata": {},
   "source": [
    "Спад в индустрии последних лет может быть связан с постоянным усовершенствованием смартфонов, которые успешно заменяют игровые приставки, в так же усложнением процесса создания игр - разработка занимает больше времени, соответственно и игр становится меньше."
   ]
  },
  {
   "cell_type": "code",
   "execution_count": 17,
   "metadata": {},
   "outputs": [
    {
     "data": {
      "text/html": [
       "<div>\n",
       "<style scoped>\n",
       "    .dataframe tbody tr th:only-of-type {\n",
       "        vertical-align: middle;\n",
       "    }\n",
       "\n",
       "    .dataframe tbody tr th {\n",
       "        vertical-align: top;\n",
       "    }\n",
       "\n",
       "    .dataframe thead th {\n",
       "        text-align: right;\n",
       "    }\n",
       "</style>\n",
       "<table border=\"1\" class=\"dataframe\">\n",
       "  <thead>\n",
       "    <tr style=\"text-align: right;\">\n",
       "      <th></th>\n",
       "      <th>name</th>\n",
       "      <th>platform</th>\n",
       "      <th>year_of_release</th>\n",
       "      <th>genre</th>\n",
       "      <th>na_sales</th>\n",
       "      <th>eu_sales</th>\n",
       "      <th>jp_sales</th>\n",
       "      <th>other_sales</th>\n",
       "      <th>critic_score</th>\n",
       "      <th>user_score</th>\n",
       "      <th>rating</th>\n",
       "      <th>total_sales</th>\n",
       "    </tr>\n",
       "  </thead>\n",
       "  <tbody>\n",
       "    <tr>\n",
       "      <th>16</th>\n",
       "      <td>Grand Theft Auto V</td>\n",
       "      <td>PS3</td>\n",
       "      <td>2013</td>\n",
       "      <td>Action</td>\n",
       "      <td>7.02</td>\n",
       "      <td>9.09</td>\n",
       "      <td>0.98</td>\n",
       "      <td>3.96</td>\n",
       "      <td>97.0</td>\n",
       "      <td>8.2</td>\n",
       "      <td>M</td>\n",
       "      <td>21.05</td>\n",
       "    </tr>\n",
       "    <tr>\n",
       "      <th>23</th>\n",
       "      <td>Grand Theft Auto V</td>\n",
       "      <td>X360</td>\n",
       "      <td>2013</td>\n",
       "      <td>Action</td>\n",
       "      <td>9.66</td>\n",
       "      <td>5.14</td>\n",
       "      <td>0.06</td>\n",
       "      <td>1.41</td>\n",
       "      <td>97.0</td>\n",
       "      <td>8.1</td>\n",
       "      <td>M</td>\n",
       "      <td>16.27</td>\n",
       "    </tr>\n",
       "    <tr>\n",
       "      <th>31</th>\n",
       "      <td>Call of Duty: Black Ops 3</td>\n",
       "      <td>PS4</td>\n",
       "      <td>2015</td>\n",
       "      <td>Shooter</td>\n",
       "      <td>6.03</td>\n",
       "      <td>5.86</td>\n",
       "      <td>0.36</td>\n",
       "      <td>2.38</td>\n",
       "      <td>NaN</td>\n",
       "      <td>NaN</td>\n",
       "      <td>Нет рейтинга</td>\n",
       "      <td>14.63</td>\n",
       "    </tr>\n",
       "    <tr>\n",
       "      <th>33</th>\n",
       "      <td>Pokemon X/Pokemon Y</td>\n",
       "      <td>3DS</td>\n",
       "      <td>2013</td>\n",
       "      <td>Role-Playing</td>\n",
       "      <td>5.28</td>\n",
       "      <td>4.19</td>\n",
       "      <td>4.35</td>\n",
       "      <td>0.78</td>\n",
       "      <td>NaN</td>\n",
       "      <td>NaN</td>\n",
       "      <td>Нет рейтинга</td>\n",
       "      <td>14.60</td>\n",
       "    </tr>\n",
       "    <tr>\n",
       "      <th>34</th>\n",
       "      <td>Call of Duty: Black Ops II</td>\n",
       "      <td>PS3</td>\n",
       "      <td>2012</td>\n",
       "      <td>Shooter</td>\n",
       "      <td>4.99</td>\n",
       "      <td>5.73</td>\n",
       "      <td>0.65</td>\n",
       "      <td>2.42</td>\n",
       "      <td>83.0</td>\n",
       "      <td>5.3</td>\n",
       "      <td>M</td>\n",
       "      <td>13.79</td>\n",
       "    </tr>\n",
       "  </tbody>\n",
       "</table>\n",
       "</div>"
      ],
      "text/plain": [
       "                          name platform  year_of_release         genre  \\\n",
       "16          Grand Theft Auto V      PS3             2013        Action   \n",
       "23          Grand Theft Auto V     X360             2013        Action   \n",
       "31   Call of Duty: Black Ops 3      PS4             2015       Shooter   \n",
       "33         Pokemon X/Pokemon Y      3DS             2013  Role-Playing   \n",
       "34  Call of Duty: Black Ops II      PS3             2012       Shooter   \n",
       "\n",
       "    na_sales  eu_sales  jp_sales  other_sales  critic_score  user_score  \\\n",
       "16      7.02      9.09      0.98         3.96          97.0         8.2   \n",
       "23      9.66      5.14      0.06         1.41          97.0         8.1   \n",
       "31      6.03      5.86      0.36         2.38           NaN         NaN   \n",
       "33      5.28      4.19      4.35         0.78           NaN         NaN   \n",
       "34      4.99      5.73      0.65         2.42          83.0         5.3   \n",
       "\n",
       "          rating  total_sales  \n",
       "16             M        21.05  \n",
       "23             M        16.27  \n",
       "31  Нет рейтинга        14.63  \n",
       "33  Нет рейтинга        14.60  \n",
       "34             M        13.79  "
      ]
     },
     "execution_count": 17,
     "metadata": {},
     "output_type": "execute_result"
    }
   ],
   "source": [
    "df2012 = df.query('year_of_release > 2011') #фильтр таблицы для дальнейшей работы\n",
    "df2012.head()"
   ]
  },
  {
   "cell_type": "markdown",
   "metadata": {},
   "source": [
    "### Изменение продаж по платформам. Выбор платформ с наибольшими суммарными продажами, построение распределения по годам. \n",
    "Поиск популярных в прошлом платформ, у которых сейчас продажи на нуле. Определение характерного периода, за который появляются новые и исчезают старые платформы."
   ]
  },
  {
   "cell_type": "code",
   "execution_count": 18,
   "metadata": {},
   "outputs": [
    {
     "data": {
      "text/html": [
       "<div>\n",
       "<style scoped>\n",
       "    .dataframe tbody tr th:only-of-type {\n",
       "        vertical-align: middle;\n",
       "    }\n",
       "\n",
       "    .dataframe tbody tr th {\n",
       "        vertical-align: top;\n",
       "    }\n",
       "\n",
       "    .dataframe thead th {\n",
       "        text-align: right;\n",
       "    }\n",
       "</style>\n",
       "<table border=\"1\" class=\"dataframe\">\n",
       "  <thead>\n",
       "    <tr style=\"text-align: right;\">\n",
       "      <th></th>\n",
       "      <th>total_sales</th>\n",
       "    </tr>\n",
       "    <tr>\n",
       "      <th>platform</th>\n",
       "      <th></th>\n",
       "    </tr>\n",
       "  </thead>\n",
       "  <tbody>\n",
       "    <tr>\n",
       "      <th>PS2</th>\n",
       "      <td>1233.56</td>\n",
       "    </tr>\n",
       "    <tr>\n",
       "      <th>X360</th>\n",
       "      <td>961.24</td>\n",
       "    </tr>\n",
       "    <tr>\n",
       "      <th>PS3</th>\n",
       "      <td>931.34</td>\n",
       "    </tr>\n",
       "    <tr>\n",
       "      <th>Wii</th>\n",
       "      <td>891.18</td>\n",
       "    </tr>\n",
       "    <tr>\n",
       "      <th>DS</th>\n",
       "      <td>802.78</td>\n",
       "    </tr>\n",
       "    <tr>\n",
       "      <th>PS</th>\n",
       "      <td>727.58</td>\n",
       "    </tr>\n",
       "    <tr>\n",
       "      <th>PS4</th>\n",
       "      <td>314.14</td>\n",
       "    </tr>\n",
       "    <tr>\n",
       "      <th>GBA</th>\n",
       "      <td>312.88</td>\n",
       "    </tr>\n",
       "    <tr>\n",
       "      <th>PSP</th>\n",
       "      <td>289.53</td>\n",
       "    </tr>\n",
       "    <tr>\n",
       "      <th>3DS</th>\n",
       "      <td>257.81</td>\n",
       "    </tr>\n",
       "    <tr>\n",
       "      <th>PC</th>\n",
       "      <td>255.76</td>\n",
       "    </tr>\n",
       "    <tr>\n",
       "      <th>GB</th>\n",
       "      <td>254.43</td>\n",
       "    </tr>\n",
       "    <tr>\n",
       "      <th>XB</th>\n",
       "      <td>251.57</td>\n",
       "    </tr>\n",
       "    <tr>\n",
       "      <th>NES</th>\n",
       "      <td>251.05</td>\n",
       "    </tr>\n",
       "    <tr>\n",
       "      <th>N64</th>\n",
       "      <td>218.01</td>\n",
       "    </tr>\n",
       "    <tr>\n",
       "      <th>SNES</th>\n",
       "      <td>200.04</td>\n",
       "    </tr>\n",
       "    <tr>\n",
       "      <th>GC</th>\n",
       "      <td>196.73</td>\n",
       "    </tr>\n",
       "    <tr>\n",
       "      <th>XOne</th>\n",
       "      <td>159.32</td>\n",
       "    </tr>\n",
       "    <tr>\n",
       "      <th>2600</th>\n",
       "      <td>86.48</td>\n",
       "    </tr>\n",
       "    <tr>\n",
       "      <th>WiiU</th>\n",
       "      <td>82.19</td>\n",
       "    </tr>\n",
       "    <tr>\n",
       "      <th>PSV</th>\n",
       "      <td>53.81</td>\n",
       "    </tr>\n",
       "    <tr>\n",
       "      <th>SAT</th>\n",
       "      <td>33.59</td>\n",
       "    </tr>\n",
       "    <tr>\n",
       "      <th>GEN</th>\n",
       "      <td>28.35</td>\n",
       "    </tr>\n",
       "    <tr>\n",
       "      <th>DC</th>\n",
       "      <td>15.95</td>\n",
       "    </tr>\n",
       "    <tr>\n",
       "      <th>SCD</th>\n",
       "      <td>1.86</td>\n",
       "    </tr>\n",
       "    <tr>\n",
       "      <th>NG</th>\n",
       "      <td>1.44</td>\n",
       "    </tr>\n",
       "    <tr>\n",
       "      <th>WS</th>\n",
       "      <td>1.42</td>\n",
       "    </tr>\n",
       "    <tr>\n",
       "      <th>TG16</th>\n",
       "      <td>0.16</td>\n",
       "    </tr>\n",
       "    <tr>\n",
       "      <th>3DO</th>\n",
       "      <td>0.10</td>\n",
       "    </tr>\n",
       "    <tr>\n",
       "      <th>GG</th>\n",
       "      <td>0.04</td>\n",
       "    </tr>\n",
       "    <tr>\n",
       "      <th>PCFX</th>\n",
       "      <td>0.03</td>\n",
       "    </tr>\n",
       "  </tbody>\n",
       "</table>\n",
       "</div>"
      ],
      "text/plain": [
       "          total_sales\n",
       "platform             \n",
       "PS2           1233.56\n",
       "X360           961.24\n",
       "PS3            931.34\n",
       "Wii            891.18\n",
       "DS             802.78\n",
       "PS             727.58\n",
       "PS4            314.14\n",
       "GBA            312.88\n",
       "PSP            289.53\n",
       "3DS            257.81\n",
       "PC             255.76\n",
       "GB             254.43\n",
       "XB             251.57\n",
       "NES            251.05\n",
       "N64            218.01\n",
       "SNES           200.04\n",
       "GC             196.73\n",
       "XOne           159.32\n",
       "2600            86.48\n",
       "WiiU            82.19\n",
       "PSV             53.81\n",
       "SAT             33.59\n",
       "GEN             28.35\n",
       "DC              15.95\n",
       "SCD              1.86\n",
       "NG               1.44\n",
       "WS               1.42\n",
       "TG16             0.16\n",
       "3DO              0.10\n",
       "GG               0.04\n",
       "PCFX             0.03"
      ]
     },
     "execution_count": 18,
     "metadata": {},
     "output_type": "execute_result"
    }
   ],
   "source": [
    "platform_stat= pd.pivot_table(df, index = ['platform'], values = ['total_sales'],aggfunc='sum').sort_values(by = 'total_sales', ascending = False) #сводная таблица по продажам платформ\n",
    "platform_stat"
   ]
  },
  {
   "cell_type": "code",
   "execution_count": 19,
   "metadata": {},
   "outputs": [
    {
     "data": {
      "text/plain": [
       "['PS2', 'X360', 'PS3', 'Wii', 'DS', 'PS']"
      ]
     },
     "execution_count": 19,
     "metadata": {},
     "output_type": "execute_result"
    }
   ],
   "source": [
    "top_platform = platform_stat.head(6).index.tolist() #формирование списка топ-платформ\n",
    "top_platform"
   ]
  },
  {
   "cell_type": "markdown",
   "metadata": {},
   "source": [
    "Самые большие продажи у платформ PS2, X360, PS3, Wii, DS, PS.\n",
    "Построим распределение для топ-платформ по годам."
   ]
  },
  {
   "cell_type": "code",
   "execution_count": 20,
   "metadata": {
    "scrolled": false
   },
   "outputs": [
    {
     "name": "stdout",
     "output_type": "stream",
     "text": [
      "PS2\n"
     ]
    },
    {
     "data": {
      "image/png": "[encoded data removed]",
      "text/plain": [
       "<Figure size 432x288 with 1 Axes>"
      ]
     },
     "metadata": {
      "needs_background": "light"
     },
     "output_type": "display_data"
    },
    {
     "name": "stdout",
     "output_type": "stream",
     "text": [
      "                          total_sales\n",
      "platform year_of_release             \n",
      "PS2      2000                   39.17\n",
      "         2001                  166.43\n",
      "         2002                  205.38\n",
      "         2003                  184.31\n",
      "         2004                  211.81\n",
      "         2005                  160.66\n",
      "         2006                  103.42\n",
      "         2007                   75.99\n",
      "         2008                   53.90\n",
      "         2009                   26.40\n",
      "         2010                    5.64\n",
      "         2011                    0.45\n",
      "X360\n"
     ]
    },
    {
     "data": {
      "image/png": "[encoded data removed]",
      "text/plain": [
       "<Figure size 432x288 with 1 Axes>"
      ]
     },
     "metadata": {
      "needs_background": "light"
     },
     "output_type": "display_data"
    },
    {
     "name": "stdout",
     "output_type": "stream",
     "text": [
      "                          total_sales\n",
      "platform year_of_release             \n",
      "X360     2005                    8.25\n",
      "         2006                   51.62\n",
      "         2007                   95.41\n",
      "         2008                  135.26\n",
      "         2009                  120.29\n",
      "         2010                  170.03\n",
      "         2011                  143.84\n",
      "         2012                   99.74\n",
      "         2013                   88.58\n",
      "         2014                   34.74\n",
      "         2015                   11.96\n",
      "         2016                    1.52\n",
      "PS3\n"
     ]
    },
    {
     "data": {
      "image/png": "[encoded data removed]",
      "text/plain": [
       "<Figure size 432x288 with 1 Axes>"
      ]
     },
     "metadata": {
      "needs_background": "light"
     },
     "output_type": "display_data"
    },
    {
     "name": "stdout",
     "output_type": "stream",
     "text": [
      "                          total_sales\n",
      "platform year_of_release             \n",
      "PS3      2006                   20.96\n",
      "         2007                   73.19\n",
      "         2008                  118.52\n",
      "         2009                  130.93\n",
      "         2010                  142.17\n",
      "         2011                  156.78\n",
      "         2012                  107.36\n",
      "         2013                  113.25\n",
      "         2014                   47.76\n",
      "         2015                   16.82\n",
      "         2016                    3.60\n",
      "Wii\n"
     ]
    },
    {
     "data": {
      "image/png": "[encoded data removed]",
      "text/plain": [
       "<Figure size 432x288 with 1 Axes>"
      ]
     },
     "metadata": {
      "needs_background": "light"
     },
     "output_type": "display_data"
    },
    {
     "name": "stdout",
     "output_type": "stream",
     "text": [
      "                          total_sales\n",
      "platform year_of_release             \n",
      "Wii      2006                  137.15\n",
      "         2007                  152.77\n",
      "         2008                  171.32\n",
      "         2009                  206.97\n",
      "         2010                  127.95\n",
      "         2011                   59.65\n",
      "         2012                   21.71\n",
      "         2013                    8.59\n",
      "         2014                    3.75\n",
      "         2015                    1.14\n",
      "         2016                    0.18\n",
      "DS\n"
     ]
    },
    {
     "data": {
      "image/png": "[encoded data removed]",
      "text/plain": [
       "<Figure size 432x288 with 1 Axes>"
      ]
     },
     "metadata": {
      "needs_background": "light"
     },
     "output_type": "display_data"
    },
    {
     "name": "stdout",
     "output_type": "stream",
     "text": [
      "                          total_sales\n",
      "platform year_of_release             \n",
      "DS       1985                    0.02\n",
      "         2004                   17.27\n",
      "         2005                  130.14\n",
      "         2006                  119.81\n",
      "         2007                  146.94\n",
      "         2008                  145.31\n",
      "         2009                  119.54\n",
      "         2010                   85.02\n",
      "         2011                   26.18\n",
      "         2012                   11.01\n",
      "         2013                    1.54\n",
      "PS\n"
     ]
    },
    {
     "data": {
      "image/png": "[encoded data removed]",
      "text/plain": [
       "<Figure size 432x288 with 1 Axes>"
      ]
     },
     "metadata": {
      "needs_background": "light"
     },
     "output_type": "display_data"
    },
    {
     "name": "stdout",
     "output_type": "stream",
     "text": [
      "                          total_sales\n",
      "platform year_of_release             \n",
      "PS       1994                    6.03\n",
      "         1995                   35.96\n",
      "         1996                   94.70\n",
      "         1997                  136.17\n",
      "         1998                  169.49\n",
      "         1999                  144.53\n",
      "         2000                   96.37\n",
      "         2001                   35.59\n",
      "         2002                    6.67\n",
      "         2003                    2.07\n"
     ]
    }
   ],
   "source": [
    "for platform in top_platform: #построение графиков продаж по годам для топ-платформ\n",
    "    platform_sales = pd.pivot_table(df.query('platform == @platform'), index=['platform','year_of_release'], values='total_sales', aggfunc='sum')\n",
    "    print(platform)\n",
    "    platform_sales.plot()\n",
    "    plt.show()\n",
    "    print(platform_sales)"
   ]
  },
  {
   "cell_type": "markdown",
   "metadata": {},
   "source": [
    "Платформы находятся на пике популярности 3-6 лет, затем продажи резко падают. У всех платформ из топ-6 низкие продажи в последние годы анализа. У платформ PS2, DS и PS продажи в последние годы анализа отсутствуют."
   ]
  },
  {
   "cell_type": "code",
   "execution_count": 21,
   "metadata": {},
   "outputs": [
    {
     "data": {
      "text/html": [
       "<div>\n",
       "<style scoped>\n",
       "    .dataframe tbody tr th:only-of-type {\n",
       "        vertical-align: middle;\n",
       "    }\n",
       "\n",
       "    .dataframe tbody tr th {\n",
       "        vertical-align: top;\n",
       "    }\n",
       "\n",
       "    .dataframe thead th {\n",
       "        text-align: right;\n",
       "    }\n",
       "</style>\n",
       "<table border=\"1\" class=\"dataframe\">\n",
       "  <thead>\n",
       "    <tr style=\"text-align: right;\">\n",
       "      <th></th>\n",
       "      <th>name</th>\n",
       "      <th>platform</th>\n",
       "      <th>year_of_release</th>\n",
       "      <th>genre</th>\n",
       "      <th>na_sales</th>\n",
       "      <th>eu_sales</th>\n",
       "      <th>jp_sales</th>\n",
       "      <th>other_sales</th>\n",
       "      <th>critic_score</th>\n",
       "      <th>user_score</th>\n",
       "      <th>rating</th>\n",
       "      <th>total_sales</th>\n",
       "    </tr>\n",
       "  </thead>\n",
       "  <tbody>\n",
       "    <tr>\n",
       "      <th>15704</th>\n",
       "      <td>Strongest Tokyo University Shogi DS</td>\n",
       "      <td>DS</td>\n",
       "      <td>1985</td>\n",
       "      <td>Action</td>\n",
       "      <td>0.0</td>\n",
       "      <td>0.0</td>\n",
       "      <td>0.02</td>\n",
       "      <td>0.0</td>\n",
       "      <td>NaN</td>\n",
       "      <td>NaN</td>\n",
       "      <td>Нет рейтинга</td>\n",
       "      <td>0.02</td>\n",
       "    </tr>\n",
       "  </tbody>\n",
       "</table>\n",
       "</div>"
      ],
      "text/plain": [
       "                                      name platform  year_of_release   genre  \\\n",
       "15704  Strongest Tokyo University Shogi DS       DS             1985  Action   \n",
       "\n",
       "       na_sales  eu_sales  jp_sales  other_sales  critic_score  user_score  \\\n",
       "15704       0.0       0.0      0.02          0.0           NaN         NaN   \n",
       "\n",
       "             rating  total_sales  \n",
       "15704  Нет рейтинга         0.02  "
      ]
     },
     "execution_count": 21,
     "metadata": {},
     "output_type": "execute_result"
    }
   ],
   "source": [
    "df.loc[(df['platform'] == \"DS\") &(df['year_of_release'] < 2004)] #просмотр записей с ранним выходом на платформе DS"
   ]
  },
  {
   "cell_type": "code",
   "execution_count": 22,
   "metadata": {},
   "outputs": [],
   "source": [
    "df=df.drop([15957]) #удаление записи"
   ]
  },
  {
   "cell_type": "markdown",
   "metadata": {},
   "source": [
    "### Определение периода анализа"
   ]
  },
  {
   "cell_type": "markdown",
   "metadata": {},
   "source": [
    "Предположительно, на 2017 год популярность наберут платформы, которые начали наращивать продажи в 2013-2015 гг. Анализ будет включать это временной промежуток 2011-2016, для того чтобы охватить максимальный подъем продаж одной платформы."
   ]
  },
  {
   "cell_type": "code",
   "execution_count": 23,
   "metadata": {},
   "outputs": [
    {
     "data": {
      "text/html": [
       "<div>\n",
       "<style scoped>\n",
       "    .dataframe tbody tr th:only-of-type {\n",
       "        vertical-align: middle;\n",
       "    }\n",
       "\n",
       "    .dataframe tbody tr th {\n",
       "        vertical-align: top;\n",
       "    }\n",
       "\n",
       "    .dataframe thead th {\n",
       "        text-align: right;\n",
       "    }\n",
       "</style>\n",
       "<table border=\"1\" class=\"dataframe\">\n",
       "  <thead>\n",
       "    <tr style=\"text-align: right;\">\n",
       "      <th></th>\n",
       "      <th>name</th>\n",
       "      <th>platform</th>\n",
       "      <th>year_of_release</th>\n",
       "      <th>genre</th>\n",
       "      <th>na_sales</th>\n",
       "      <th>eu_sales</th>\n",
       "      <th>jp_sales</th>\n",
       "      <th>other_sales</th>\n",
       "      <th>critic_score</th>\n",
       "      <th>user_score</th>\n",
       "      <th>rating</th>\n",
       "      <th>total_sales</th>\n",
       "    </tr>\n",
       "  </thead>\n",
       "  <tbody>\n",
       "    <tr>\n",
       "      <th>16</th>\n",
       "      <td>Grand Theft Auto V</td>\n",
       "      <td>PS3</td>\n",
       "      <td>2013</td>\n",
       "      <td>Action</td>\n",
       "      <td>7.02</td>\n",
       "      <td>9.09</td>\n",
       "      <td>0.98</td>\n",
       "      <td>3.96</td>\n",
       "      <td>97.0</td>\n",
       "      <td>8.2</td>\n",
       "      <td>M</td>\n",
       "      <td>21.05</td>\n",
       "    </tr>\n",
       "    <tr>\n",
       "      <th>23</th>\n",
       "      <td>Grand Theft Auto V</td>\n",
       "      <td>X360</td>\n",
       "      <td>2013</td>\n",
       "      <td>Action</td>\n",
       "      <td>9.66</td>\n",
       "      <td>5.14</td>\n",
       "      <td>0.06</td>\n",
       "      <td>1.41</td>\n",
       "      <td>97.0</td>\n",
       "      <td>8.1</td>\n",
       "      <td>M</td>\n",
       "      <td>16.27</td>\n",
       "    </tr>\n",
       "    <tr>\n",
       "      <th>29</th>\n",
       "      <td>Call of Duty: Modern Warfare 3</td>\n",
       "      <td>X360</td>\n",
       "      <td>2011</td>\n",
       "      <td>Shooter</td>\n",
       "      <td>9.04</td>\n",
       "      <td>4.24</td>\n",
       "      <td>0.13</td>\n",
       "      <td>1.32</td>\n",
       "      <td>88.0</td>\n",
       "      <td>3.4</td>\n",
       "      <td>M</td>\n",
       "      <td>14.73</td>\n",
       "    </tr>\n",
       "    <tr>\n",
       "      <th>31</th>\n",
       "      <td>Call of Duty: Black Ops 3</td>\n",
       "      <td>PS4</td>\n",
       "      <td>2015</td>\n",
       "      <td>Shooter</td>\n",
       "      <td>6.03</td>\n",
       "      <td>5.86</td>\n",
       "      <td>0.36</td>\n",
       "      <td>2.38</td>\n",
       "      <td>NaN</td>\n",
       "      <td>NaN</td>\n",
       "      <td>Нет рейтинга</td>\n",
       "      <td>14.63</td>\n",
       "    </tr>\n",
       "    <tr>\n",
       "      <th>33</th>\n",
       "      <td>Pokemon X/Pokemon Y</td>\n",
       "      <td>3DS</td>\n",
       "      <td>2013</td>\n",
       "      <td>Role-Playing</td>\n",
       "      <td>5.28</td>\n",
       "      <td>4.19</td>\n",
       "      <td>4.35</td>\n",
       "      <td>0.78</td>\n",
       "      <td>NaN</td>\n",
       "      <td>NaN</td>\n",
       "      <td>Нет рейтинга</td>\n",
       "      <td>14.60</td>\n",
       "    </tr>\n",
       "    <tr>\n",
       "      <th>...</th>\n",
       "      <td>...</td>\n",
       "      <td>...</td>\n",
       "      <td>...</td>\n",
       "      <td>...</td>\n",
       "      <td>...</td>\n",
       "      <td>...</td>\n",
       "      <td>...</td>\n",
       "      <td>...</td>\n",
       "      <td>...</td>\n",
       "      <td>...</td>\n",
       "      <td>...</td>\n",
       "      <td>...</td>\n",
       "    </tr>\n",
       "    <tr>\n",
       "      <th>16432</th>\n",
       "      <td>Strawberry Nauts</td>\n",
       "      <td>PSV</td>\n",
       "      <td>2016</td>\n",
       "      <td>Adventure</td>\n",
       "      <td>0.00</td>\n",
       "      <td>0.00</td>\n",
       "      <td>0.01</td>\n",
       "      <td>0.00</td>\n",
       "      <td>NaN</td>\n",
       "      <td>NaN</td>\n",
       "      <td>Нет рейтинга</td>\n",
       "      <td>0.01</td>\n",
       "    </tr>\n",
       "    <tr>\n",
       "      <th>16436</th>\n",
       "      <td>Aiyoku no Eustia</td>\n",
       "      <td>PSV</td>\n",
       "      <td>2014</td>\n",
       "      <td>Misc</td>\n",
       "      <td>0.00</td>\n",
       "      <td>0.00</td>\n",
       "      <td>0.01</td>\n",
       "      <td>0.00</td>\n",
       "      <td>NaN</td>\n",
       "      <td>NaN</td>\n",
       "      <td>Нет рейтинга</td>\n",
       "      <td>0.01</td>\n",
       "    </tr>\n",
       "    <tr>\n",
       "      <th>16439</th>\n",
       "      <td>Samurai Warriors: Sanada Maru</td>\n",
       "      <td>PS3</td>\n",
       "      <td>2016</td>\n",
       "      <td>Action</td>\n",
       "      <td>0.00</td>\n",
       "      <td>0.00</td>\n",
       "      <td>0.01</td>\n",
       "      <td>0.00</td>\n",
       "      <td>NaN</td>\n",
       "      <td>NaN</td>\n",
       "      <td>Нет рейтинга</td>\n",
       "      <td>0.01</td>\n",
       "    </tr>\n",
       "    <tr>\n",
       "      <th>16441</th>\n",
       "      <td>Haitaka no Psychedelica</td>\n",
       "      <td>PSV</td>\n",
       "      <td>2016</td>\n",
       "      <td>Adventure</td>\n",
       "      <td>0.00</td>\n",
       "      <td>0.00</td>\n",
       "      <td>0.01</td>\n",
       "      <td>0.00</td>\n",
       "      <td>NaN</td>\n",
       "      <td>NaN</td>\n",
       "      <td>Нет рейтинга</td>\n",
       "      <td>0.01</td>\n",
       "    </tr>\n",
       "    <tr>\n",
       "      <th>16443</th>\n",
       "      <td>Winning Post 8 2016</td>\n",
       "      <td>PSV</td>\n",
       "      <td>2016</td>\n",
       "      <td>Simulation</td>\n",
       "      <td>0.00</td>\n",
       "      <td>0.00</td>\n",
       "      <td>0.01</td>\n",
       "      <td>0.00</td>\n",
       "      <td>NaN</td>\n",
       "      <td>NaN</td>\n",
       "      <td>Нет рейтинга</td>\n",
       "      <td>0.01</td>\n",
       "    </tr>\n",
       "  </tbody>\n",
       "</table>\n",
       "<p>4022 rows × 12 columns</p>\n",
       "</div>"
      ],
      "text/plain": [
       "                                 name platform  year_of_release         genre  \\\n",
       "16                 Grand Theft Auto V      PS3             2013        Action   \n",
       "23                 Grand Theft Auto V     X360             2013        Action   \n",
       "29     Call of Duty: Modern Warfare 3     X360             2011       Shooter   \n",
       "31          Call of Duty: Black Ops 3      PS4             2015       Shooter   \n",
       "33                Pokemon X/Pokemon Y      3DS             2013  Role-Playing   \n",
       "...                               ...      ...              ...           ...   \n",
       "16432                Strawberry Nauts      PSV             2016     Adventure   \n",
       "16436                Aiyoku no Eustia      PSV             2014          Misc   \n",
       "16439   Samurai Warriors: Sanada Maru      PS3             2016        Action   \n",
       "16441         Haitaka no Psychedelica      PSV             2016     Adventure   \n",
       "16443             Winning Post 8 2016      PSV             2016    Simulation   \n",
       "\n",
       "       na_sales  eu_sales  jp_sales  other_sales  critic_score  user_score  \\\n",
       "16         7.02      9.09      0.98         3.96          97.0         8.2   \n",
       "23         9.66      5.14      0.06         1.41          97.0         8.1   \n",
       "29         9.04      4.24      0.13         1.32          88.0         3.4   \n",
       "31         6.03      5.86      0.36         2.38           NaN         NaN   \n",
       "33         5.28      4.19      4.35         0.78           NaN         NaN   \n",
       "...         ...       ...       ...          ...           ...         ...   \n",
       "16432      0.00      0.00      0.01         0.00           NaN         NaN   \n",
       "16436      0.00      0.00      0.01         0.00           NaN         NaN   \n",
       "16439      0.00      0.00      0.01         0.00           NaN         NaN   \n",
       "16441      0.00      0.00      0.01         0.00           NaN         NaN   \n",
       "16443      0.00      0.00      0.01         0.00           NaN         NaN   \n",
       "\n",
       "             rating  total_sales  \n",
       "16                M        21.05  \n",
       "23                M        16.27  \n",
       "29                M        14.73  \n",
       "31     Нет рейтинга        14.63  \n",
       "33     Нет рейтинга        14.60  \n",
       "...             ...          ...  \n",
       "16432  Нет рейтинга         0.01  \n",
       "16436  Нет рейтинга         0.01  \n",
       "16439  Нет рейтинга         0.01  \n",
       "16441  Нет рейтинга         0.01  \n",
       "16443  Нет рейтинга         0.01  \n",
       "\n",
       "[4022 rows x 12 columns]"
      ]
     },
     "execution_count": 23,
     "metadata": {},
     "output_type": "execute_result"
    }
   ],
   "source": [
    "new_df = df.query('year_of_release > 2010') #формирование новой таблицы\n",
    "new_df"
   ]
  },
  {
   "cell_type": "markdown",
   "metadata": {},
   "source": [
    "### Определение платформ, которые лидируют по продажам, растут или падают. Выбор нескольких потенциально прибыльных платформ."
   ]
  },
  {
   "cell_type": "code",
   "execution_count": 24,
   "metadata": {},
   "outputs": [
    {
     "data": {
      "text/html": [
       "<div>\n",
       "<style scoped>\n",
       "    .dataframe tbody tr th:only-of-type {\n",
       "        vertical-align: middle;\n",
       "    }\n",
       "\n",
       "    .dataframe tbody tr th {\n",
       "        vertical-align: top;\n",
       "    }\n",
       "\n",
       "    .dataframe thead th {\n",
       "        text-align: right;\n",
       "    }\n",
       "</style>\n",
       "<table border=\"1\" class=\"dataframe\">\n",
       "  <thead>\n",
       "    <tr style=\"text-align: right;\">\n",
       "      <th></th>\n",
       "      <th>total_sales</th>\n",
       "    </tr>\n",
       "    <tr>\n",
       "      <th>platform</th>\n",
       "      <th></th>\n",
       "    </tr>\n",
       "  </thead>\n",
       "  <tbody>\n",
       "    <tr>\n",
       "      <th>PS3</th>\n",
       "      <td>445.57</td>\n",
       "    </tr>\n",
       "    <tr>\n",
       "      <th>X360</th>\n",
       "      <td>380.38</td>\n",
       "    </tr>\n",
       "    <tr>\n",
       "      <th>PS4</th>\n",
       "      <td>314.14</td>\n",
       "    </tr>\n",
       "    <tr>\n",
       "      <th>3DS</th>\n",
       "      <td>257.81</td>\n",
       "    </tr>\n",
       "    <tr>\n",
       "      <th>XOne</th>\n",
       "      <td>159.32</td>\n",
       "    </tr>\n",
       "    <tr>\n",
       "      <th>PC</th>\n",
       "      <td>97.68</td>\n",
       "    </tr>\n",
       "    <tr>\n",
       "      <th>Wii</th>\n",
       "      <td>95.02</td>\n",
       "    </tr>\n",
       "    <tr>\n",
       "      <th>WiiU</th>\n",
       "      <td>82.19</td>\n",
       "    </tr>\n",
       "    <tr>\n",
       "      <th>PSV</th>\n",
       "      <td>53.81</td>\n",
       "    </tr>\n",
       "    <tr>\n",
       "      <th>DS</th>\n",
       "      <td>38.73</td>\n",
       "    </tr>\n",
       "    <tr>\n",
       "      <th>PSP</th>\n",
       "      <td>29.01</td>\n",
       "    </tr>\n",
       "    <tr>\n",
       "      <th>PS2</th>\n",
       "      <td>0.45</td>\n",
       "    </tr>\n",
       "  </tbody>\n",
       "</table>\n",
       "</div>"
      ],
      "text/plain": [
       "          total_sales\n",
       "platform             \n",
       "PS3            445.57\n",
       "X360           380.38\n",
       "PS4            314.14\n",
       "3DS            257.81\n",
       "XOne           159.32\n",
       "PC              97.68\n",
       "Wii             95.02\n",
       "WiiU            82.19\n",
       "PSV             53.81\n",
       "DS              38.73\n",
       "PSP             29.01\n",
       "PS2              0.45"
      ]
     },
     "execution_count": 24,
     "metadata": {},
     "output_type": "execute_result"
    }
   ],
   "source": [
    "#создание таблицы с продажами платформ\n",
    "platform_stat_2010 = pd.pivot_table(new_df, index = ['platform'], values = ['total_sales'],aggfunc='sum').sort_values(by = 'total_sales', ascending = False)\n",
    "platform_stat_2010"
   ]
  },
  {
   "cell_type": "markdown",
   "metadata": {},
   "source": [
    "Для анализа будут рассмотрены топ-8 платформ, для включения популярных платформ, находящихся на разных жизненных циклах."
   ]
  },
  {
   "cell_type": "code",
   "execution_count": 25,
   "metadata": {},
   "outputs": [
    {
     "data": {
      "text/plain": [
       "['PS3', 'X360', 'PS4', '3DS', 'XOne', 'PC', 'Wii', 'WiiU']"
      ]
     },
     "execution_count": 25,
     "metadata": {},
     "output_type": "execute_result"
    }
   ],
   "source": [
    "top_8_2010 = platform_stat_2010.head(8).index.tolist() \n",
    "top_8_2010"
   ]
  },
  {
   "cell_type": "code",
   "execution_count": 26,
   "metadata": {},
   "outputs": [
    {
     "name": "stdout",
     "output_type": "stream",
     "text": [
      "PS3\n"
     ]
    },
    {
     "data": {
      "image/png": "[encoded data removed]",
      "text/plain": [
       "<Figure size 432x288 with 1 Axes>"
      ]
     },
     "metadata": {
      "needs_background": "light"
     },
     "output_type": "display_data"
    },
    {
     "name": "stdout",
     "output_type": "stream",
     "text": [
      "                          total_sales\n",
      "platform year_of_release             \n",
      "PS3      2011                  156.78\n",
      "         2012                  107.36\n",
      "         2013                  113.25\n",
      "         2014                   47.76\n",
      "         2015                   16.82\n",
      "         2016                    3.60\n",
      "X360\n"
     ]
    },
    {
     "data": {
      "image/png": "[encoded data removed]",
      "text/plain": [
       "<Figure size 432x288 with 1 Axes>"
      ]
     },
     "metadata": {
      "needs_background": "light"
     },
     "output_type": "display_data"
    },
    {
     "name": "stdout",
     "output_type": "stream",
     "text": [
      "                          total_sales\n",
      "platform year_of_release             \n",
      "X360     2011                  143.84\n",
      "         2012                   99.74\n",
      "         2013                   88.58\n",
      "         2014                   34.74\n",
      "         2015                   11.96\n",
      "         2016                    1.52\n",
      "PS4\n"
     ]
    },
    {
     "data": {
      "image/png": "[encoded data removed]",
      "text/plain": [
       "<Figure size 432x288 with 1 Axes>"
      ]
     },
     "metadata": {
      "needs_background": "light"
     },
     "output_type": "display_data"
    },
    {
     "name": "stdout",
     "output_type": "stream",
     "text": [
      "                          total_sales\n",
      "platform year_of_release             \n",
      "PS4      2013                   25.99\n",
      "         2014                  100.00\n",
      "         2015                  118.90\n",
      "         2016                   69.25\n",
      "3DS\n"
     ]
    },
    {
     "data": {
      "image/png": "[encoded data removed]",
      "text/plain": [
       "<Figure size 432x288 with 1 Axes>"
      ]
     },
     "metadata": {
      "needs_background": "light"
     },
     "output_type": "display_data"
    },
    {
     "name": "stdout",
     "output_type": "stream",
     "text": [
      "                          total_sales\n",
      "platform year_of_release             \n",
      "3DS      2011                   63.20\n",
      "         2012                   51.36\n",
      "         2013                   56.57\n",
      "         2014                   43.76\n",
      "         2015                   27.78\n",
      "         2016                   15.14\n",
      "XOne\n"
     ]
    },
    {
     "data": {
      "image/png": "[encoded data removed]",
      "text/plain": [
       "<Figure size 432x288 with 1 Axes>"
      ]
     },
     "metadata": {
      "needs_background": "light"
     },
     "output_type": "display_data"
    },
    {
     "name": "stdout",
     "output_type": "stream",
     "text": [
      "                          total_sales\n",
      "platform year_of_release             \n",
      "XOne     2013                   18.96\n",
      "         2014                   54.07\n",
      "         2015                   60.14\n",
      "         2016                   26.15\n",
      "PC\n"
     ]
    },
    {
     "data": {
      "image/png": "[encoded data removed]",
      "text/plain": [
       "<Figure size 432x288 with 1 Axes>"
      ]
     },
     "metadata": {
      "needs_background": "light"
     },
     "output_type": "display_data"
    },
    {
     "name": "stdout",
     "output_type": "stream",
     "text": [
      "                          total_sales\n",
      "platform year_of_release             \n",
      "PC       2011                   35.03\n",
      "         2012                   23.22\n",
      "         2013                   12.38\n",
      "         2014                   13.28\n",
      "         2015                    8.52\n",
      "         2016                    5.25\n",
      "Wii\n"
     ]
    },
    {
     "data": {
      "image/png": "[encoded data removed]",
      "text/plain": [
       "<Figure size 432x288 with 1 Axes>"
      ]
     },
     "metadata": {
      "needs_background": "light"
     },
     "output_type": "display_data"
    },
    {
     "name": "stdout",
     "output_type": "stream",
     "text": [
      "                          total_sales\n",
      "platform year_of_release             \n",
      "Wii      2011                   59.65\n",
      "         2012                   21.71\n",
      "         2013                    8.59\n",
      "         2014                    3.75\n",
      "         2015                    1.14\n",
      "         2016                    0.18\n",
      "WiiU\n"
     ]
    },
    {
     "data": {
      "image/png": "[encoded data removed]",
      "text/plain": [
       "<Figure size 432x288 with 1 Axes>"
      ]
     },
     "metadata": {
      "needs_background": "light"
     },
     "output_type": "display_data"
    },
    {
     "name": "stdout",
     "output_type": "stream",
     "text": [
      "                          total_sales\n",
      "platform year_of_release             \n",
      "WiiU     2012                   17.56\n",
      "         2013                   21.65\n",
      "         2014                   22.03\n",
      "         2015                   16.35\n",
      "         2016                    4.60\n"
     ]
    }
   ],
   "source": [
    "for platform in top_8_2010: #построение графиков продаж\n",
    "    platform_new = pd.pivot_table(new_df.query('platform == @platform'), index=['platform','year_of_release'], values='total_sales', aggfunc='sum')\n",
    "    print(platform)\n",
    "    platform_new.plot()\n",
    "    plt.show()\n",
    "    print(platform_new)\n"
   ]
  },
  {
   "cell_type": "markdown",
   "metadata": {},
   "source": [
    "Из рассмотренных платформ пики продаж уже прошли: PS3, X360, 3DS, Wii, DS, PC.\n",
    "Популярность на 2017 год будет сохраняться или расти для платформ: PS4, XOne, WiiU."
   ]
  },
  {
   "cell_type": "markdown",
   "metadata": {},
   "source": [
    "### Построение графика «ящик с усами» по глобальным продажам каждой игры и разбивкой по платформам. Определение разницы в продажах, в средних продажах на разных платформах."
   ]
  },
  {
   "cell_type": "code",
   "execution_count": 27,
   "metadata": {},
   "outputs": [
    {
     "data": {
      "text/plain": [
       "<AxesSubplot:xlabel='platform', ylabel='total_sales'>"
      ]
     },
     "execution_count": 27,
     "metadata": {},
     "output_type": "execute_result"
    },
    {
     "data": {
      "image/png": "[encoded data removed]",
      "text/plain": [
       "<Figure size 864x864 with 1 Axes>"
      ]
     },
     "metadata": {
      "needs_background": "light"
     },
     "output_type": "display_data"
    }
   ],
   "source": [
    "total_sales = new_df['total_sales'] #диаграмы размаха по глобальным продажам для каждой платформы\n",
    "plt.figure(figsize=(12,12))\n",
    "sns.boxplot(x = new_df['platform'], y = total_sales)\n"
   ]
  },
  {
   "cell_type": "code",
   "execution_count": 28,
   "metadata": {
    "scrolled": false
   },
   "outputs": [
    {
     "data": {
      "text/plain": [
       "count    4022.000000\n",
       "mean        0.485855\n",
       "std         1.219503\n",
       "min         0.010000\n",
       "25%         0.040000\n",
       "50%         0.130000\n",
       "75%         0.407500\n",
       "max        21.050000\n",
       "Name: total_sales, dtype: float64"
      ]
     },
     "execution_count": 28,
     "metadata": {},
     "output_type": "execute_result"
    }
   ],
   "source": [
    "total_sales.describe() #статистическое описание столбца с продажами"
   ]
  },
  {
   "cell_type": "code",
   "execution_count": 29,
   "metadata": {
    "scrolled": false
   },
   "outputs": [
    {
     "name": "stdout",
     "output_type": "stream",
     "text": [
      "PS3 \n",
      " count    708.000000\n",
      "mean       0.629336\n",
      "std        1.451388\n",
      "min        0.010000\n",
      "25%        0.070000\n",
      "50%        0.210000\n",
      "75%        0.640000\n",
      "max       21.050000\n",
      "Name: total_sales, dtype: float64 \n",
      "\n",
      "X360 \n",
      " count    498.000000\n",
      "mean       0.763815\n",
      "std        1.637090\n",
      "min        0.010000\n",
      "25%        0.090000\n",
      "50%        0.270000\n",
      "75%        0.780000\n",
      "max       16.270000\n",
      "Name: total_sales, dtype: float64 \n",
      "\n",
      "PS4 \n",
      " count    392.000000\n",
      "mean       0.801378\n",
      "std        1.609456\n",
      "min        0.010000\n",
      "25%        0.060000\n",
      "50%        0.200000\n",
      "75%        0.730000\n",
      "max       14.630000\n",
      "Name: total_sales, dtype: float64 \n",
      "\n",
      "3DS \n",
      " count    512.000000\n",
      "mean       0.503535\n",
      "std        1.441271\n",
      "min        0.010000\n",
      "25%        0.050000\n",
      "50%        0.120000\n",
      "75%        0.332500\n",
      "max       14.600000\n",
      "Name: total_sales, dtype: float64 \n",
      "\n",
      "XOne \n",
      " count    247.000000\n",
      "mean       0.645020\n",
      "std        1.036139\n",
      "min        0.010000\n",
      "25%        0.060000\n",
      "50%        0.220000\n",
      "75%        0.685000\n",
      "max        7.390000\n",
      "Name: total_sales, dtype: float64 \n",
      "\n",
      "PC \n",
      " count    389.000000\n",
      "mean       0.251105\n",
      "std        0.505710\n",
      "min        0.010000\n",
      "25%        0.030000\n",
      "50%        0.080000\n",
      "75%        0.240000\n",
      "max        5.140000\n",
      "Name: total_sales, dtype: float64 \n",
      "\n",
      "Wii \n",
      " count    197.000000\n",
      "mean       0.482335\n",
      "std        1.059069\n",
      "min        0.010000\n",
      "25%        0.090000\n",
      "50%        0.170000\n",
      "75%        0.390000\n",
      "max       10.120000\n",
      "Name: total_sales, dtype: float64 \n",
      "\n",
      "WiiU \n",
      " count    147.000000\n",
      "mean       0.559116\n",
      "std        1.058836\n",
      "min        0.010000\n",
      "25%        0.080000\n",
      "50%        0.220000\n",
      "75%        0.525000\n",
      "max        7.090000\n",
      "Name: total_sales, dtype: float64 \n",
      "\n"
     ]
    }
   ],
   "source": [
    "for platform in top_8_2010: #статситическое описание столбца с продажами для каждой платформы\n",
    "    platform_new_df = new_df.query('platform == @platform')\n",
    "    print(platform, '\\n', platform_new_df['total_sales'].describe(), '\\n')"
   ]
  },
  {
   "cell_type": "markdown",
   "metadata": {},
   "source": [
    "Существуют различия в характере продаж по платформам. Самое низкое стандартное отклонение у платформ DS и PC, что говорит о меньшем разбросе данных и приближенности основной массы продаж к средней, соответственно, большинство игр пользуются одинаковым успехом. Также для этих платформ самые низкие значения средних продаж.\n",
    "Большее количество успешных игр выпущено на платформах PS4, X360 и 3DS. Самые высокие средние продажи - на платформе PS4. При этом максимальные продажи отдельных игр были на платформах PS3 и X360.\n",
    "\n",
    "\n",
    "Разница продаж между платформами может быть связана со стоимостью разработки игр для каждой платформы, а также жанров, которые пользуются большим успехом среди пользователей платформ. Кроме того, более успешные разработчики могут позволить более дорогие рекламные кампании, стоимость которых будет заложена в цену для пользователей. Также игры для платформ, которые лучше защищены от пиратства, будут продаваться лучше, а чем плафторма современее, тем больше вероятность, что нелегальных игр нет.\n",
    "\n",
    "\n",
    "В целом можно говорить о том, что было выпущено некоторое количество очень успешных игр на самых популярных платформах: PS3 и Х360, очевидно, что разработчики сделают ставку уже на следующее поколение приставок: PS4 и XOne. "
   ]
  },
  {
   "cell_type": "markdown",
   "metadata": {
    "scrolled": true
   },
   "source": [
    "### Определение характера влияния на продажи внутри одной популярной платформы отзывов пользователей и критиков. Построение диаграммы рассеяния, подсчет корреляции между отзывами и продажами. Соотнесение выводов с продажами игр на других платформах."
   ]
  },
  {
   "cell_type": "code",
   "execution_count": 30,
   "metadata": {},
   "outputs": [
    {
     "data": {
      "text/html": [
       "<div>\n",
       "<style scoped>\n",
       "    .dataframe tbody tr th:only-of-type {\n",
       "        vertical-align: middle;\n",
       "    }\n",
       "\n",
       "    .dataframe tbody tr th {\n",
       "        vertical-align: top;\n",
       "    }\n",
       "\n",
       "    .dataframe thead th {\n",
       "        text-align: right;\n",
       "    }\n",
       "</style>\n",
       "<table border=\"1\" class=\"dataframe\">\n",
       "  <thead>\n",
       "    <tr style=\"text-align: right;\">\n",
       "      <th></th>\n",
       "      <th>critic_score</th>\n",
       "      <th>user_score</th>\n",
       "      <th>total_sales</th>\n",
       "    </tr>\n",
       "  </thead>\n",
       "  <tbody>\n",
       "    <tr>\n",
       "      <th>31</th>\n",
       "      <td>NaN</td>\n",
       "      <td>NaN</td>\n",
       "      <td>14.63</td>\n",
       "    </tr>\n",
       "    <tr>\n",
       "      <th>42</th>\n",
       "      <td>97.0</td>\n",
       "      <td>8.3</td>\n",
       "      <td>12.62</td>\n",
       "    </tr>\n",
       "    <tr>\n",
       "      <th>77</th>\n",
       "      <td>82.0</td>\n",
       "      <td>4.3</td>\n",
       "      <td>8.58</td>\n",
       "    </tr>\n",
       "    <tr>\n",
       "      <th>87</th>\n",
       "      <td>NaN</td>\n",
       "      <td>NaN</td>\n",
       "      <td>7.98</td>\n",
       "    </tr>\n",
       "    <tr>\n",
       "      <th>92</th>\n",
       "      <td>83.0</td>\n",
       "      <td>5.7</td>\n",
       "      <td>7.66</td>\n",
       "    </tr>\n",
       "  </tbody>\n",
       "</table>\n",
       "</div>"
      ],
      "text/plain": [
       "    critic_score  user_score  total_sales\n",
       "31           NaN         NaN        14.63\n",
       "42          97.0         8.3        12.62\n",
       "77          82.0         4.3         8.58\n",
       "87           NaN         NaN         7.98\n",
       "92          83.0         5.7         7.66"
      ]
     },
     "execution_count": 30,
     "metadata": {},
     "output_type": "execute_result"
    }
   ],
   "source": [
    "PS4_new_df = new_df.query('platform == \"PS4\"') #таблица с необходимыми значениями на платформе PS4\n",
    "PS4_score = PS4_new_df.loc[:,['critic_score', 'user_score', 'total_sales']]\n",
    "PS4_score.head()"
   ]
  },
  {
   "cell_type": "code",
   "execution_count": 31,
   "metadata": {},
   "outputs": [
    {
     "data": {
      "text/html": [
       "<div>\n",
       "<style scoped>\n",
       "    .dataframe tbody tr th:only-of-type {\n",
       "        vertical-align: middle;\n",
       "    }\n",
       "\n",
       "    .dataframe tbody tr th {\n",
       "        vertical-align: top;\n",
       "    }\n",
       "\n",
       "    .dataframe thead th {\n",
       "        text-align: right;\n",
       "    }\n",
       "</style>\n",
       "<table border=\"1\" class=\"dataframe\">\n",
       "  <thead>\n",
       "    <tr style=\"text-align: right;\">\n",
       "      <th></th>\n",
       "      <th>critic_score</th>\n",
       "      <th>user_score</th>\n",
       "      <th>total_sales</th>\n",
       "    </tr>\n",
       "  </thead>\n",
       "  <tbody>\n",
       "    <tr>\n",
       "      <th>critic_score</th>\n",
       "      <td>1.000000</td>\n",
       "      <td>0.557654</td>\n",
       "      <td>0.406568</td>\n",
       "    </tr>\n",
       "    <tr>\n",
       "      <th>user_score</th>\n",
       "      <td>0.557654</td>\n",
       "      <td>1.000000</td>\n",
       "      <td>-0.031957</td>\n",
       "    </tr>\n",
       "    <tr>\n",
       "      <th>total_sales</th>\n",
       "      <td>0.406568</td>\n",
       "      <td>-0.031957</td>\n",
       "      <td>1.000000</td>\n",
       "    </tr>\n",
       "  </tbody>\n",
       "</table>\n",
       "</div>"
      ],
      "text/plain": [
       "              critic_score  user_score  total_sales\n",
       "critic_score      1.000000    0.557654     0.406568\n",
       "user_score        0.557654    1.000000    -0.031957\n",
       "total_sales       0.406568   -0.031957     1.000000"
      ]
     },
     "execution_count": 31,
     "metadata": {},
     "output_type": "execute_result"
    }
   ],
   "source": [
    "PS4_score.corr() #корреляция "
   ]
  },
  {
   "cell_type": "code",
   "execution_count": 32,
   "metadata": {},
   "outputs": [
    {
     "data": {
      "image/png": "[encoded data removed]",
      "text/plain": [
       "<Figure size 720x720 with 9 Axes>"
      ]
     },
     "metadata": {
      "needs_background": "light"
     },
     "output_type": "display_data"
    }
   ],
   "source": [
    "pd.plotting.scatter_matrix(PS4_score, figsize=(10, 10))\n",
    "None"
   ]
  },
  {
   "cell_type": "markdown",
   "metadata": {},
   "source": [
    "Для платформы PS4 cуществует слабая корреляция между продажами и оценками критиков, связь между продажами и оценками пользователей носит отрицательный характер. Соответственно значимой связи между оценками и продажами не существует."
   ]
  },
  {
   "cell_type": "code",
   "execution_count": 33,
   "metadata": {},
   "outputs": [
    {
     "name": "stdout",
     "output_type": "stream",
     "text": [
      "PS3 \n",
      "               critic_score  user_score  total_sales\n",
      "critic_score      1.000000    0.563315     0.380111\n",
      "user_score        0.563315    1.000000     0.014089\n",
      "total_sales       0.380111    0.014089     1.000000 \n",
      "\n",
      "X360 \n",
      "               critic_score  user_score  total_sales\n",
      "critic_score      1.000000    0.568386     0.391253\n",
      "user_score        0.568386    1.000000     0.038918\n",
      "total_sales       0.391253    0.038918     1.000000 \n",
      "\n",
      "PS4 \n",
      "               critic_score  user_score  total_sales\n",
      "critic_score      1.000000    0.557654     0.406568\n",
      "user_score        0.557654    1.000000    -0.031957\n",
      "total_sales       0.406568   -0.031957     1.000000 \n",
      "\n",
      "3DS \n",
      "               critic_score  user_score  total_sales\n",
      "critic_score      1.000000    0.745222     0.348740\n",
      "user_score        0.745222    1.000000     0.222078\n",
      "total_sales       0.348740    0.222078     1.000000 \n",
      "\n",
      "XOne \n",
      "               critic_score  user_score  total_sales\n",
      "critic_score      1.000000    0.472462     0.416998\n",
      "user_score        0.472462    1.000000    -0.068925\n",
      "total_sales       0.416998   -0.068925     1.000000 \n",
      "\n",
      "PC \n",
      "               critic_score  user_score  total_sales\n",
      "critic_score      1.000000    0.464815     0.314185\n",
      "user_score        0.464815    1.000000    -0.048967\n",
      "total_sales       0.314185   -0.048967     1.000000 \n",
      "\n",
      "Wii \n",
      "               critic_score  user_score  total_sales\n",
      "critic_score      1.000000    0.444480     0.292269\n",
      "user_score        0.444480    1.000000     0.145504\n",
      "total_sales       0.292269    0.145504     1.000000 \n",
      "\n",
      "WiiU \n",
      "               critic_score  user_score  total_sales\n",
      "critic_score       1.00000    0.770080     0.348380\n",
      "user_score         0.77008    1.000000     0.400219\n",
      "total_sales        0.34838    0.400219     1.000000 \n",
      "\n"
     ]
    }
   ],
   "source": [
    "for platform in top_8_2010: #просмотр корреляции для других платформ\n",
    "    platform_corr = new_df.query('platform == @platform')\n",
    "    corr_pl = platform_corr.loc[:,['critic_score', 'user_score', 'total_sales']]\n",
    "    print(platform, '\\n', corr_pl.corr(), '\\n')"
   ]
  },
  {
   "cell_type": "markdown",
   "metadata": {},
   "source": [
    "Выводы, полученные на основе анализа коэффициентов корреляции для плафтормы PS4 можно распространить на платформы PS3, XOne - для этих платформ отсутсвует значимая связь между оценками критиков и продажами. \n",
    "Влияние оценки критиков на продажи незначительно меняется от платформы к платформе.\n",
    "\n",
    "Для более новых платформ - PS4 и XOne - оценки критиков немного важнее, т.к. у игроков еще может быть недостаточно опыта игр на платформе, кроме того, учитывая, что стоимость игр на новых платформах выше, то хочется доверится профессиональным критикам."
   ]
  },
  {
   "cell_type": "markdown",
   "metadata": {},
   "source": [
    "### Изучение общего распределения игр по жанрам. Характеристика самых прибыльных жанров, жанры с высокими и низкими продажами."
   ]
  },
  {
   "cell_type": "code",
   "execution_count": 34,
   "metadata": {},
   "outputs": [
    {
     "data": {
      "text/html": [
       "<div>\n",
       "<style scoped>\n",
       "    .dataframe tbody tr th:only-of-type {\n",
       "        vertical-align: middle;\n",
       "    }\n",
       "\n",
       "    .dataframe tbody tr th {\n",
       "        vertical-align: top;\n",
       "    }\n",
       "\n",
       "    .dataframe thead th {\n",
       "        text-align: right;\n",
       "    }\n",
       "</style>\n",
       "<table border=\"1\" class=\"dataframe\">\n",
       "  <thead>\n",
       "    <tr style=\"text-align: right;\">\n",
       "      <th></th>\n",
       "      <th>total_sales</th>\n",
       "    </tr>\n",
       "    <tr>\n",
       "      <th>genre</th>\n",
       "      <th></th>\n",
       "    </tr>\n",
       "  </thead>\n",
       "  <tbody>\n",
       "    <tr>\n",
       "      <th>Action</th>\n",
       "      <td>557.80</td>\n",
       "    </tr>\n",
       "    <tr>\n",
       "      <th>Shooter</th>\n",
       "      <td>402.91</td>\n",
       "    </tr>\n",
       "    <tr>\n",
       "      <th>Role-Playing</th>\n",
       "      <td>245.63</td>\n",
       "    </tr>\n",
       "    <tr>\n",
       "      <th>Sports</th>\n",
       "      <td>237.15</td>\n",
       "    </tr>\n",
       "    <tr>\n",
       "      <th>Misc</th>\n",
       "      <td>139.42</td>\n",
       "    </tr>\n",
       "    <tr>\n",
       "      <th>Platform</th>\n",
       "      <td>88.68</td>\n",
       "    </tr>\n",
       "    <tr>\n",
       "      <th>Racing</th>\n",
       "      <td>88.31</td>\n",
       "    </tr>\n",
       "    <tr>\n",
       "      <th>Fighting</th>\n",
       "      <td>66.90</td>\n",
       "    </tr>\n",
       "    <tr>\n",
       "      <th>Simulation</th>\n",
       "      <td>50.26</td>\n",
       "    </tr>\n",
       "    <tr>\n",
       "      <th>Adventure</th>\n",
       "      <td>45.04</td>\n",
       "    </tr>\n",
       "    <tr>\n",
       "      <th>Strategy</th>\n",
       "      <td>22.16</td>\n",
       "    </tr>\n",
       "    <tr>\n",
       "      <th>Puzzle</th>\n",
       "      <td>9.85</td>\n",
       "    </tr>\n",
       "  </tbody>\n",
       "</table>\n",
       "</div>"
      ],
      "text/plain": [
       "              total_sales\n",
       "genre                    \n",
       "Action             557.80\n",
       "Shooter            402.91\n",
       "Role-Playing       245.63\n",
       "Sports             237.15\n",
       "Misc               139.42\n",
       "Platform            88.68\n",
       "Racing              88.31\n",
       "Fighting            66.90\n",
       "Simulation          50.26\n",
       "Adventure           45.04\n",
       "Strategy            22.16\n",
       "Puzzle               9.85"
      ]
     },
     "execution_count": 34,
     "metadata": {},
     "output_type": "execute_result"
    }
   ],
   "source": [
    "genre = pd.pivot_table(new_df, index = 'genre', values = 'total_sales', aggfunc = 'sum') #таблица продаж по жанрам\n",
    "genre.sort_values('total_sales', ascending = False)"
   ]
  },
  {
   "cell_type": "code",
   "execution_count": 35,
   "metadata": {},
   "outputs": [
    {
     "data": {
      "text/html": [
       "<div>\n",
       "<style scoped>\n",
       "    .dataframe tbody tr th:only-of-type {\n",
       "        vertical-align: middle;\n",
       "    }\n",
       "\n",
       "    .dataframe tbody tr th {\n",
       "        vertical-align: top;\n",
       "    }\n",
       "\n",
       "    .dataframe thead th {\n",
       "        text-align: right;\n",
       "    }\n",
       "</style>\n",
       "<table border=\"1\" class=\"dataframe\">\n",
       "  <thead>\n",
       "    <tr style=\"text-align: right;\">\n",
       "      <th></th>\n",
       "      <th>name</th>\n",
       "    </tr>\n",
       "    <tr>\n",
       "      <th>genre</th>\n",
       "      <th></th>\n",
       "    </tr>\n",
       "  </thead>\n",
       "  <tbody>\n",
       "    <tr>\n",
       "      <th>Action</th>\n",
       "      <td>1269</td>\n",
       "    </tr>\n",
       "    <tr>\n",
       "      <th>Role-Playing</th>\n",
       "      <td>465</td>\n",
       "    </tr>\n",
       "    <tr>\n",
       "      <th>Adventure</th>\n",
       "      <td>410</td>\n",
       "    </tr>\n",
       "    <tr>\n",
       "      <th>Sports</th>\n",
       "      <td>389</td>\n",
       "    </tr>\n",
       "    <tr>\n",
       "      <th>Misc</th>\n",
       "      <td>375</td>\n",
       "    </tr>\n",
       "    <tr>\n",
       "      <th>Shooter</th>\n",
       "      <td>329</td>\n",
       "    </tr>\n",
       "    <tr>\n",
       "      <th>Racing</th>\n",
       "      <td>180</td>\n",
       "    </tr>\n",
       "    <tr>\n",
       "      <th>Fighting</th>\n",
       "      <td>159</td>\n",
       "    </tr>\n",
       "    <tr>\n",
       "      <th>Simulation</th>\n",
       "      <td>136</td>\n",
       "    </tr>\n",
       "    <tr>\n",
       "      <th>Platform</th>\n",
       "      <td>122</td>\n",
       "    </tr>\n",
       "    <tr>\n",
       "      <th>Strategy</th>\n",
       "      <td>117</td>\n",
       "    </tr>\n",
       "    <tr>\n",
       "      <th>Puzzle</th>\n",
       "      <td>71</td>\n",
       "    </tr>\n",
       "  </tbody>\n",
       "</table>\n",
       "</div>"
      ],
      "text/plain": [
       "              name\n",
       "genre             \n",
       "Action        1269\n",
       "Role-Playing   465\n",
       "Adventure      410\n",
       "Sports         389\n",
       "Misc           375\n",
       "Shooter        329\n",
       "Racing         180\n",
       "Fighting       159\n",
       "Simulation     136\n",
       "Platform       122\n",
       "Strategy       117\n",
       "Puzzle          71"
      ]
     },
     "execution_count": 35,
     "metadata": {},
     "output_type": "execute_result"
    }
   ],
   "source": [
    "genre_game = pd.pivot_table(new_df, index = 'genre', values = 'name', aggfunc = 'count') #таблтца количества игр по жанрам\n",
    "genre_game.sort_values('name', ascending = False)"
   ]
  },
  {
   "cell_type": "markdown",
   "metadata": {},
   "source": [
    "Самыми прибыльными жанрами явлются: Action, Shooter, Sports, Role-Playing, Misc. \n",
    "При этом 4 из них (кроме Shooter) также лидируют по количеству выпущенных игр, соответственно, более высокие продажи могут быть следствием большего количества выпущенных игр, а также их стоимости, которая увеличивается в зависимости от стоимости производства.\n",
    "\n",
    "Наименее прибыльные жанры: Adventure, Strategy, Puzzle, при этом Adventure входит в топ-5 по количеству выпущенных игр."
   ]
  },
  {
   "cell_type": "markdown",
   "metadata": {},
   "source": [
    "<a id='3step'></a>"
   ]
  },
  {
   "cell_type": "markdown",
   "metadata": {},
   "source": [
    "## Составление портрета пользователя каждого региона"
   ]
  },
  {
   "cell_type": "markdown",
   "metadata": {},
   "source": [
    "### Определение для пользователя каждого региона (NA, EU, JP):\n",
    "- Самые популярные платформы (топ-5). Различия в долях продаж;\n",
    "- Самые популярные жанры (топ-5). Пояснение разницы;\n",
    "- Наличие влияния рейтинга ESRB на продажи в отдельном регионе."
   ]
  },
  {
   "cell_type": "markdown",
   "metadata": {},
   "source": [
    "Регион: Северная Америка"
   ]
  },
  {
   "cell_type": "code",
   "execution_count": 36,
   "metadata": {
    "scrolled": false
   },
   "outputs": [
    {
     "name": "stdout",
     "output_type": "stream",
     "text": [
      "<class 'pandas.core.frame.DataFrame'>\n",
      "Int64Index: 2433 entries, 16 to 16425\n",
      "Data columns (total 12 columns):\n",
      " #   Column           Non-Null Count  Dtype  \n",
      "---  ------           --------------  -----  \n",
      " 0   name             2433 non-null   object \n",
      " 1   platform         2433 non-null   object \n",
      " 2   year_of_release  2433 non-null   int16  \n",
      " 3   genre            2433 non-null   object \n",
      " 4   na_sales         2433 non-null   float64\n",
      " 5   eu_sales         2433 non-null   float64\n",
      " 6   jp_sales         2433 non-null   float64\n",
      " 7   other_sales      2433 non-null   float64\n",
      " 8   critic_score     1547 non-null   float64\n",
      " 9   user_score       1722 non-null   float64\n",
      " 10  rating           2433 non-null   object \n",
      " 11  total_sales      2433 non-null   float64\n",
      "dtypes: float64(7), int16(1), object(4)\n",
      "memory usage: 232.8+ KB\n"
     ]
    }
   ],
   "source": [
    "NA_stat = new_df.query('na_sales > 0')\n",
    "NA_stat.info()"
   ]
  },
  {
   "cell_type": "code",
   "execution_count": 37,
   "metadata": {},
   "outputs": [
    {
     "data": {
      "text/html": [
       "<div>\n",
       "<style scoped>\n",
       "    .dataframe tbody tr th:only-of-type {\n",
       "        vertical-align: middle;\n",
       "    }\n",
       "\n",
       "    .dataframe tbody tr th {\n",
       "        vertical-align: top;\n",
       "    }\n",
       "\n",
       "    .dataframe thead th {\n",
       "        text-align: right;\n",
       "    }\n",
       "</style>\n",
       "<table border=\"1\" class=\"dataframe\">\n",
       "  <thead>\n",
       "    <tr style=\"text-align: right;\">\n",
       "      <th></th>\n",
       "      <th>na_sales</th>\n",
       "    </tr>\n",
       "    <tr>\n",
       "      <th>platform</th>\n",
       "      <th></th>\n",
       "    </tr>\n",
       "  </thead>\n",
       "  <tbody>\n",
       "    <tr>\n",
       "      <th>X360</th>\n",
       "      <td>226.80</td>\n",
       "    </tr>\n",
       "    <tr>\n",
       "      <th>PS3</th>\n",
       "      <td>168.26</td>\n",
       "    </tr>\n",
       "    <tr>\n",
       "      <th>PS4</th>\n",
       "      <td>108.74</td>\n",
       "    </tr>\n",
       "    <tr>\n",
       "      <th>XOne</th>\n",
       "      <td>93.12</td>\n",
       "    </tr>\n",
       "    <tr>\n",
       "      <th>3DS</th>\n",
       "      <td>82.65</td>\n",
       "    </tr>\n",
       "    <tr>\n",
       "      <th>Wii</th>\n",
       "      <td>48.56</td>\n",
       "    </tr>\n",
       "    <tr>\n",
       "      <th>WiiU</th>\n",
       "      <td>38.10</td>\n",
       "    </tr>\n",
       "    <tr>\n",
       "      <th>PC</th>\n",
       "      <td>29.88</td>\n",
       "    </tr>\n",
       "    <tr>\n",
       "      <th>DS</th>\n",
       "      <td>18.86</td>\n",
       "    </tr>\n",
       "    <tr>\n",
       "      <th>PSV</th>\n",
       "      <td>12.47</td>\n",
       "    </tr>\n",
       "    <tr>\n",
       "      <th>PSP</th>\n",
       "      <td>2.19</td>\n",
       "    </tr>\n",
       "    <tr>\n",
       "      <th>PS2</th>\n",
       "      <td>0.13</td>\n",
       "    </tr>\n",
       "  </tbody>\n",
       "</table>\n",
       "</div>"
      ],
      "text/plain": [
       "          na_sales\n",
       "platform          \n",
       "X360        226.80\n",
       "PS3         168.26\n",
       "PS4         108.74\n",
       "XOne         93.12\n",
       "3DS          82.65\n",
       "Wii          48.56\n",
       "WiiU         38.10\n",
       "PC           29.88\n",
       "DS           18.86\n",
       "PSV          12.47\n",
       "PSP           2.19\n",
       "PS2           0.13"
      ]
     },
     "execution_count": 37,
     "metadata": {},
     "output_type": "execute_result"
    }
   ],
   "source": [
    "NA_platform = pd.pivot_table(NA_stat, index = 'platform', values = 'na_sales', aggfunc = 'sum') #общие продажи в Северной Америке\n",
    "NA_platform.sort_values('na_sales', ascending = False)"
   ]
  },
  {
   "cell_type": "code",
   "execution_count": 38,
   "metadata": {},
   "outputs": [
    {
     "data": {
      "image/png": "[encoded data removed]",
      "text/plain": [
       "<Figure size 432x288 with 1 Axes>"
      ]
     },
     "metadata": {
      "needs_background": "light"
     },
     "output_type": "display_data"
    }
   ],
   "source": [
    "NA_platform.plot(kind='bar')\n",
    "None"
   ]
  },
  {
   "cell_type": "code",
   "execution_count": 39,
   "metadata": {},
   "outputs": [
    {
     "data": {
      "text/plain": [
       "829.7600000000004"
      ]
     },
     "execution_count": 39,
     "metadata": {},
     "output_type": "execute_result"
    }
   ],
   "source": [
    "NA_total = NA_platform ['na_sales'].sum() #сумма продаж\n",
    "NA_total"
   ]
  },
  {
   "cell_type": "code",
   "execution_count": 40,
   "metadata": {},
   "outputs": [
    {
     "data": {
      "text/html": [
       "<div>\n",
       "<style scoped>\n",
       "    .dataframe tbody tr th:only-of-type {\n",
       "        vertical-align: middle;\n",
       "    }\n",
       "\n",
       "    .dataframe tbody tr th {\n",
       "        vertical-align: top;\n",
       "    }\n",
       "\n",
       "    .dataframe thead th {\n",
       "        text-align: right;\n",
       "    }\n",
       "</style>\n",
       "<table border=\"1\" class=\"dataframe\">\n",
       "  <thead>\n",
       "    <tr style=\"text-align: right;\">\n",
       "      <th></th>\n",
       "      <th>na_sales</th>\n",
       "      <th>share</th>\n",
       "    </tr>\n",
       "    <tr>\n",
       "      <th>platform</th>\n",
       "      <th></th>\n",
       "      <th></th>\n",
       "    </tr>\n",
       "  </thead>\n",
       "  <tbody>\n",
       "    <tr>\n",
       "      <th>X360</th>\n",
       "      <td>226.80</td>\n",
       "      <td>27.333205</td>\n",
       "    </tr>\n",
       "    <tr>\n",
       "      <th>PS3</th>\n",
       "      <td>168.26</td>\n",
       "      <td>20.278153</td>\n",
       "    </tr>\n",
       "    <tr>\n",
       "      <th>PS4</th>\n",
       "      <td>108.74</td>\n",
       "      <td>13.104994</td>\n",
       "    </tr>\n",
       "    <tr>\n",
       "      <th>XOne</th>\n",
       "      <td>93.12</td>\n",
       "      <td>11.222522</td>\n",
       "    </tr>\n",
       "    <tr>\n",
       "      <th>3DS</th>\n",
       "      <td>82.65</td>\n",
       "      <td>9.960712</td>\n",
       "    </tr>\n",
       "    <tr>\n",
       "      <th>Wii</th>\n",
       "      <td>48.56</td>\n",
       "      <td>5.852295</td>\n",
       "    </tr>\n",
       "    <tr>\n",
       "      <th>WiiU</th>\n",
       "      <td>38.10</td>\n",
       "      <td>4.591689</td>\n",
       "    </tr>\n",
       "    <tr>\n",
       "      <th>PC</th>\n",
       "      <td>29.88</td>\n",
       "      <td>3.601041</td>\n",
       "    </tr>\n",
       "    <tr>\n",
       "      <th>DS</th>\n",
       "      <td>18.86</td>\n",
       "      <td>2.272946</td>\n",
       "    </tr>\n",
       "    <tr>\n",
       "      <th>PSV</th>\n",
       "      <td>12.47</td>\n",
       "      <td>1.502844</td>\n",
       "    </tr>\n",
       "    <tr>\n",
       "      <th>PSP</th>\n",
       "      <td>2.19</td>\n",
       "      <td>0.263932</td>\n",
       "    </tr>\n",
       "    <tr>\n",
       "      <th>PS2</th>\n",
       "      <td>0.13</td>\n",
       "      <td>0.015667</td>\n",
       "    </tr>\n",
       "  </tbody>\n",
       "</table>\n",
       "</div>"
      ],
      "text/plain": [
       "          na_sales      share\n",
       "platform                     \n",
       "X360        226.80  27.333205\n",
       "PS3         168.26  20.278153\n",
       "PS4         108.74  13.104994\n",
       "XOne         93.12  11.222522\n",
       "3DS          82.65   9.960712\n",
       "Wii          48.56   5.852295\n",
       "WiiU         38.10   4.591689\n",
       "PC           29.88   3.601041\n",
       "DS           18.86   2.272946\n",
       "PSV          12.47   1.502844\n",
       "PSP           2.19   0.263932\n",
       "PS2           0.13   0.015667"
      ]
     },
     "execution_count": 40,
     "metadata": {},
     "output_type": "execute_result"
    }
   ],
   "source": [
    "NA_platform['share'] = NA_platform['na_sales'] / NA_total * 100 #таблица с долей продаж\n",
    "NA_platform.sort_values('na_sales', ascending = False)"
   ]
  },
  {
   "cell_type": "code",
   "execution_count": 41,
   "metadata": {},
   "outputs": [
    {
     "data": {
      "text/html": [
       "<div>\n",
       "<style scoped>\n",
       "    .dataframe tbody tr th:only-of-type {\n",
       "        vertical-align: middle;\n",
       "    }\n",
       "\n",
       "    .dataframe tbody tr th {\n",
       "        vertical-align: top;\n",
       "    }\n",
       "\n",
       "    .dataframe thead th {\n",
       "        text-align: right;\n",
       "    }\n",
       "</style>\n",
       "<table border=\"1\" class=\"dataframe\">\n",
       "  <thead>\n",
       "    <tr style=\"text-align: right;\">\n",
       "      <th></th>\n",
       "      <th>na_sales</th>\n",
       "    </tr>\n",
       "    <tr>\n",
       "      <th>genre</th>\n",
       "      <th></th>\n",
       "    </tr>\n",
       "  </thead>\n",
       "  <tbody>\n",
       "    <tr>\n",
       "      <th>Action</th>\n",
       "      <td>230.92</td>\n",
       "    </tr>\n",
       "    <tr>\n",
       "      <th>Shooter</th>\n",
       "      <td>194.43</td>\n",
       "    </tr>\n",
       "    <tr>\n",
       "      <th>Sports</th>\n",
       "      <td>108.70</td>\n",
       "    </tr>\n",
       "    <tr>\n",
       "      <th>Role-Playing</th>\n",
       "      <td>83.78</td>\n",
       "    </tr>\n",
       "    <tr>\n",
       "      <th>Misc</th>\n",
       "      <td>69.69</td>\n",
       "    </tr>\n",
       "    <tr>\n",
       "      <th>Platform</th>\n",
       "      <td>38.28</td>\n",
       "    </tr>\n",
       "    <tr>\n",
       "      <th>Racing</th>\n",
       "      <td>31.98</td>\n",
       "    </tr>\n",
       "    <tr>\n",
       "      <th>Fighting</th>\n",
       "      <td>31.63</td>\n",
       "    </tr>\n",
       "    <tr>\n",
       "      <th>Simulation</th>\n",
       "      <td>15.37</td>\n",
       "    </tr>\n",
       "    <tr>\n",
       "      <th>Adventure</th>\n",
       "      <td>14.76</td>\n",
       "    </tr>\n",
       "    <tr>\n",
       "      <th>Strategy</th>\n",
       "      <td>7.48</td>\n",
       "    </tr>\n",
       "    <tr>\n",
       "      <th>Puzzle</th>\n",
       "      <td>2.74</td>\n",
       "    </tr>\n",
       "  </tbody>\n",
       "</table>\n",
       "</div>"
      ],
      "text/plain": [
       "              na_sales\n",
       "genre                 \n",
       "Action          230.92\n",
       "Shooter         194.43\n",
       "Sports          108.70\n",
       "Role-Playing     83.78\n",
       "Misc             69.69\n",
       "Platform         38.28\n",
       "Racing           31.98\n",
       "Fighting         31.63\n",
       "Simulation       15.37\n",
       "Adventure        14.76\n",
       "Strategy          7.48\n",
       "Puzzle            2.74"
      ]
     },
     "execution_count": 41,
     "metadata": {},
     "output_type": "execute_result"
    }
   ],
   "source": [
    "NA_genre = pd.pivot_table(NA_stat, index = 'genre', values = 'na_sales', aggfunc = 'sum') #продажи по жанрам\n",
    "NA_genre.sort_values('na_sales', ascending = False)"
   ]
  },
  {
   "cell_type": "code",
   "execution_count": 42,
   "metadata": {},
   "outputs": [
    {
     "data": {
      "image/png": "[encoded data removed]",
      "text/plain": [
       "<Figure size 432x288 with 1 Axes>"
      ]
     },
     "metadata": {
      "needs_background": "light"
     },
     "output_type": "display_data"
    }
   ],
   "source": [
    "NA_genre.plot(kind='bar')\n",
    "None"
   ]
  },
  {
   "cell_type": "code",
   "execution_count": 43,
   "metadata": {},
   "outputs": [
    {
     "data": {
      "text/html": [
       "<div>\n",
       "<style scoped>\n",
       "    .dataframe tbody tr th:only-of-type {\n",
       "        vertical-align: middle;\n",
       "    }\n",
       "\n",
       "    .dataframe tbody tr th {\n",
       "        vertical-align: top;\n",
       "    }\n",
       "\n",
       "    .dataframe thead th {\n",
       "        text-align: right;\n",
       "    }\n",
       "</style>\n",
       "<table border=\"1\" class=\"dataframe\">\n",
       "  <thead>\n",
       "    <tr style=\"text-align: right;\">\n",
       "      <th></th>\n",
       "      <th>na_sales</th>\n",
       "    </tr>\n",
       "    <tr>\n",
       "      <th>rating</th>\n",
       "      <th></th>\n",
       "    </tr>\n",
       "  </thead>\n",
       "  <tbody>\n",
       "    <tr>\n",
       "      <th>M</th>\n",
       "      <td>308.45</td>\n",
       "    </tr>\n",
       "    <tr>\n",
       "      <th>E</th>\n",
       "      <td>170.17</td>\n",
       "    </tr>\n",
       "    <tr>\n",
       "      <th>Нет рейтинга</th>\n",
       "      <td>123.69</td>\n",
       "    </tr>\n",
       "    <tr>\n",
       "      <th>E10+</th>\n",
       "      <td>117.72</td>\n",
       "    </tr>\n",
       "    <tr>\n",
       "      <th>T</th>\n",
       "      <td>109.31</td>\n",
       "    </tr>\n",
       "    <tr>\n",
       "      <th>EC</th>\n",
       "      <td>0.42</td>\n",
       "    </tr>\n",
       "  </tbody>\n",
       "</table>\n",
       "</div>"
      ],
      "text/plain": [
       "              na_sales\n",
       "rating                \n",
       "M               308.45\n",
       "E               170.17\n",
       "Нет рейтинга    123.69\n",
       "E10+            117.72\n",
       "T               109.31\n",
       "EC                0.42"
      ]
     },
     "execution_count": 43,
     "metadata": {},
     "output_type": "execute_result"
    }
   ],
   "source": [
    "NA_rating = pd.pivot_table(NA_stat, index = 'rating', values = 'na_sales', aggfunc = 'sum')\n",
    "NA_rating.sort_values('na_sales', ascending = False)"
   ]
  },
  {
   "cell_type": "code",
   "execution_count": 44,
   "metadata": {
    "scrolled": true
   },
   "outputs": [
    {
     "data": {
      "image/png": "[encoded data removed]",
      "text/plain": [
       "<Figure size 432x288 with 1 Axes>"
      ]
     },
     "metadata": {
      "needs_background": "light"
     },
     "output_type": "display_data"
    }
   ],
   "source": [
    "NA_rating.plot(kind='bar')\n",
    "None"
   ]
  },
  {
   "cell_type": "markdown",
   "metadata": {},
   "source": [
    "Портрет пользователей регинов.\n",
    "***\n",
    "*Северная Америка:*\n",
    "\n",
    "1. Топ-5 платформ: X360, PS3, PS4, XOne, 3DS. Практически 1/3 продаж (27%) приходится на X360, 1/5 - на PS3. Остальные топ-плфтормы занимают гораздо меньшую долю рынка - около 1/10. \n",
    "2. Самые популярные жанры: Action, Shooter, Sports, Role-Playing, Misc.\n",
    "3. Влияние рейтинга ESRB на продажи: самые высокие продажи в категориях \"M\", \"Е\" и \"E10+\" - игры для лиц старше 17 лет, для всех возрастов и для всех, старше 10 лет, а также в категории \"Нет рейтинга\".\n",
    "Средний пользователь в Северной Америке старше 17 лет, играет в игры на платформе X360, предпочитает экшен-игры."
   ]
  },
  {
   "cell_type": "markdown",
   "metadata": {},
   "source": [
    "Регион: Европа"
   ]
  },
  {
   "cell_type": "code",
   "execution_count": 45,
   "metadata": {
    "scrolled": false
   },
   "outputs": [
    {
     "name": "stdout",
     "output_type": "stream",
     "text": [
      "<class 'pandas.core.frame.DataFrame'>\n",
      "Int64Index: 2547 entries, 16 to 16431\n",
      "Data columns (total 12 columns):\n",
      " #   Column           Non-Null Count  Dtype  \n",
      "---  ------           --------------  -----  \n",
      " 0   name             2547 non-null   object \n",
      " 1   platform         2547 non-null   object \n",
      " 2   year_of_release  2547 non-null   int16  \n",
      " 3   genre            2547 non-null   object \n",
      " 4   na_sales         2547 non-null   float64\n",
      " 5   eu_sales         2547 non-null   float64\n",
      " 6   jp_sales         2547 non-null   float64\n",
      " 7   other_sales      2547 non-null   float64\n",
      " 8   critic_score     1622 non-null   float64\n",
      " 9   user_score       1795 non-null   float64\n",
      " 10  rating           2547 non-null   object \n",
      " 11  total_sales      2547 non-null   float64\n",
      "dtypes: float64(7), int16(1), object(4)\n",
      "memory usage: 243.8+ KB\n"
     ]
    }
   ],
   "source": [
    "EU_stat = new_df.query('eu_sales > 0')\n",
    "EU_stat.info()"
   ]
  },
  {
   "cell_type": "code",
   "execution_count": 46,
   "metadata": {},
   "outputs": [
    {
     "data": {
      "text/html": [
       "<div>\n",
       "<style scoped>\n",
       "    .dataframe tbody tr th:only-of-type {\n",
       "        vertical-align: middle;\n",
       "    }\n",
       "\n",
       "    .dataframe tbody tr th {\n",
       "        vertical-align: top;\n",
       "    }\n",
       "\n",
       "    .dataframe thead th {\n",
       "        text-align: right;\n",
       "    }\n",
       "</style>\n",
       "<table border=\"1\" class=\"dataframe\">\n",
       "  <thead>\n",
       "    <tr style=\"text-align: right;\">\n",
       "      <th></th>\n",
       "      <th>eu_sales</th>\n",
       "    </tr>\n",
       "    <tr>\n",
       "      <th>platform</th>\n",
       "      <th></th>\n",
       "    </tr>\n",
       "  </thead>\n",
       "  <tbody>\n",
       "    <tr>\n",
       "      <th>PS3</th>\n",
       "      <td>163.10</td>\n",
       "    </tr>\n",
       "    <tr>\n",
       "      <th>PS4</th>\n",
       "      <td>141.09</td>\n",
       "    </tr>\n",
       "    <tr>\n",
       "      <th>X360</th>\n",
       "      <td>117.10</td>\n",
       "    </tr>\n",
       "    <tr>\n",
       "      <th>3DS</th>\n",
       "      <td>61.27</td>\n",
       "    </tr>\n",
       "    <tr>\n",
       "      <th>PC</th>\n",
       "      <td>56.70</td>\n",
       "    </tr>\n",
       "    <tr>\n",
       "      <th>XOne</th>\n",
       "      <td>51.59</td>\n",
       "    </tr>\n",
       "    <tr>\n",
       "      <th>Wii</th>\n",
       "      <td>29.60</td>\n",
       "    </tr>\n",
       "    <tr>\n",
       "      <th>WiiU</th>\n",
       "      <td>25.13</td>\n",
       "    </tr>\n",
       "    <tr>\n",
       "      <th>PSV</th>\n",
       "      <td>13.07</td>\n",
       "    </tr>\n",
       "    <tr>\n",
       "      <th>DS</th>\n",
       "      <td>9.24</td>\n",
       "    </tr>\n",
       "    <tr>\n",
       "      <th>PSP</th>\n",
       "      <td>1.77</td>\n",
       "    </tr>\n",
       "    <tr>\n",
       "      <th>PS2</th>\n",
       "      <td>0.13</td>\n",
       "    </tr>\n",
       "  </tbody>\n",
       "</table>\n",
       "</div>"
      ],
      "text/plain": [
       "          eu_sales\n",
       "platform          \n",
       "PS3         163.10\n",
       "PS4         141.09\n",
       "X360        117.10\n",
       "3DS          61.27\n",
       "PC           56.70\n",
       "XOne         51.59\n",
       "Wii          29.60\n",
       "WiiU         25.13\n",
       "PSV          13.07\n",
       "DS            9.24\n",
       "PSP           1.77\n",
       "PS2           0.13"
      ]
     },
     "execution_count": 46,
     "metadata": {},
     "output_type": "execute_result"
    }
   ],
   "source": [
    "EU_platform = pd.pivot_table(EU_stat, index = 'platform', values = 'eu_sales', aggfunc = 'sum') #общие продажи в Европе\n",
    "EU_platform.sort_values('eu_sales', ascending = False)"
   ]
  },
  {
   "cell_type": "code",
   "execution_count": 47,
   "metadata": {},
   "outputs": [
    {
     "data": {
      "image/png": "[encoded data removed]",
      "text/plain": [
       "<Figure size 432x288 with 1 Axes>"
      ]
     },
     "metadata": {
      "needs_background": "light"
     },
     "output_type": "display_data"
    }
   ],
   "source": [
    "EU_platform.plot(kind='bar')\n",
    "None"
   ]
  },
  {
   "cell_type": "code",
   "execution_count": 48,
   "metadata": {},
   "outputs": [
    {
     "data": {
      "text/plain": [
       "669.7900000000006"
      ]
     },
     "execution_count": 48,
     "metadata": {},
     "output_type": "execute_result"
    }
   ],
   "source": [
    "EU_total = EU_platform ['eu_sales'].sum() #сумма продаж\n",
    "EU_total"
   ]
  },
  {
   "cell_type": "code",
   "execution_count": 49,
   "metadata": {},
   "outputs": [
    {
     "data": {
      "text/html": [
       "<div>\n",
       "<style scoped>\n",
       "    .dataframe tbody tr th:only-of-type {\n",
       "        vertical-align: middle;\n",
       "    }\n",
       "\n",
       "    .dataframe tbody tr th {\n",
       "        vertical-align: top;\n",
       "    }\n",
       "\n",
       "    .dataframe thead th {\n",
       "        text-align: right;\n",
       "    }\n",
       "</style>\n",
       "<table border=\"1\" class=\"dataframe\">\n",
       "  <thead>\n",
       "    <tr style=\"text-align: right;\">\n",
       "      <th></th>\n",
       "      <th>eu_sales</th>\n",
       "      <th>share</th>\n",
       "    </tr>\n",
       "    <tr>\n",
       "      <th>platform</th>\n",
       "      <th></th>\n",
       "      <th></th>\n",
       "    </tr>\n",
       "  </thead>\n",
       "  <tbody>\n",
       "    <tr>\n",
       "      <th>PS3</th>\n",
       "      <td>163.10</td>\n",
       "      <td>24.350916</td>\n",
       "    </tr>\n",
       "    <tr>\n",
       "      <th>PS4</th>\n",
       "      <td>141.09</td>\n",
       "      <td>21.064811</td>\n",
       "    </tr>\n",
       "    <tr>\n",
       "      <th>X360</th>\n",
       "      <td>117.10</td>\n",
       "      <td>17.483092</td>\n",
       "    </tr>\n",
       "    <tr>\n",
       "      <th>3DS</th>\n",
       "      <td>61.27</td>\n",
       "      <td>9.147643</td>\n",
       "    </tr>\n",
       "    <tr>\n",
       "      <th>PC</th>\n",
       "      <td>56.70</td>\n",
       "      <td>8.465340</td>\n",
       "    </tr>\n",
       "    <tr>\n",
       "      <th>XOne</th>\n",
       "      <td>51.59</td>\n",
       "      <td>7.702414</td>\n",
       "    </tr>\n",
       "    <tr>\n",
       "      <th>Wii</th>\n",
       "      <td>29.60</td>\n",
       "      <td>4.419296</td>\n",
       "    </tr>\n",
       "    <tr>\n",
       "      <th>WiiU</th>\n",
       "      <td>25.13</td>\n",
       "      <td>3.751922</td>\n",
       "    </tr>\n",
       "    <tr>\n",
       "      <th>PSV</th>\n",
       "      <td>13.07</td>\n",
       "      <td>1.951358</td>\n",
       "    </tr>\n",
       "    <tr>\n",
       "      <th>DS</th>\n",
       "      <td>9.24</td>\n",
       "      <td>1.379537</td>\n",
       "    </tr>\n",
       "    <tr>\n",
       "      <th>PSP</th>\n",
       "      <td>1.77</td>\n",
       "      <td>0.264262</td>\n",
       "    </tr>\n",
       "    <tr>\n",
       "      <th>PS2</th>\n",
       "      <td>0.13</td>\n",
       "      <td>0.019409</td>\n",
       "    </tr>\n",
       "  </tbody>\n",
       "</table>\n",
       "</div>"
      ],
      "text/plain": [
       "          eu_sales      share\n",
       "platform                     \n",
       "PS3         163.10  24.350916\n",
       "PS4         141.09  21.064811\n",
       "X360        117.10  17.483092\n",
       "3DS          61.27   9.147643\n",
       "PC           56.70   8.465340\n",
       "XOne         51.59   7.702414\n",
       "Wii          29.60   4.419296\n",
       "WiiU         25.13   3.751922\n",
       "PSV          13.07   1.951358\n",
       "DS            9.24   1.379537\n",
       "PSP           1.77   0.264262\n",
       "PS2           0.13   0.019409"
      ]
     },
     "execution_count": 49,
     "metadata": {},
     "output_type": "execute_result"
    }
   ],
   "source": [
    "EU_platform['share'] = EU_platform['eu_sales'] / EU_total * 100 #добавление доли продаж\n",
    "EU_platform.sort_values('eu_sales', ascending = False)"
   ]
  },
  {
   "cell_type": "code",
   "execution_count": 50,
   "metadata": {},
   "outputs": [
    {
     "data": {
      "text/html": [
       "<div>\n",
       "<style scoped>\n",
       "    .dataframe tbody tr th:only-of-type {\n",
       "        vertical-align: middle;\n",
       "    }\n",
       "\n",
       "    .dataframe tbody tr th {\n",
       "        vertical-align: top;\n",
       "    }\n",
       "\n",
       "    .dataframe thead th {\n",
       "        text-align: right;\n",
       "    }\n",
       "</style>\n",
       "<table border=\"1\" class=\"dataframe\">\n",
       "  <thead>\n",
       "    <tr style=\"text-align: right;\">\n",
       "      <th></th>\n",
       "      <th>eu_sales</th>\n",
       "    </tr>\n",
       "    <tr>\n",
       "      <th>genre</th>\n",
       "      <th></th>\n",
       "    </tr>\n",
       "  </thead>\n",
       "  <tbody>\n",
       "    <tr>\n",
       "      <th>Action</th>\n",
       "      <td>199.12</td>\n",
       "    </tr>\n",
       "    <tr>\n",
       "      <th>Shooter</th>\n",
       "      <td>148.02</td>\n",
       "    </tr>\n",
       "    <tr>\n",
       "      <th>Sports</th>\n",
       "      <td>88.48</td>\n",
       "    </tr>\n",
       "    <tr>\n",
       "      <th>Role-Playing</th>\n",
       "      <td>62.30</td>\n",
       "    </tr>\n",
       "    <tr>\n",
       "      <th>Racing</th>\n",
       "      <td>40.58</td>\n",
       "    </tr>\n",
       "    <tr>\n",
       "      <th>Misc</th>\n",
       "      <td>39.72</td>\n",
       "    </tr>\n",
       "    <tr>\n",
       "      <th>Platform</th>\n",
       "      <td>30.07</td>\n",
       "    </tr>\n",
       "    <tr>\n",
       "      <th>Simulation</th>\n",
       "      <td>19.72</td>\n",
       "    </tr>\n",
       "    <tr>\n",
       "      <th>Fighting</th>\n",
       "      <td>16.24</td>\n",
       "    </tr>\n",
       "    <tr>\n",
       "      <th>Adventure</th>\n",
       "      <td>13.96</td>\n",
       "    </tr>\n",
       "    <tr>\n",
       "      <th>Strategy</th>\n",
       "      <td>8.02</td>\n",
       "    </tr>\n",
       "    <tr>\n",
       "      <th>Puzzle</th>\n",
       "      <td>3.56</td>\n",
       "    </tr>\n",
       "  </tbody>\n",
       "</table>\n",
       "</div>"
      ],
      "text/plain": [
       "              eu_sales\n",
       "genre                 \n",
       "Action          199.12\n",
       "Shooter         148.02\n",
       "Sports           88.48\n",
       "Role-Playing     62.30\n",
       "Racing           40.58\n",
       "Misc             39.72\n",
       "Platform         30.07\n",
       "Simulation       19.72\n",
       "Fighting         16.24\n",
       "Adventure        13.96\n",
       "Strategy          8.02\n",
       "Puzzle            3.56"
      ]
     },
     "execution_count": 50,
     "metadata": {},
     "output_type": "execute_result"
    }
   ],
   "source": [
    "EU_genre = pd.pivot_table(EU_stat, index = 'genre', values = 'eu_sales', aggfunc = 'sum')\n",
    "EU_genre.sort_values('eu_sales', ascending = False)"
   ]
  },
  {
   "cell_type": "code",
   "execution_count": 51,
   "metadata": {},
   "outputs": [
    {
     "data": {
      "image/png": "[encoded data removed]",
      "text/plain": [
       "<Figure size 432x288 with 1 Axes>"
      ]
     },
     "metadata": {
      "needs_background": "light"
     },
     "output_type": "display_data"
    }
   ],
   "source": [
    "EU_genre.plot(kind='bar')\n",
    "None"
   ]
  },
  {
   "cell_type": "code",
   "execution_count": 52,
   "metadata": {},
   "outputs": [
    {
     "data": {
      "text/html": [
       "<div>\n",
       "<style scoped>\n",
       "    .dataframe tbody tr th:only-of-type {\n",
       "        vertical-align: middle;\n",
       "    }\n",
       "\n",
       "    .dataframe tbody tr th {\n",
       "        vertical-align: top;\n",
       "    }\n",
       "\n",
       "    .dataframe thead th {\n",
       "        text-align: right;\n",
       "    }\n",
       "</style>\n",
       "<table border=\"1\" class=\"dataframe\">\n",
       "  <thead>\n",
       "    <tr style=\"text-align: right;\">\n",
       "      <th></th>\n",
       "      <th>eu_sales</th>\n",
       "    </tr>\n",
       "    <tr>\n",
       "      <th>rating</th>\n",
       "      <th></th>\n",
       "    </tr>\n",
       "  </thead>\n",
       "  <tbody>\n",
       "    <tr>\n",
       "      <th>M</th>\n",
       "      <td>250.26</td>\n",
       "    </tr>\n",
       "    <tr>\n",
       "      <th>E</th>\n",
       "      <td>141.73</td>\n",
       "    </tr>\n",
       "    <tr>\n",
       "      <th>Нет рейтинга</th>\n",
       "      <td>116.61</td>\n",
       "    </tr>\n",
       "    <tr>\n",
       "      <th>T</th>\n",
       "      <td>83.16</td>\n",
       "    </tr>\n",
       "    <tr>\n",
       "      <th>E10+</th>\n",
       "      <td>78.00</td>\n",
       "    </tr>\n",
       "    <tr>\n",
       "      <th>RP</th>\n",
       "      <td>0.03</td>\n",
       "    </tr>\n",
       "  </tbody>\n",
       "</table>\n",
       "</div>"
      ],
      "text/plain": [
       "              eu_sales\n",
       "rating                \n",
       "M               250.26\n",
       "E               141.73\n",
       "Нет рейтинга    116.61\n",
       "T                83.16\n",
       "E10+             78.00\n",
       "RP                0.03"
      ]
     },
     "execution_count": 52,
     "metadata": {},
     "output_type": "execute_result"
    }
   ],
   "source": [
    "EU_rating = pd.pivot_table(EU_stat, index = 'rating', values = 'eu_sales', aggfunc = 'sum') #продажи по рейтингу\n",
    "EU_rating.sort_values('eu_sales', ascending = False)"
   ]
  },
  {
   "cell_type": "code",
   "execution_count": 53,
   "metadata": {},
   "outputs": [
    {
     "data": {
      "image/png": "[encoded data removed]",
      "text/plain": [
       "<Figure size 432x288 with 1 Axes>"
      ]
     },
     "metadata": {
      "needs_background": "light"
     },
     "output_type": "display_data"
    }
   ],
   "source": [
    "EU_rating.plot(kind='bar')\n",
    "None"
   ]
  },
  {
   "cell_type": "markdown",
   "metadata": {},
   "source": [
    "Портрет пользователей регионов\n",
    "***\n",
    "*Европа:*\n",
    "1. Топ-5 платформ: PS3, PS4, X360,  3DS, PC. 1/4 продаж приходтся на PS3, 1/5 - на PS4, чуть меньше 1/5 на X360. Остальные платформы по показателям продаж существенно ниже.\n",
    "2. Самые популярные жанры: Action, Shooter, Sports, Role-Playing, Racing. Предпочтения пользователей Европы очень похожи с  предпочтениям в Северной Америке, кроме анра Racing.\n",
    "3. Влияние рейтинга ESRB на продажи: самые высокие продажи в категориях \"M\", \"Е\" и \"Т\" - игры для лиц старше 17 лет, для всех возрастов и для подростков 13-19 лет, а также в категории \"Нет рейтинга\"\n",
    "Средний пользователь в Европе старше 17 лет, играет в игры на платформе PS3, предпочитает экшен-игры."
   ]
  },
  {
   "cell_type": "markdown",
   "metadata": {},
   "source": [
    "Регион: Япония"
   ]
  },
  {
   "cell_type": "code",
   "execution_count": 54,
   "metadata": {
    "scrolled": false
   },
   "outputs": [
    {
     "name": "stdout",
     "output_type": "stream",
     "text": [
      "<class 'pandas.core.frame.DataFrame'>\n",
      "Int64Index: 2006 entries, 16 to 16443\n",
      "Data columns (total 12 columns):\n",
      " #   Column           Non-Null Count  Dtype  \n",
      "---  ------           --------------  -----  \n",
      " 0   name             2006 non-null   object \n",
      " 1   platform         2006 non-null   object \n",
      " 2   year_of_release  2006 non-null   int16  \n",
      " 3   genre            2006 non-null   object \n",
      " 4   na_sales         2006 non-null   float64\n",
      " 5   eu_sales         2006 non-null   float64\n",
      " 6   jp_sales         2006 non-null   float64\n",
      " 7   other_sales      2006 non-null   float64\n",
      " 8   critic_score     731 non-null    float64\n",
      " 9   user_score       788 non-null    float64\n",
      " 10  rating           2006 non-null   object \n",
      " 11  total_sales      2006 non-null   float64\n",
      "dtypes: float64(7), int16(1), object(4)\n",
      "memory usage: 192.0+ KB\n"
     ]
    }
   ],
   "source": [
    "JP_stat = new_df.query('jp_sales > 0')\n",
    "JP_stat.info()"
   ]
  },
  {
   "cell_type": "code",
   "execution_count": 55,
   "metadata": {},
   "outputs": [
    {
     "data": {
      "text/html": [
       "<div>\n",
       "<style scoped>\n",
       "    .dataframe tbody tr th:only-of-type {\n",
       "        vertical-align: middle;\n",
       "    }\n",
       "\n",
       "    .dataframe tbody tr th {\n",
       "        vertical-align: top;\n",
       "    }\n",
       "\n",
       "    .dataframe thead th {\n",
       "        text-align: right;\n",
       "    }\n",
       "</style>\n",
       "<table border=\"1\" class=\"dataframe\">\n",
       "  <thead>\n",
       "    <tr style=\"text-align: right;\">\n",
       "      <th></th>\n",
       "      <th>jp_sales</th>\n",
       "    </tr>\n",
       "    <tr>\n",
       "      <th>platform</th>\n",
       "      <th></th>\n",
       "    </tr>\n",
       "  </thead>\n",
       "  <tbody>\n",
       "    <tr>\n",
       "      <th>3DS</th>\n",
       "      <td>100.62</td>\n",
       "    </tr>\n",
       "    <tr>\n",
       "      <th>PS3</th>\n",
       "      <td>49.39</td>\n",
       "    </tr>\n",
       "    <tr>\n",
       "      <th>PSP</th>\n",
       "      <td>24.04</td>\n",
       "    </tr>\n",
       "    <tr>\n",
       "      <th>PSV</th>\n",
       "      <td>21.84</td>\n",
       "    </tr>\n",
       "    <tr>\n",
       "      <th>PS4</th>\n",
       "      <td>15.96</td>\n",
       "    </tr>\n",
       "    <tr>\n",
       "      <th>WiiU</th>\n",
       "      <td>13.01</td>\n",
       "    </tr>\n",
       "    <tr>\n",
       "      <th>Wii</th>\n",
       "      <td>8.97</td>\n",
       "    </tr>\n",
       "    <tr>\n",
       "      <th>DS</th>\n",
       "      <td>8.04</td>\n",
       "    </tr>\n",
       "    <tr>\n",
       "      <th>X360</th>\n",
       "      <td>3.35</td>\n",
       "    </tr>\n",
       "    <tr>\n",
       "      <th>XOne</th>\n",
       "      <td>0.34</td>\n",
       "    </tr>\n",
       "    <tr>\n",
       "      <th>PS2</th>\n",
       "      <td>0.09</td>\n",
       "    </tr>\n",
       "  </tbody>\n",
       "</table>\n",
       "</div>"
      ],
      "text/plain": [
       "          jp_sales\n",
       "platform          \n",
       "3DS         100.62\n",
       "PS3          49.39\n",
       "PSP          24.04\n",
       "PSV          21.84\n",
       "PS4          15.96\n",
       "WiiU         13.01\n",
       "Wii           8.97\n",
       "DS            8.04\n",
       "X360          3.35\n",
       "XOne          0.34\n",
       "PS2           0.09"
      ]
     },
     "execution_count": 55,
     "metadata": {},
     "output_type": "execute_result"
    }
   ],
   "source": [
    "JP_platform = pd.pivot_table(JP_stat, index = 'platform', values = 'jp_sales', aggfunc = 'sum') #общие продажи в Японии\n",
    "JP_platform.sort_values('jp_sales', ascending = False)"
   ]
  },
  {
   "cell_type": "code",
   "execution_count": 56,
   "metadata": {},
   "outputs": [
    {
     "data": {
      "image/png": "[encoded data removed]",
      "text/plain": [
       "<Figure size 432x288 with 1 Axes>"
      ]
     },
     "metadata": {
      "needs_background": "light"
     },
     "output_type": "display_data"
    }
   ],
   "source": [
    "JP_platform.plot(kind='bar')\n",
    "None"
   ]
  },
  {
   "cell_type": "code",
   "execution_count": 57,
   "metadata": {},
   "outputs": [
    {
     "data": {
      "text/plain": [
       "245.6500000000002"
      ]
     },
     "execution_count": 57,
     "metadata": {},
     "output_type": "execute_result"
    }
   ],
   "source": [
    "JP_total = JP_platform ['jp_sales'].sum() #сумма продаж\n",
    "JP_total"
   ]
  },
  {
   "cell_type": "code",
   "execution_count": 58,
   "metadata": {},
   "outputs": [
    {
     "data": {
      "text/html": [
       "<div>\n",
       "<style scoped>\n",
       "    .dataframe tbody tr th:only-of-type {\n",
       "        vertical-align: middle;\n",
       "    }\n",
       "\n",
       "    .dataframe tbody tr th {\n",
       "        vertical-align: top;\n",
       "    }\n",
       "\n",
       "    .dataframe thead th {\n",
       "        text-align: right;\n",
       "    }\n",
       "</style>\n",
       "<table border=\"1\" class=\"dataframe\">\n",
       "  <thead>\n",
       "    <tr style=\"text-align: right;\">\n",
       "      <th></th>\n",
       "      <th>jp_sales</th>\n",
       "      <th>share</th>\n",
       "    </tr>\n",
       "    <tr>\n",
       "      <th>platform</th>\n",
       "      <th></th>\n",
       "      <th></th>\n",
       "    </tr>\n",
       "  </thead>\n",
       "  <tbody>\n",
       "    <tr>\n",
       "      <th>3DS</th>\n",
       "      <td>100.62</td>\n",
       "      <td>40.960716</td>\n",
       "    </tr>\n",
       "    <tr>\n",
       "      <th>PS3</th>\n",
       "      <td>49.39</td>\n",
       "      <td>20.105842</td>\n",
       "    </tr>\n",
       "    <tr>\n",
       "      <th>PSP</th>\n",
       "      <td>24.04</td>\n",
       "      <td>9.786281</td>\n",
       "    </tr>\n",
       "    <tr>\n",
       "      <th>PSV</th>\n",
       "      <td>21.84</td>\n",
       "      <td>8.890698</td>\n",
       "    </tr>\n",
       "    <tr>\n",
       "      <th>PS4</th>\n",
       "      <td>15.96</td>\n",
       "      <td>6.497049</td>\n",
       "    </tr>\n",
       "    <tr>\n",
       "      <th>WiiU</th>\n",
       "      <td>13.01</td>\n",
       "      <td>5.296153</td>\n",
       "    </tr>\n",
       "    <tr>\n",
       "      <th>Wii</th>\n",
       "      <td>8.97</td>\n",
       "      <td>3.651537</td>\n",
       "    </tr>\n",
       "    <tr>\n",
       "      <th>DS</th>\n",
       "      <td>8.04</td>\n",
       "      <td>3.272949</td>\n",
       "    </tr>\n",
       "    <tr>\n",
       "      <th>X360</th>\n",
       "      <td>3.35</td>\n",
       "      <td>1.363729</td>\n",
       "    </tr>\n",
       "    <tr>\n",
       "      <th>XOne</th>\n",
       "      <td>0.34</td>\n",
       "      <td>0.138408</td>\n",
       "    </tr>\n",
       "    <tr>\n",
       "      <th>PS2</th>\n",
       "      <td>0.09</td>\n",
       "      <td>0.036637</td>\n",
       "    </tr>\n",
       "  </tbody>\n",
       "</table>\n",
       "</div>"
      ],
      "text/plain": [
       "          jp_sales      share\n",
       "platform                     \n",
       "3DS         100.62  40.960716\n",
       "PS3          49.39  20.105842\n",
       "PSP          24.04   9.786281\n",
       "PSV          21.84   8.890698\n",
       "PS4          15.96   6.497049\n",
       "WiiU         13.01   5.296153\n",
       "Wii           8.97   3.651537\n",
       "DS            8.04   3.272949\n",
       "X360          3.35   1.363729\n",
       "XOne          0.34   0.138408\n",
       "PS2           0.09   0.036637"
      ]
     },
     "execution_count": 58,
     "metadata": {},
     "output_type": "execute_result"
    }
   ],
   "source": [
    "JP_platform['share'] = JP_platform['jp_sales'] / JP_total * 100 #доля продаж\n",
    "JP_platform.sort_values('jp_sales', ascending = False)"
   ]
  },
  {
   "cell_type": "code",
   "execution_count": 59,
   "metadata": {},
   "outputs": [
    {
     "data": {
      "text/html": [
       "<div>\n",
       "<style scoped>\n",
       "    .dataframe tbody tr th:only-of-type {\n",
       "        vertical-align: middle;\n",
       "    }\n",
       "\n",
       "    .dataframe tbody tr th {\n",
       "        vertical-align: top;\n",
       "    }\n",
       "\n",
       "    .dataframe thead th {\n",
       "        text-align: right;\n",
       "    }\n",
       "</style>\n",
       "<table border=\"1\" class=\"dataframe\">\n",
       "  <thead>\n",
       "    <tr style=\"text-align: right;\">\n",
       "      <th></th>\n",
       "      <th>jp_sales</th>\n",
       "    </tr>\n",
       "    <tr>\n",
       "      <th>genre</th>\n",
       "      <th></th>\n",
       "    </tr>\n",
       "  </thead>\n",
       "  <tbody>\n",
       "    <tr>\n",
       "      <th>Role-Playing</th>\n",
       "      <td>79.87</td>\n",
       "    </tr>\n",
       "    <tr>\n",
       "      <th>Action</th>\n",
       "      <td>63.62</td>\n",
       "    </tr>\n",
       "    <tr>\n",
       "      <th>Misc</th>\n",
       "      <td>17.60</td>\n",
       "    </tr>\n",
       "    <tr>\n",
       "      <th>Fighting</th>\n",
       "      <td>12.38</td>\n",
       "    </tr>\n",
       "    <tr>\n",
       "      <th>Platform</th>\n",
       "      <td>12.13</td>\n",
       "    </tr>\n",
       "    <tr>\n",
       "      <th>Adventure</th>\n",
       "      <td>12.07</td>\n",
       "    </tr>\n",
       "    <tr>\n",
       "      <th>Shooter</th>\n",
       "      <td>11.92</td>\n",
       "    </tr>\n",
       "    <tr>\n",
       "      <th>Simulation</th>\n",
       "      <td>11.64</td>\n",
       "    </tr>\n",
       "    <tr>\n",
       "      <th>Sports</th>\n",
       "      <td>11.09</td>\n",
       "    </tr>\n",
       "    <tr>\n",
       "      <th>Racing</th>\n",
       "      <td>5.64</td>\n",
       "    </tr>\n",
       "    <tr>\n",
       "      <th>Strategy</th>\n",
       "      <td>4.78</td>\n",
       "    </tr>\n",
       "    <tr>\n",
       "      <th>Puzzle</th>\n",
       "      <td>2.91</td>\n",
       "    </tr>\n",
       "  </tbody>\n",
       "</table>\n",
       "</div>"
      ],
      "text/plain": [
       "              jp_sales\n",
       "genre                 \n",
       "Role-Playing     79.87\n",
       "Action           63.62\n",
       "Misc             17.60\n",
       "Fighting         12.38\n",
       "Platform         12.13\n",
       "Adventure        12.07\n",
       "Shooter          11.92\n",
       "Simulation       11.64\n",
       "Sports           11.09\n",
       "Racing            5.64\n",
       "Strategy          4.78\n",
       "Puzzle            2.91"
      ]
     },
     "execution_count": 59,
     "metadata": {},
     "output_type": "execute_result"
    }
   ],
   "source": [
    "JP_genre = pd.pivot_table(JP_stat, index = 'genre', values = 'jp_sales', aggfunc = 'sum') #продажи по жанрам\n",
    "JP_genre.sort_values('jp_sales', ascending = False)"
   ]
  },
  {
   "cell_type": "code",
   "execution_count": 60,
   "metadata": {},
   "outputs": [
    {
     "data": {
      "image/png": "[encoded data removed]",
      "text/plain": [
       "<Figure size 432x288 with 1 Axes>"
      ]
     },
     "metadata": {
      "needs_background": "light"
     },
     "output_type": "display_data"
    }
   ],
   "source": [
    "JP_genre.plot(kind='bar')\n",
    "None"
   ]
  },
  {
   "cell_type": "code",
   "execution_count": 61,
   "metadata": {},
   "outputs": [
    {
     "data": {
      "text/html": [
       "<div>\n",
       "<style scoped>\n",
       "    .dataframe tbody tr th:only-of-type {\n",
       "        vertical-align: middle;\n",
       "    }\n",
       "\n",
       "    .dataframe tbody tr th {\n",
       "        vertical-align: top;\n",
       "    }\n",
       "\n",
       "    .dataframe thead th {\n",
       "        text-align: right;\n",
       "    }\n",
       "</style>\n",
       "<table border=\"1\" class=\"dataframe\">\n",
       "  <thead>\n",
       "    <tr style=\"text-align: right;\">\n",
       "      <th></th>\n",
       "      <th>jp_sales</th>\n",
       "    </tr>\n",
       "    <tr>\n",
       "      <th>rating</th>\n",
       "      <th></th>\n",
       "    </tr>\n",
       "  </thead>\n",
       "  <tbody>\n",
       "    <tr>\n",
       "      <th>Нет рейтинга</th>\n",
       "      <td>138.21</td>\n",
       "    </tr>\n",
       "    <tr>\n",
       "      <th>E</th>\n",
       "      <td>36.68</td>\n",
       "    </tr>\n",
       "    <tr>\n",
       "      <th>T</th>\n",
       "      <td>33.39</td>\n",
       "    </tr>\n",
       "    <tr>\n",
       "      <th>M</th>\n",
       "      <td>26.14</td>\n",
       "    </tr>\n",
       "    <tr>\n",
       "      <th>E10+</th>\n",
       "      <td>11.23</td>\n",
       "    </tr>\n",
       "  </tbody>\n",
       "</table>\n",
       "</div>"
      ],
      "text/plain": [
       "              jp_sales\n",
       "rating                \n",
       "Нет рейтинга    138.21\n",
       "E                36.68\n",
       "T                33.39\n",
       "M                26.14\n",
       "E10+             11.23"
      ]
     },
     "execution_count": 61,
     "metadata": {},
     "output_type": "execute_result"
    }
   ],
   "source": [
    "JP_rating = pd.pivot_table(JP_stat, index = 'rating', values = 'jp_sales', aggfunc = 'sum')  #продажи по рейтингу\n",
    "JP_rating.sort_values('jp_sales', ascending = False)"
   ]
  },
  {
   "cell_type": "code",
   "execution_count": 62,
   "metadata": {
    "scrolled": true
   },
   "outputs": [
    {
     "data": {
      "image/png": "[encoded data removed]",
      "text/plain": [
       "<Figure size 432x288 with 1 Axes>"
      ]
     },
     "metadata": {
      "needs_background": "light"
     },
     "output_type": "display_data"
    }
   ],
   "source": [
    "JP_rating.plot(kind='bar')\n",
    "None"
   ]
  },
  {
   "cell_type": "markdown",
   "metadata": {},
   "source": [
    "Портрет пользователей регионов\n",
    "***\n",
    "*Япония:*\n",
    "1. Топ-5 платформ: 3DS, PS3, PSP, PSV, PS4. Доля продаж игр на платформе 3DS - 40%, на платформе PS3 - 20%. Остальные платформы по показателям продаж существенно ниже.\n",
    "2. Самые популярные жанры: Role-Playing, Action, Misc, Fighting.\n",
    "3. Влияние рейтинга ESRB на продажи: самые высокие продажи в категории \"Нет рейтинга\", в категориях с рейтингом самые высокие продажи с игр с рейтингов  \"Е\" и \"Т\" - игры для всех возрастов и для подростков 13-19 лет.\n",
    "Средний пользователь в Японии - это подросток 13-19 лет, он играет в игры на платформе 3DS, предпочитает ролевые игры."
   ]
  },
  {
   "cell_type": "markdown",
   "metadata": {},
   "source": [
    "Распределение продаж по платформам в регионах."
   ]
  },
  {
   "cell_type": "code",
   "execution_count": 63,
   "metadata": {},
   "outputs": [
    {
     "data": {
      "image/png": "[encoded data removed]",
      "text/plain": [
       "<Figure size 432x288 with 1 Axes>"
      ]
     },
     "metadata": {
      "needs_background": "light"
     },
     "output_type": "display_data"
    }
   ],
   "source": [
    "region_stat_platform = new_df.loc[:,['platform', 'na_sales', 'eu_sales', 'jp_sales']] \n",
    "region_stat_platform_pivot = pd.pivot_table(region_stat_platform, index = 'platform', aggfunc = 'sum')\n",
    "region_stat_platform_pivot.plot(kind = 'bar')\n",
    "None"
   ]
  },
  {
   "cell_type": "markdown",
   "metadata": {},
   "source": [
    "Распределение продаж по жанрам в регионах."
   ]
  },
  {
   "cell_type": "code",
   "execution_count": 64,
   "metadata": {},
   "outputs": [
    {
     "data": {
      "image/png": "[encoded data removed]",
      "text/plain": [
       "<Figure size 432x288 with 1 Axes>"
      ]
     },
     "metadata": {
      "needs_background": "light"
     },
     "output_type": "display_data"
    }
   ],
   "source": [
    "region_stat_genre = new_df.loc[:,['genre', 'na_sales', 'eu_sales', 'jp_sales']]\n",
    "region_stat_genre_pivot = pd.pivot_table(region_stat_genre, index = 'genre', aggfunc = 'sum')\n",
    "region_stat_genre_pivot.plot(kind = 'bar')\n",
    "None"
   ]
  },
  {
   "cell_type": "markdown",
   "metadata": {},
   "source": [
    "Распределение продаж по рейтингу в регионах."
   ]
  },
  {
   "cell_type": "code",
   "execution_count": 65,
   "metadata": {},
   "outputs": [
    {
     "data": {
      "image/png": "[encoded data removed]",
      "text/plain": [
       "<Figure size 432x288 with 1 Axes>"
      ]
     },
     "metadata": {
      "needs_background": "light"
     },
     "output_type": "display_data"
    }
   ],
   "source": [
    "region_stat_rating = new_df.loc[:,['rating', 'na_sales', 'eu_sales', 'jp_sales']]\n",
    "region_stat_rating_pivot = pd.pivot_table(region_stat_rating, index = 'rating', aggfunc = 'sum')\n",
    "region_stat_rating_pivot.plot(kind = 'bar')\n",
    "None"
   ]
  },
  {
   "cell_type": "markdown",
   "metadata": {},
   "source": [
    "\n",
    "\n",
    "Сравнение пользователей.\n",
    "***\n",
    "У пользователей различных регионов различные предпочтения. Пользователи Северной Америки и особенно Японии выбирают игры на платформах собственного производства (разработки Microsoft для Северной Америки и разработки Sony и Nintendo для Японии). При этом среди топ-5 платформ в Японии нет платформ, которые были бы разработаны не японскими компаниями.\n",
    "Пользователи Европы более вариативны в своем выборе. Также это единственный регион, где в топ-5 платформ входит персональные компьютеры.\n",
    "\n",
    "\n",
    "Во всех регионах среди популярных жанров Action (экшен), Misc (аркада), Role-Playing (ролевая игра), отличается только степень предпочтения пользователей. Так, в Японии самый популярный жанр - ролевая игра, тогда как в  Европе и Северной Америке - экшен. Кроме того, в этих регионах на втором месте по популярности шутеры, тогда как в Японии этот жанр лишь на 7 месте. При этом жанр Fighting в Японии входит в топ-5, в отличие от Северной Америки и Европы, где этот жанр гораздо менее популярен.\n",
    "Жанровые предпочтения пользователей Северной Америки и Европы практически одинаковые. \n",
    "\n",
    "\n",
    "Выбор жанров по регионам соотносится с возрастной категорией, на которую ориентированы игры. В Северной Америке и Европе большинство продаваемых игр для лиц старше 17 лет, что объясняет более агрессивный характер выбираемых жанров. В Японии же более продваемые игры без рейтинга, а также для подростков и для всех возрастов, что объясняет первое место более фантастических ролевых игр, а также присутствие среди топ жанров универсальных платформенных игр.\n",
    "Кроме того Япония - единственная страна, в которой преобладают продажи игр без рейтинга. Это может быть связано как с особенностями культуры компьютерных игр в Японии (играют пользователи самого разного возраста и предпочитают определенную стилистику и сюжет), а также большому распространению игр, произведенных в самой стране и наличию собственного рейтингового агентства, т.е. многие популярные игры могут не обращаться за рейтинговой оценкой в ESRB."
   ]
  },
  {
   "cell_type": "markdown",
   "metadata": {},
   "source": [
    "<a id='4step'></a>"
   ]
  },
  {
   "cell_type": "markdown",
   "metadata": {},
   "source": [
    "## Исследование статистических показателей"
   ]
  },
  {
   "cell_type": "markdown",
   "metadata": {},
   "source": [
    "### Изменение пользовательского рейтинга и рейтинга критиков в различных жанрах. Подсчет среднего количества, дисперсии и стандартного отклонения. Построение гистограмм. Описание распределений."
   ]
  },
  {
   "cell_type": "markdown",
   "metadata": {},
   "source": [
    "Гистограмы распределения рейтинга критиков по жанрам."
   ]
  },
  {
   "cell_type": "code",
   "execution_count": 66,
   "metadata": {},
   "outputs": [
    {
     "data": {
      "text/plain": [
       "['Action',\n",
       " 'Shooter',\n",
       " 'Role-Playing',\n",
       " 'Racing',\n",
       " 'Platform',\n",
       " 'Misc',\n",
       " 'Simulation',\n",
       " 'Sports',\n",
       " 'Fighting',\n",
       " 'Adventure',\n",
       " 'Puzzle',\n",
       " 'Strategy']"
      ]
     },
     "execution_count": 66,
     "metadata": {},
     "output_type": "execute_result"
    }
   ],
   "source": [
    "genres_new = new_df['genre'].unique().tolist()\n",
    "genres_new"
   ]
  },
  {
   "cell_type": "code",
   "execution_count": 67,
   "metadata": {
    "scrolled": false
   },
   "outputs": [
    {
     "data": {
      "image/png": "[encoded data removed]",
      "text/plain": [
       "<Figure size 432x288 with 1 Axes>"
      ]
     },
     "metadata": {
      "needs_background": "light"
     },
     "output_type": "display_data"
    },
    {
     "data": {
      "image/png": "[encoded data removed]",
      "text/plain": [
       "<Figure size 432x288 with 1 Axes>"
      ]
     },
     "metadata": {
      "needs_background": "light"
     },
     "output_type": "display_data"
    },
    {
     "data": {
      "image/png": "[encoded data removed]",
      "text/plain": [
       "<Figure size 432x288 with 1 Axes>"
      ]
     },
     "metadata": {
      "needs_background": "light"
     },
     "output_type": "display_data"
    },
    {
     "data": {
      "image/png": "[encoded data removed]",
      "text/plain": [
       "<Figure size 432x288 with 1 Axes>"
      ]
     },
     "metadata": {
      "needs_background": "light"
     },
     "output_type": "display_data"
    },
    {
     "data": {
      "image/png": "[encoded data removed]",
      "text/plain": [
       "<Figure size 432x288 with 1 Axes>"
      ]
     },
     "metadata": {
      "needs_background": "light"
     },
     "output_type": "display_data"
    },
    {
     "data": {
      "image/png": "[encoded data removed]",
      "text/plain": [
       "<Figure size 432x288 with 1 Axes>"
      ]
     },
     "metadata": {
      "needs_background": "light"
     },
     "output_type": "display_data"
    },
    {
     "data": {
      "image/png": "[encoded data removed]",
      "text/plain": [
       "<Figure size 432x288 with 1 Axes>"
      ]
     },
     "metadata": {
      "needs_background": "light"
     },
     "output_type": "display_data"
    },
    {
     "data": {
      "image/png": "[encoded data removed]",
      "text/plain": [
       "<Figure size 432x288 with 1 Axes>"
      ]
     },
     "metadata": {
      "needs_background": "light"
     },
     "output_type": "display_data"
    },
    {
     "data": {
      "image/png": "[encoded data removed]",
      "text/plain": [
       "<Figure size 432x288 with 1 Axes>"
      ]
     },
     "metadata": {
      "needs_background": "light"
     },
     "output_type": "display_data"
    },
    {
     "data": {
      "image/png": "[encoded data removed]",
      "text/plain": [
       "<Figure size 432x288 with 1 Axes>"
      ]
     },
     "metadata": {
      "needs_background": "light"
     },
     "output_type": "display_data"
    },
    {
     "data": {
      "image/png": "[encoded data removed]",
      "text/plain": [
       "<Figure size 432x288 with 1 Axes>"
      ]
     },
     "metadata": {
      "needs_background": "light"
     },
     "output_type": "display_data"
    },
    {
     "data": {
      "image/png": "[encoded data removed]",
      "text/plain": [
       "<Figure size 432x288 with 1 Axes>"
      ]
     },
     "metadata": {
      "needs_background": "light"
     },
     "output_type": "display_data"
    }
   ],
   "source": [
    "rating_stat_critic = new_df.loc[:,['genre','critic_score']]\n",
    "for genre in genres_new: #гистограммы оценок критиков по жанрам\n",
    "    genre_critic = rating_stat_critic.query('genre == @genre')\n",
    "    genre_critic.hist(bins = 200)\n",
    "    plt.title(genre)\n",
    "    \n",
    "    "
   ]
  },
  {
   "cell_type": "markdown",
   "metadata": {},
   "source": [
    "Статистические показатели оценки критиков по каждому жанру."
   ]
  },
  {
   "cell_type": "code",
   "execution_count": 68,
   "metadata": {},
   "outputs": [
    {
     "name": "stdout",
     "output_type": "stream",
     "text": [
      "Action \n",
      " Средняя оценка: 69.89810017271157 \n",
      " Стандартное отклонение: 12.779944002332357 \n",
      " Дисперсия: critic_score    163.326969\n",
      "dtype: float64 \n",
      "\n",
      "Shooter \n",
      " Средняя оценка: 73.06451612903226 \n",
      " Стандартное отклонение: 13.065541375114925 \n",
      " Дисперсия: critic_score    170.708371\n",
      "dtype: float64 \n",
      "\n",
      "Role-Playing \n",
      " Средняя оценка: 73.5909090909091 \n",
      " Стандартное отклонение: 11.992777783579285 \n",
      " Дисперсия: critic_score    143.826719\n",
      "dtype: float64 \n",
      "\n",
      "Racing \n",
      " Средняя оценка: 70.91964285714286 \n",
      " Стандартное отклонение: 13.15269875561607 \n",
      " Дисперсия: critic_score    172.993485\n",
      "dtype: float64 \n",
      "\n",
      "Platform \n",
      " Средняя оценка: 74.95121951219512 \n",
      " Стандартное отклонение: 13.107252199558244 \n",
      " Дисперсия: critic_score    171.80006\n",
      "dtype: float64 \n",
      "\n",
      "Misc \n",
      " Средняя оценка: 70.13684210526316 \n",
      " Стандартное отклонение: 11.067116834478416 \n",
      " Дисперсия: critic_score    122.481075\n",
      "dtype: float64 \n",
      "\n",
      "Simulation \n",
      " Средняя оценка: 63.932203389830505 \n",
      " Стандартное отклонение: 13.171107887812706 \n",
      " Дисперсия: critic_score    173.478083\n",
      "dtype: float64 \n",
      "\n",
      "Sports \n",
      " Средняя оценка: 72.005291005291 \n",
      " Стандартное отклонение: 15.44809337354068 \n",
      " Дисперсия: critic_score    238.643589\n",
      "dtype: float64 \n",
      "\n",
      "Fighting \n",
      " Средняя оценка: 70.52 \n",
      " Стандартное отклонение: 13.221867408871478 \n",
      " Дисперсия: critic_score    174.817778\n",
      "dtype: float64 \n",
      "\n",
      "Adventure \n",
      " Средняя оценка: 71.95 \n",
      " Стандартное отклонение: 11.627009149912624 \n",
      " Дисперсия: critic_score    135.187342\n",
      "dtype: float64 \n",
      "\n",
      "Puzzle \n",
      " Средняя оценка: 70.0 \n",
      " Стандартное отклонение: 10.20457413777436 \n",
      " Дисперсия: critic_score    104.133333\n",
      "dtype: float64 \n",
      "\n",
      "Strategy \n",
      " Средняя оценка: 72.70370370370371 \n",
      " Стандартное отклонение: 12.936170775219628 \n",
      " Дисперсия: critic_score    167.344514\n",
      "dtype: float64 \n",
      "\n"
     ]
    }
   ],
   "source": [
    "for genre in genres_new:\n",
    "    genre_critic_score = rating_stat_critic.query('genre == @genre')\n",
    "    variance_estimate_critic = np.var(genre_critic_score, ddof=1)\n",
    "    print(genre,'\\n',\"Средняя оценка:\", genre_critic_score['critic_score'].mean(), '\\n', \n",
    "          \"Стандартное отклонение:\", genre_critic_score['critic_score'].std(), '\\n',\n",
    "          \"Дисперсия:\", variance_estimate_critic, '\\n')"
   ]
  },
  {
   "cell_type": "markdown",
   "metadata": {},
   "source": [
    "Гистограмы распределения рейтинга пользователей по жанрам."
   ]
  },
  {
   "cell_type": "code",
   "execution_count": 69,
   "metadata": {
    "scrolled": false
   },
   "outputs": [
    {
     "data": {
      "image/png": "[encoded data removed]",
      "text/plain": [
       "<Figure size 432x288 with 1 Axes>"
      ]
     },
     "metadata": {
      "needs_background": "light"
     },
     "output_type": "display_data"
    },
    {
     "data": {
      "image/png": "[encoded data removed]",
      "text/plain": [
       "<Figure size 432x288 with 1 Axes>"
      ]
     },
     "metadata": {
      "needs_background": "light"
     },
     "output_type": "display_data"
    },
    {
     "data": {
      "image/png": "[encoded data removed]",
      "text/plain": [
       "<Figure size 432x288 with 1 Axes>"
      ]
     },
     "metadata": {
      "needs_background": "light"
     },
     "output_type": "display_data"
    },
    {
     "data": {
      "image/png": "[encoded data removed]",
      "text/plain": [
       "<Figure size 432x288 with 1 Axes>"
      ]
     },
     "metadata": {
      "needs_background": "light"
     },
     "output_type": "display_data"
    },
    {
     "data": {
      "image/png": "[encoded data removed]",
      "text/plain": [
       "<Figure size 432x288 with 1 Axes>"
      ]
     },
     "metadata": {
      "needs_background": "light"
     },
     "output_type": "display_data"
    },
    {
     "data": {
      "image/png": "[encoded data removed]",
      "text/plain": [
       "<Figure size 432x288 with 1 Axes>"
      ]
     },
     "metadata": {
      "needs_background": "light"
     },
     "output_type": "display_data"
    },
    {
     "data": {
      "image/png": "[encoded data removed]",
      "text/plain": [
       "<Figure size 432x288 with 1 Axes>"
      ]
     },
     "metadata": {
      "needs_background": "light"
     },
     "output_type": "display_data"
    },
    {
     "data": {
      "image/png": "[encoded data removed]",
      "text/plain": [
       "<Figure size 432x288 with 1 Axes>"
      ]
     },
     "metadata": {
      "needs_background": "light"
     },
     "output_type": "display_data"
    },
    {
     "data": {
      "image/png": "[encoded data removed]",
      "text/plain": [
       "<Figure size 432x288 with 1 Axes>"
      ]
     },
     "metadata": {
      "needs_background": "light"
     },
     "output_type": "display_data"
    },
    {
     "data": {
      "image/png": "[encoded data removed]",
      "text/plain": [
       "<Figure size 432x288 with 1 Axes>"
      ]
     },
     "metadata": {
      "needs_background": "light"
     },
     "output_type": "display_data"
    },
    {
     "data": {
      "image/png": "[encoded data removed]",
      "text/plain": [
       "<Figure size 432x288 with 1 Axes>"
      ]
     },
     "metadata": {
      "needs_background": "light"
     },
     "output_type": "display_data"
    },
    {
     "data": {
      "image/png": "[encoded data removed]",
      "text/plain": [
       "<Figure size 432x288 with 1 Axes>"
      ]
     },
     "metadata": {
      "needs_background": "light"
     },
     "output_type": "display_data"
    }
   ],
   "source": [
    "rating_stat_user = new_df.loc[:,['genre','user_score']]\n",
    "for genre in genres_new:\n",
    "    genre_user = rating_stat_user.query('genre == @genre')\n",
    "    genre_user.hist(bins = 200)\n",
    "    plt.title(genre)"
   ]
  },
  {
   "cell_type": "markdown",
   "metadata": {},
   "source": [
    "Статистические показатели оценки пользователей по каждому жанру."
   ]
  },
  {
   "cell_type": "code",
   "execution_count": 70,
   "metadata": {},
   "outputs": [
    {
     "name": "stdout",
     "output_type": "stream",
     "text": [
      "Action \n",
      " Средняя оценка: 6.775903614457831 \n",
      " Стандартное отклонение: 1.3460598093337675 \n",
      " Дисперсия: user_score    1.811877\n",
      "dtype: float64 \n",
      "\n",
      "Shooter \n",
      " Средняя оценка: 6.415073529411765 \n",
      " Стандартное отклонение: 1.557991182882236 \n",
      " Дисперсия: user_score    2.427337\n",
      "dtype: float64 \n",
      "\n",
      "Role-Playing \n",
      " Средняя оценка: 7.260952380952382 \n",
      " Стандартное отклонение: 1.2306683319140548 \n",
      " Дисперсия: user_score    1.514545\n",
      "dtype: float64 \n",
      "\n",
      "Racing \n",
      " Средняя оценка: 6.26896551724138 \n",
      " Стандартное отклонение: 1.6339024393791985 \n",
      " Дисперсия: user_score    2.669637\n",
      "dtype: float64 \n",
      "\n",
      "Platform \n",
      " Средняя оценка: 6.966666666666668 \n",
      " Стандартное отклонение: 1.6660523212308345 \n",
      " Дисперсия: user_score    2.77573\n",
      "dtype: float64 \n",
      "\n",
      "Misc \n",
      " Средняя оценка: 6.837999999999999 \n",
      " Стандартное отклонение: 1.309235261401468 \n",
      " Дисперсия: user_score    1.714097\n",
      "dtype: float64 \n",
      "\n",
      "Simulation \n",
      " Средняя оценка: 6.219354838709678 \n",
      " Стандартное отклонение: 1.8011689018548456 \n",
      " Дисперсия: user_score    3.244209\n",
      "dtype: float64 \n",
      "\n",
      "Sports \n",
      " Средняя оценка: 5.650813008130081 \n",
      " Стандартное отклонение: 1.6977954942811948 \n",
      " Дисперсия: user_score    2.88251\n",
      "dtype: float64 \n",
      "\n",
      "Fighting \n",
      " Средняя оценка: 6.869811320754717 \n",
      " Стандартное отклонение: 1.3862707638581155 \n",
      " Дисперсия: user_score    1.921747\n",
      "dtype: float64 \n",
      "\n",
      "Adventure \n",
      " Средняя оценка: 7.401075268817204 \n",
      " Стандартное отклонение: 1.2910641569327619 \n",
      " Дисперсия: user_score    1.666847\n",
      "dtype: float64 \n",
      "\n",
      "Puzzle \n",
      " Средняя оценка: 7.164285714285714 \n",
      " Стандартное отклонение: 1.162627755002992 \n",
      " Дисперсия: user_score    1.351703\n",
      "dtype: float64 \n",
      "\n",
      "Strategy \n",
      " Средняя оценка: 6.422033898305085 \n",
      " Стандартное отклонение: 1.8309661851724313 \n",
      " Дисперсия: user_score    3.352437\n",
      "dtype: float64 \n",
      "\n"
     ]
    }
   ],
   "source": [
    "for genre in genres_new:\n",
    "    genre_user_score = rating_stat_user.query('genre == @genre')\n",
    "    variance_estimate_user = np.var(genre_user_score, ddof=1)\n",
    "    print(genre,'\\n',\"Средняя оценка:\", genre_user_score['user_score'].mean(), '\\n', \n",
    "          \"Стандартное отклонение:\", genre_user_score['user_score'].std(), '\\n',\n",
    "          \"Дисперсия:\", variance_estimate_user, '\\n')"
   ]
  },
  {
   "cell_type": "markdown",
   "metadata": {},
   "source": [
    "Распределение жанров по средним оценкам критиков."
   ]
  },
  {
   "cell_type": "code",
   "execution_count": 71,
   "metadata": {},
   "outputs": [
    {
     "data": {
      "text/html": [
       "<div>\n",
       "<style scoped>\n",
       "    .dataframe tbody tr th:only-of-type {\n",
       "        vertical-align: middle;\n",
       "    }\n",
       "\n",
       "    .dataframe tbody tr th {\n",
       "        vertical-align: top;\n",
       "    }\n",
       "\n",
       "    .dataframe thead th {\n",
       "        text-align: right;\n",
       "    }\n",
       "</style>\n",
       "<table border=\"1\" class=\"dataframe\">\n",
       "  <thead>\n",
       "    <tr style=\"text-align: right;\">\n",
       "      <th></th>\n",
       "      <th>critic_score</th>\n",
       "    </tr>\n",
       "    <tr>\n",
       "      <th>genre</th>\n",
       "      <th></th>\n",
       "    </tr>\n",
       "  </thead>\n",
       "  <tbody>\n",
       "    <tr>\n",
       "      <th>Platform</th>\n",
       "      <td>74.951220</td>\n",
       "    </tr>\n",
       "    <tr>\n",
       "      <th>Role-Playing</th>\n",
       "      <td>73.590909</td>\n",
       "    </tr>\n",
       "    <tr>\n",
       "      <th>Shooter</th>\n",
       "      <td>73.064516</td>\n",
       "    </tr>\n",
       "    <tr>\n",
       "      <th>Strategy</th>\n",
       "      <td>72.703704</td>\n",
       "    </tr>\n",
       "    <tr>\n",
       "      <th>Sports</th>\n",
       "      <td>72.005291</td>\n",
       "    </tr>\n",
       "    <tr>\n",
       "      <th>Adventure</th>\n",
       "      <td>71.950000</td>\n",
       "    </tr>\n",
       "    <tr>\n",
       "      <th>Racing</th>\n",
       "      <td>70.919643</td>\n",
       "    </tr>\n",
       "    <tr>\n",
       "      <th>Fighting</th>\n",
       "      <td>70.520000</td>\n",
       "    </tr>\n",
       "    <tr>\n",
       "      <th>Misc</th>\n",
       "      <td>70.136842</td>\n",
       "    </tr>\n",
       "    <tr>\n",
       "      <th>Puzzle</th>\n",
       "      <td>70.000000</td>\n",
       "    </tr>\n",
       "    <tr>\n",
       "      <th>Action</th>\n",
       "      <td>69.898100</td>\n",
       "    </tr>\n",
       "    <tr>\n",
       "      <th>Simulation</th>\n",
       "      <td>63.932203</td>\n",
       "    </tr>\n",
       "  </tbody>\n",
       "</table>\n",
       "</div>"
      ],
      "text/plain": [
       "              critic_score\n",
       "genre                     \n",
       "Platform         74.951220\n",
       "Role-Playing     73.590909\n",
       "Shooter          73.064516\n",
       "Strategy         72.703704\n",
       "Sports           72.005291\n",
       "Adventure        71.950000\n",
       "Racing           70.919643\n",
       "Fighting         70.520000\n",
       "Misc             70.136842\n",
       "Puzzle           70.000000\n",
       "Action           69.898100\n",
       "Simulation       63.932203"
      ]
     },
     "execution_count": 71,
     "metadata": {},
     "output_type": "execute_result"
    }
   ],
   "source": [
    "genre_critic_top = pd.pivot_table(rating_stat_critic, index = 'genre', values = 'critic_score', aggfunc = 'mean')\n",
    "genre_critic_top.sort_values('critic_score', ascending = False)"
   ]
  },
  {
   "cell_type": "markdown",
   "metadata": {},
   "source": [
    "Распределение жанров по средним оценкам пользователей."
   ]
  },
  {
   "cell_type": "code",
   "execution_count": 72,
   "metadata": {},
   "outputs": [
    {
     "data": {
      "text/html": [
       "<div>\n",
       "<style scoped>\n",
       "    .dataframe tbody tr th:only-of-type {\n",
       "        vertical-align: middle;\n",
       "    }\n",
       "\n",
       "    .dataframe tbody tr th {\n",
       "        vertical-align: top;\n",
       "    }\n",
       "\n",
       "    .dataframe thead th {\n",
       "        text-align: right;\n",
       "    }\n",
       "</style>\n",
       "<table border=\"1\" class=\"dataframe\">\n",
       "  <thead>\n",
       "    <tr style=\"text-align: right;\">\n",
       "      <th></th>\n",
       "      <th>user_score</th>\n",
       "    </tr>\n",
       "    <tr>\n",
       "      <th>genre</th>\n",
       "      <th></th>\n",
       "    </tr>\n",
       "  </thead>\n",
       "  <tbody>\n",
       "    <tr>\n",
       "      <th>Adventure</th>\n",
       "      <td>7.401075</td>\n",
       "    </tr>\n",
       "    <tr>\n",
       "      <th>Role-Playing</th>\n",
       "      <td>7.260952</td>\n",
       "    </tr>\n",
       "    <tr>\n",
       "      <th>Puzzle</th>\n",
       "      <td>7.164286</td>\n",
       "    </tr>\n",
       "    <tr>\n",
       "      <th>Platform</th>\n",
       "      <td>6.966667</td>\n",
       "    </tr>\n",
       "    <tr>\n",
       "      <th>Fighting</th>\n",
       "      <td>6.869811</td>\n",
       "    </tr>\n",
       "    <tr>\n",
       "      <th>Misc</th>\n",
       "      <td>6.838000</td>\n",
       "    </tr>\n",
       "    <tr>\n",
       "      <th>Action</th>\n",
       "      <td>6.775904</td>\n",
       "    </tr>\n",
       "    <tr>\n",
       "      <th>Strategy</th>\n",
       "      <td>6.422034</td>\n",
       "    </tr>\n",
       "    <tr>\n",
       "      <th>Shooter</th>\n",
       "      <td>6.415074</td>\n",
       "    </tr>\n",
       "    <tr>\n",
       "      <th>Racing</th>\n",
       "      <td>6.268966</td>\n",
       "    </tr>\n",
       "    <tr>\n",
       "      <th>Simulation</th>\n",
       "      <td>6.219355</td>\n",
       "    </tr>\n",
       "    <tr>\n",
       "      <th>Sports</th>\n",
       "      <td>5.650813</td>\n",
       "    </tr>\n",
       "  </tbody>\n",
       "</table>\n",
       "</div>"
      ],
      "text/plain": [
       "              user_score\n",
       "genre                   \n",
       "Adventure       7.401075\n",
       "Role-Playing    7.260952\n",
       "Puzzle          7.164286\n",
       "Platform        6.966667\n",
       "Fighting        6.869811\n",
       "Misc            6.838000\n",
       "Action          6.775904\n",
       "Strategy        6.422034\n",
       "Shooter         6.415074\n",
       "Racing          6.268966\n",
       "Simulation      6.219355\n",
       "Sports          5.650813"
      ]
     },
     "execution_count": 72,
     "metadata": {},
     "output_type": "execute_result"
    }
   ],
   "source": [
    "genre_user_top = pd.pivot_table(rating_stat_user, index = 'genre', values = 'user_score', aggfunc = 'mean')\n",
    "genre_user_top.sort_values('user_score', ascending = False)"
   ]
  },
  {
   "cell_type": "markdown",
   "metadata": {},
   "source": [
    "- Оценки критиков.\n",
    "\n",
    "\n",
    "Оценка критиков по жанрам отличается высокой вариативностью. Так, самый большой разброс оценок критиков (по показателям стандратного отклонения и дисперсии) в жанрах Sports, Firthing, Racing, Shooter, Action, то есть в этих жанрах есть как откровенно слабые, так и топ-игры. \n",
    "\n",
    "Самый маленький разброс оценок для игр в жанре Puzzle, соответственно, уровень этих игр примерно одинаков.Однако большой разброс данных также отчасти связан с использованием стобалльной шкалы.\n",
    "Наибольшая скошенность данных в сторону более высоких оценок у игр в жанрах Sports, Fighting - критики предпочита.т динамичные жанры.\n",
    "\n",
    "В среднем самые высоко оцененные критиками жанры: Platform, Role-Playing, Strategy. Наименее популярны у критиков Misс, Action, Simulation. \n",
    "\n",
    "- Оценка пользователей.\n",
    "\n",
    "Оценка пользоватей отличается меньшей вариативностью, в т.ч. из-за использования 10-балльной шкалы. Самый большой разброс оценок в жанрах Strategy, Simulation, Sports, в этих жанрах есть игры разной для пользователей привлекательности. Самый маленький разброс оценок для игр в жанре Puzzle, как и для оценок критиков.\n",
    "\n",
    "\n",
    "Среди фаворитов пользователей - Adventure, Platform, Role-Playing, что частично совпадает с оценками критиков. Самые низко оцененные пользователями жанры: Racing, Simulation, Sports. Наибольшая скошенность в сторону положительных оценок наблюдается для жанров Fighting, Action, Platform - пользователям кроме динамики нравится еще и достигать своей цели:)\n",
    "\n"
   ]
  },
  {
   "cell_type": "markdown",
   "metadata": {},
   "source": [
    "<a id='5step'></a>"
   ]
  },
  {
   "cell_type": "markdown",
   "metadata": {},
   "source": [
    "## Проверка гипотез\n",
    "- Средние пользовательские рейтинги платформ Xbox One и PC одинаковые;\n",
    "- Средние пользовательские рейтинги жанров Action (англ. «действие») и Sports (англ. «виды спорта») разные."
   ]
  },
  {
   "cell_type": "markdown",
   "metadata": {},
   "source": [
    "При проверке гипотез о равенстве среднего двух генеральных совокупностей по взятым из них выборкам будет использоваться t-тест."
   ]
  },
  {
   "cell_type": "markdown",
   "metadata": {},
   "source": [
    "Гипотеза 1.\n",
    "\n",
    "Нулевая гипотеза: средние пользовательские рейтинги платформ Xbox One и PC равны.\n",
    "\n",
    "Альтернативная гипотеза: средние пользовательские рейтинги платформ Xbox One и PC не равны."
   ]
  },
  {
   "cell_type": "code",
   "execution_count": 73,
   "metadata": {},
   "outputs": [
    {
     "data": {
      "text/html": [
       "<div>\n",
       "<style scoped>\n",
       "    .dataframe tbody tr th:only-of-type {\n",
       "        vertical-align: middle;\n",
       "    }\n",
       "\n",
       "    .dataframe tbody tr th {\n",
       "        vertical-align: top;\n",
       "    }\n",
       "\n",
       "    .dataframe thead th {\n",
       "        text-align: right;\n",
       "    }\n",
       "</style>\n",
       "<table border=\"1\" class=\"dataframe\">\n",
       "  <thead>\n",
       "    <tr style=\"text-align: right;\">\n",
       "      <th></th>\n",
       "      <th>platform</th>\n",
       "      <th>user_score</th>\n",
       "    </tr>\n",
       "  </thead>\n",
       "  <tbody>\n",
       "    <tr>\n",
       "      <th>99</th>\n",
       "      <td>XOne</td>\n",
       "      <td>NaN</td>\n",
       "    </tr>\n",
       "    <tr>\n",
       "      <th>165</th>\n",
       "      <td>XOne</td>\n",
       "      <td>7.9</td>\n",
       "    </tr>\n",
       "    <tr>\n",
       "      <th>179</th>\n",
       "      <td>XOne</td>\n",
       "      <td>5.4</td>\n",
       "    </tr>\n",
       "    <tr>\n",
       "      <th>241</th>\n",
       "      <td>XOne</td>\n",
       "      <td>6.4</td>\n",
       "    </tr>\n",
       "    <tr>\n",
       "      <th>269</th>\n",
       "      <td>XOne</td>\n",
       "      <td>6.2</td>\n",
       "    </tr>\n",
       "    <tr>\n",
       "      <th>...</th>\n",
       "      <td>...</td>\n",
       "      <td>...</td>\n",
       "    </tr>\n",
       "    <tr>\n",
       "      <th>16359</th>\n",
       "      <td>XOne</td>\n",
       "      <td>8.2</td>\n",
       "    </tr>\n",
       "    <tr>\n",
       "      <th>16372</th>\n",
       "      <td>XOne</td>\n",
       "      <td>6.6</td>\n",
       "    </tr>\n",
       "    <tr>\n",
       "      <th>16374</th>\n",
       "      <td>XOne</td>\n",
       "      <td>NaN</td>\n",
       "    </tr>\n",
       "    <tr>\n",
       "      <th>16389</th>\n",
       "      <td>XOne</td>\n",
       "      <td>6.7</td>\n",
       "    </tr>\n",
       "    <tr>\n",
       "      <th>16401</th>\n",
       "      <td>XOne</td>\n",
       "      <td>NaN</td>\n",
       "    </tr>\n",
       "  </tbody>\n",
       "</table>\n",
       "<p>247 rows × 2 columns</p>\n",
       "</div>"
      ],
      "text/plain": [
       "      platform  user_score\n",
       "99        XOne         NaN\n",
       "165       XOne         7.9\n",
       "179       XOne         5.4\n",
       "241       XOne         6.4\n",
       "269       XOne         6.2\n",
       "...        ...         ...\n",
       "16359     XOne         8.2\n",
       "16372     XOne         6.6\n",
       "16374     XOne         NaN\n",
       "16389     XOne         6.7\n",
       "16401     XOne         NaN\n",
       "\n",
       "[247 rows x 2 columns]"
      ]
     },
     "execution_count": 73,
     "metadata": {},
     "output_type": "execute_result"
    }
   ],
   "source": [
    "platform_stat_user = new_df.loc[:,['platform','user_score']] #подготовка данных для проверки гипотез\n",
    "Xbox_stat_user = platform_stat_user.query('platform == \"XOne\"')\n",
    "Xbox_stat_user"
   ]
  },
  {
   "cell_type": "code",
   "execution_count": 74,
   "metadata": {},
   "outputs": [
    {
     "data": {
      "text/html": [
       "<div>\n",
       "<style scoped>\n",
       "    .dataframe tbody tr th:only-of-type {\n",
       "        vertical-align: middle;\n",
       "    }\n",
       "\n",
       "    .dataframe tbody tr th {\n",
       "        vertical-align: top;\n",
       "    }\n",
       "\n",
       "    .dataframe thead th {\n",
       "        text-align: right;\n",
       "    }\n",
       "</style>\n",
       "<table border=\"1\" class=\"dataframe\">\n",
       "  <thead>\n",
       "    <tr style=\"text-align: right;\">\n",
       "      <th></th>\n",
       "      <th>platform</th>\n",
       "      <th>user_score</th>\n",
       "    </tr>\n",
       "  </thead>\n",
       "  <tbody>\n",
       "    <tr>\n",
       "      <th>191</th>\n",
       "      <td>PC</td>\n",
       "      <td>4.0</td>\n",
       "    </tr>\n",
       "    <tr>\n",
       "      <th>312</th>\n",
       "      <td>PC</td>\n",
       "      <td>8.1</td>\n",
       "    </tr>\n",
       "    <tr>\n",
       "      <th>455</th>\n",
       "      <td>PC</td>\n",
       "      <td>3.9</td>\n",
       "    </tr>\n",
       "    <tr>\n",
       "      <th>476</th>\n",
       "      <td>PC</td>\n",
       "      <td>5.9</td>\n",
       "    </tr>\n",
       "    <tr>\n",
       "      <th>534</th>\n",
       "      <td>PC</td>\n",
       "      <td>7.5</td>\n",
       "    </tr>\n",
       "  </tbody>\n",
       "</table>\n",
       "</div>"
      ],
      "text/plain": [
       "    platform  user_score\n",
       "191       PC         4.0\n",
       "312       PC         8.1\n",
       "455       PC         3.9\n",
       "476       PC         5.9\n",
       "534       PC         7.5"
      ]
     },
     "execution_count": 74,
     "metadata": {},
     "output_type": "execute_result"
    }
   ],
   "source": [
    "PC_stat_user = platform_stat_user.query('platform == \"PC\"')\n",
    "PC_stat_user.head()"
   ]
  },
  {
   "cell_type": "code",
   "execution_count": 75,
   "metadata": {
    "scrolled": false
   },
   "outputs": [
    {
     "data": {
      "text/plain": [
       "165      7.9\n",
       "179      5.4\n",
       "241      6.4\n",
       "269      6.2\n",
       "372      4.1\n",
       "        ... \n",
       "16273    6.8\n",
       "16326    6.0\n",
       "16359    8.2\n",
       "16372    6.6\n",
       "16389    6.7\n",
       "Name: user_score, Length: 182, dtype: float64"
      ]
     },
     "execution_count": 75,
     "metadata": {},
     "output_type": "execute_result"
    }
   ],
   "source": [
    "Xbox_user = Xbox_stat_user['user_score'].dropna()\n",
    "Xbox_user"
   ]
  },
  {
   "cell_type": "code",
   "execution_count": 76,
   "metadata": {
    "scrolled": false
   },
   "outputs": [
    {
     "data": {
      "text/plain": [
       "191      4.0\n",
       "312      8.1\n",
       "455      3.9\n",
       "476      5.9\n",
       "534      7.5\n",
       "        ... \n",
       "16248    1.4\n",
       "16313    7.9\n",
       "16421    7.6\n",
       "16425    5.8\n",
       "16431    7.2\n",
       "Name: user_score, Length: 307, dtype: float64"
      ]
     },
     "execution_count": 76,
     "metadata": {},
     "output_type": "execute_result"
    }
   ],
   "source": [
    "PC_user = PC_stat_user['user_score'].dropna()\n",
    "PC_user"
   ]
  },
  {
   "cell_type": "code",
   "execution_count": 77,
   "metadata": {},
   "outputs": [
    {
     "name": "stdout",
     "output_type": "stream",
     "text": [
      "p-значение: 0.6267602271422398\n",
      "Не получилось отвергнуть нулевую гипотезу\n"
     ]
    }
   ],
   "source": [
    "alpha = .01 #проверка гипотезы\n",
    "platform_results = st.ttest_ind(Xbox_user, PC_user)\n",
    "print('p-значение:', platform_results.pvalue)\n",
    "if platform_results.pvalue < alpha:\n",
    "    print('Отвергаем нулевую гипотезу')\n",
    "else:\n",
    "    print('Не получилось отвергнуть нулевую гипотезу') "
   ]
  },
  {
   "cell_type": "code",
   "execution_count": 78,
   "metadata": {},
   "outputs": [
    {
     "data": {
      "text/plain": [
       "6.451791530944625"
      ]
     },
     "execution_count": 78,
     "metadata": {},
     "output_type": "execute_result"
    }
   ],
   "source": [
    "PC_stat_user['user_score'].mean() #средний пользовательский рейтинг платфомы PC"
   ]
  },
  {
   "cell_type": "code",
   "execution_count": 79,
   "metadata": {},
   "outputs": [
    {
     "data": {
      "text/plain": [
       "6.521428571428572"
      ]
     },
     "execution_count": 79,
     "metadata": {},
     "output_type": "execute_result"
    }
   ],
   "source": [
    "Xbox_stat_user['user_score'].mean() #средний пользовательский рейтинг платфомы Xbox"
   ]
  },
  {
   "cell_type": "markdown",
   "metadata": {},
   "source": [
    "Нулевая гипотеза не отвергнута. Таким образом, можно говорить о том, что средние пользовательские рейтинги платформ Xbox One и РС скорее одинаковые.\n",
    "\n",
    "Простое сравнение средних подтверждает верность статистической провеки гипотез."
   ]
  },
  {
   "cell_type": "markdown",
   "metadata": {},
   "source": [
    "Гипотеза 2. \n",
    "\n",
    "Нулевая гипотеза: Средние пользовательские рейтинги жанров Action (англ. «действие») и Sports (англ. «виды спорта») одинаковые.\n",
    "\n",
    "Альтернативная гипотеза: Средние пользовательские рейтинги жанров Action (англ. «действие») и Sports (англ. «виды спорта») разные."
   ]
  },
  {
   "cell_type": "code",
   "execution_count": 80,
   "metadata": {},
   "outputs": [
    {
     "data": {
      "text/html": [
       "<div>\n",
       "<style scoped>\n",
       "    .dataframe tbody tr th:only-of-type {\n",
       "        vertical-align: middle;\n",
       "    }\n",
       "\n",
       "    .dataframe tbody tr th {\n",
       "        vertical-align: top;\n",
       "    }\n",
       "\n",
       "    .dataframe thead th {\n",
       "        text-align: right;\n",
       "    }\n",
       "</style>\n",
       "<table border=\"1\" class=\"dataframe\">\n",
       "  <thead>\n",
       "    <tr style=\"text-align: right;\">\n",
       "      <th></th>\n",
       "      <th>genre</th>\n",
       "      <th>user_score</th>\n",
       "    </tr>\n",
       "  </thead>\n",
       "  <tbody>\n",
       "    <tr>\n",
       "      <th>16</th>\n",
       "      <td>Action</td>\n",
       "      <td>8.2</td>\n",
       "    </tr>\n",
       "    <tr>\n",
       "      <th>23</th>\n",
       "      <td>Action</td>\n",
       "      <td>8.1</td>\n",
       "    </tr>\n",
       "    <tr>\n",
       "      <th>42</th>\n",
       "      <td>Action</td>\n",
       "      <td>8.3</td>\n",
       "    </tr>\n",
       "    <tr>\n",
       "      <th>81</th>\n",
       "      <td>Action</td>\n",
       "      <td>6.6</td>\n",
       "    </tr>\n",
       "    <tr>\n",
       "      <th>118</th>\n",
       "      <td>Action</td>\n",
       "      <td>8.3</td>\n",
       "    </tr>\n",
       "    <tr>\n",
       "      <th>...</th>\n",
       "      <td>...</td>\n",
       "      <td>...</td>\n",
       "    </tr>\n",
       "    <tr>\n",
       "      <th>16409</th>\n",
       "      <td>Action</td>\n",
       "      <td>NaN</td>\n",
       "    </tr>\n",
       "    <tr>\n",
       "      <th>16420</th>\n",
       "      <td>Action</td>\n",
       "      <td>NaN</td>\n",
       "    </tr>\n",
       "    <tr>\n",
       "      <th>16421</th>\n",
       "      <td>Action</td>\n",
       "      <td>7.6</td>\n",
       "    </tr>\n",
       "    <tr>\n",
       "      <th>16428</th>\n",
       "      <td>Action</td>\n",
       "      <td>NaN</td>\n",
       "    </tr>\n",
       "    <tr>\n",
       "      <th>16439</th>\n",
       "      <td>Action</td>\n",
       "      <td>NaN</td>\n",
       "    </tr>\n",
       "  </tbody>\n",
       "</table>\n",
       "<p>1269 rows × 2 columns</p>\n",
       "</div>"
      ],
      "text/plain": [
       "        genre  user_score\n",
       "16     Action         8.2\n",
       "23     Action         8.1\n",
       "42     Action         8.3\n",
       "81     Action         6.6\n",
       "118    Action         8.3\n",
       "...       ...         ...\n",
       "16409  Action         NaN\n",
       "16420  Action         NaN\n",
       "16421  Action         7.6\n",
       "16428  Action         NaN\n",
       "16439  Action         NaN\n",
       "\n",
       "[1269 rows x 2 columns]"
      ]
     },
     "execution_count": 80,
     "metadata": {},
     "output_type": "execute_result"
    }
   ],
   "source": [
    "genre_stat_user = new_df.loc[:,['platform','user_score']] #подготовка данных для проверки гипотезы\n",
    "Action_stat_user = rating_stat_user.query('genre == \"Action\"')\n",
    "Action_stat_user"
   ]
  },
  {
   "cell_type": "code",
   "execution_count": 81,
   "metadata": {
    "scrolled": false
   },
   "outputs": [
    {
     "data": {
      "text/plain": [
       "16       8.2\n",
       "23       8.1\n",
       "42       8.3\n",
       "81       6.6\n",
       "118      8.3\n",
       "        ... \n",
       "16326    6.0\n",
       "16381    8.5\n",
       "16383    5.1\n",
       "16389    6.7\n",
       "16421    7.6\n",
       "Name: user_score, Length: 664, dtype: float64"
      ]
     },
     "execution_count": 81,
     "metadata": {},
     "output_type": "execute_result"
    }
   ],
   "source": [
    "Action_user = Action_stat_user['user_score'].dropna()\n",
    "Action_user"
   ]
  },
  {
   "cell_type": "code",
   "execution_count": 82,
   "metadata": {},
   "outputs": [
    {
     "data": {
      "text/html": [
       "<div>\n",
       "<style scoped>\n",
       "    .dataframe tbody tr th:only-of-type {\n",
       "        vertical-align: middle;\n",
       "    }\n",
       "\n",
       "    .dataframe tbody tr th {\n",
       "        vertical-align: top;\n",
       "    }\n",
       "\n",
       "    .dataframe thead th {\n",
       "        text-align: right;\n",
       "    }\n",
       "</style>\n",
       "<table border=\"1\" class=\"dataframe\">\n",
       "  <thead>\n",
       "    <tr style=\"text-align: right;\">\n",
       "      <th></th>\n",
       "      <th>genre</th>\n",
       "      <th>user_score</th>\n",
       "    </tr>\n",
       "  </thead>\n",
       "  <tbody>\n",
       "    <tr>\n",
       "      <th>77</th>\n",
       "      <td>Sports</td>\n",
       "      <td>4.3</td>\n",
       "    </tr>\n",
       "    <tr>\n",
       "      <th>94</th>\n",
       "      <td>Sports</td>\n",
       "      <td>5.0</td>\n",
       "    </tr>\n",
       "    <tr>\n",
       "      <th>122</th>\n",
       "      <td>Sports</td>\n",
       "      <td>NaN</td>\n",
       "    </tr>\n",
       "    <tr>\n",
       "      <th>126</th>\n",
       "      <td>Sports</td>\n",
       "      <td>4.3</td>\n",
       "    </tr>\n",
       "    <tr>\n",
       "      <th>143</th>\n",
       "      <td>Sports</td>\n",
       "      <td>5.7</td>\n",
       "    </tr>\n",
       "    <tr>\n",
       "      <th>...</th>\n",
       "      <td>...</td>\n",
       "      <td>...</td>\n",
       "    </tr>\n",
       "    <tr>\n",
       "      <th>16248</th>\n",
       "      <td>Sports</td>\n",
       "      <td>1.4</td>\n",
       "    </tr>\n",
       "    <tr>\n",
       "      <th>16291</th>\n",
       "      <td>Sports</td>\n",
       "      <td>NaN</td>\n",
       "    </tr>\n",
       "    <tr>\n",
       "      <th>16367</th>\n",
       "      <td>Sports</td>\n",
       "      <td>NaN</td>\n",
       "    </tr>\n",
       "    <tr>\n",
       "      <th>16372</th>\n",
       "      <td>Sports</td>\n",
       "      <td>6.6</td>\n",
       "    </tr>\n",
       "    <tr>\n",
       "      <th>16417</th>\n",
       "      <td>Sports</td>\n",
       "      <td>NaN</td>\n",
       "    </tr>\n",
       "  </tbody>\n",
       "</table>\n",
       "<p>389 rows × 2 columns</p>\n",
       "</div>"
      ],
      "text/plain": [
       "        genre  user_score\n",
       "77     Sports         4.3\n",
       "94     Sports         5.0\n",
       "122    Sports         NaN\n",
       "126    Sports         4.3\n",
       "143    Sports         5.7\n",
       "...       ...         ...\n",
       "16248  Sports         1.4\n",
       "16291  Sports         NaN\n",
       "16367  Sports         NaN\n",
       "16372  Sports         6.6\n",
       "16417  Sports         NaN\n",
       "\n",
       "[389 rows x 2 columns]"
      ]
     },
     "execution_count": 82,
     "metadata": {},
     "output_type": "execute_result"
    }
   ],
   "source": [
    "Sports_stat_user = rating_stat_user.query('genre == \"Sports\"')\n",
    "Sports_stat_user"
   ]
  },
  {
   "cell_type": "code",
   "execution_count": 83,
   "metadata": {
    "scrolled": false
   },
   "outputs": [
    {
     "data": {
      "text/plain": [
       "77       4.3\n",
       "94       5.0\n",
       "126      4.3\n",
       "143      5.7\n",
       "263      4.5\n",
       "        ... \n",
       "15887    6.9\n",
       "15969    5.5\n",
       "16181    4.5\n",
       "16248    1.4\n",
       "16372    6.6\n",
       "Name: user_score, Length: 246, dtype: float64"
      ]
     },
     "execution_count": 83,
     "metadata": {},
     "output_type": "execute_result"
    }
   ],
   "source": [
    "Sports_user = Sports_stat_user['user_score'].dropna()\n",
    "Sports_user"
   ]
  },
  {
   "cell_type": "code",
   "execution_count": 84,
   "metadata": {},
   "outputs": [
    {
     "name": "stdout",
     "output_type": "stream",
     "text": [
      "p-значение: 5.1974550252152054e-24\n",
      "Отвергаем нулевую гипотезу\n"
     ]
    }
   ],
   "source": [
    "alpha = .01 #проверка гипотезы\n",
    "genre_results = st.ttest_ind(Action_user, Sports_user)\n",
    "print('p-значение:', genre_results.pvalue)\n",
    "if platform_results.pvalue > alpha:\n",
    "    print('Отвергаем нулевую гипотезу')\n",
    "else:\n",
    "    print('Не получилось отвергнуть нулевую гипотезу') "
   ]
  },
  {
   "cell_type": "code",
   "execution_count": 85,
   "metadata": {},
   "outputs": [
    {
     "data": {
      "text/plain": [
       "5.650813008130081"
      ]
     },
     "execution_count": 85,
     "metadata": {},
     "output_type": "execute_result"
    }
   ],
   "source": [
    "Sports_stat_user['user_score'].mean() #средний пользовательский рейтинг игра жанра Sports"
   ]
  },
  {
   "cell_type": "code",
   "execution_count": 86,
   "metadata": {},
   "outputs": [
    {
     "data": {
      "text/plain": [
       "6.775903614457831"
      ]
     },
     "execution_count": 86,
     "metadata": {},
     "output_type": "execute_result"
    }
   ],
   "source": [
    "Action_stat_user['user_score'].mean() #средний пользовательский рейтинг игра жанра Action"
   ]
  },
  {
   "cell_type": "markdown",
   "metadata": {},
   "source": [
    "Нулевая гипотеза была отвергнута, соответственно, средние пользовательские рейтинги жанров Action (англ. «действие») и Sports (англ. «виды спорта»), вероятно, разные.\n",
    "\n",
    "Простое сравнение средних подтверждает результаты статистической проверки гипотезы.\n",
    "\n",
    "Гипотезы были проверены на основании проведения теста Стьюдента, который позволяет сравнить среднее значение двух выборок. За пороговое значение было принято 0.01, что говорит о достоверности резкльтата в 99%."
   ]
  },
  {
   "cell_type": "markdown",
   "metadata": {},
   "source": [
    "<a id='6step'></a>"
   ]
  },
  {
   "cell_type": "markdown",
   "metadata": {},
   "source": [
    "## Общий вывод"
   ]
  },
  {
   "cell_type": "markdown",
   "metadata": {},
   "source": [
    "В рамках проекты были выполнены следующие задачи:\n",
    "- подготовка данных;\n",
    "- проведение исследовательского анализа данных в отношении продаж по платформам, распределения игр по жанрам;\n",
    "- составление портрета пользователя по регионам;\n",
    "- исследование статистичсеких показателей в отношении оценко критиков и пользоваталей по жанрам;\n",
    "- проверка гипотез о пользовательских рейтингах.\n",
    "\n",
    "Были выявлены следующие определяющие успешность игры закономерности:\n",
    "- Платформа игры. Если игра выпущена на платформе, которая находится на пике популярности, то ее продажи могут быть выше. Для 2017 года это платформы PS4, XOne. \n",
    "- Жанр. Предпочения пользователей по жанрам зависят от региона. Для Северной Америки и Европы экшены и шутеры, для Японии - ролевые игры и экшены. \n",
    "- Оценки критиков. Самые высоко оцененные критиками игры, как правило, платформенные и ролевые. При этом для интересующих нас платформ уровень продаж не связан с оценками критиков, но платформенные игры входят в топ жанров только в Японии.\n",
    "- Рейтинг. Также зависит от региона. В Северной Америке и Европе наиболее популярними будут игры для лиц, страше 17 лет, а в Японии популярны игры без рейтинга и игры для всех возрастов. \n",
    "\n",
    "Таким образом, средней успешной игрой для всех реионов будет игра для платформы PS4 в жанре экшен для лиц старше 17 лет, с высокими оценками критиков.\n",
    "\n"
   ]
  }
 ],
 "metadata": {
  "ExecuteTimeLog": [
   {
    "duration": 1830,
    "start_time": "2022-05-04T13:31:54.272Z"
   },
   {
    "duration": 301,
    "start_time": "2022-05-04T13:31:56.104Z"
   },
   {
    "duration": 8,
    "start_time": "2022-05-04T13:31:56.407Z"
   },
   {
    "duration": 22,
    "start_time": "2022-05-04T13:31:56.418Z"
   },
   {
    "duration": 15,
    "start_time": "2022-05-04T13:31:56.443Z"
   },
   {
    "duration": 7,
    "start_time": "2022-05-04T13:31:56.460Z"
   },
   {
    "duration": 64,
    "start_time": "2022-05-04T13:31:56.469Z"
   },
   {
    "duration": 13,
    "start_time": "2022-05-04T13:31:56.535Z"
   },
   {
    "duration": 21,
    "start_time": "2022-05-04T13:31:56.550Z"
   },
   {
    "duration": 13,
    "start_time": "2022-05-04T13:31:56.575Z"
   },
   {
    "duration": 39,
    "start_time": "2022-05-04T13:31:56.590Z"
   },
   {
    "duration": 8,
    "start_time": "2022-05-04T13:31:56.631Z"
   },
   {
    "duration": 15,
    "start_time": "2022-05-04T13:31:56.641Z"
   },
   {
    "duration": 25,
    "start_time": "2022-05-04T13:31:56.658Z"
   },
   {
    "duration": 51,
    "start_time": "2022-05-04T13:31:56.685Z"
   },
   {
    "duration": 312,
    "start_time": "2022-05-04T13:31:56.738Z"
   },
   {
    "duration": 27,
    "start_time": "2022-05-04T13:31:57.053Z"
   },
   {
    "duration": 50,
    "start_time": "2022-05-04T13:31:57.083Z"
   },
   {
    "duration": 6,
    "start_time": "2022-05-04T13:31:57.136Z"
   },
   {
    "duration": 1472,
    "start_time": "2022-05-04T13:31:57.144Z"
   },
   {
    "duration": 38,
    "start_time": "2022-05-04T13:31:58.625Z"
   },
   {
    "duration": 6,
    "start_time": "2022-05-04T13:31:58.665Z"
   },
   {
    "duration": 20,
    "start_time": "2022-05-04T13:31:58.674Z"
   },
   {
    "duration": 7,
    "start_time": "2022-05-04T13:31:58.724Z"
   },
   {
    "duration": 9,
    "start_time": "2022-05-04T13:31:58.734Z"
   },
   {
    "duration": 10,
    "start_time": "2022-05-04T13:31:58.745Z"
   },
   {
    "duration": 69,
    "start_time": "2022-05-04T13:31:58.757Z"
   },
   {
    "duration": 21,
    "start_time": "2022-05-04T13:31:58.833Z"
   },
   {
    "duration": 12,
    "start_time": "2022-05-04T13:31:58.856Z"
   },
   {
    "duration": 1935,
    "start_time": "2022-05-04T13:31:58.870Z"
   },
   {
    "duration": 518,
    "start_time": "2022-05-04T13:32:00.807Z"
   },
   {
    "duration": 13,
    "start_time": "2022-05-04T13:32:01.328Z"
   },
   {
    "duration": 104,
    "start_time": "2022-05-04T13:32:01.344Z"
   },
   {
    "duration": 18,
    "start_time": "2022-05-04T13:32:01.450Z"
   },
   {
    "duration": 33,
    "start_time": "2022-05-04T13:32:01.470Z"
   },
   {
    "duration": 1080,
    "start_time": "2022-05-04T13:32:01.505Z"
   },
   {
    "duration": 67,
    "start_time": "2022-05-04T13:32:02.588Z"
   },
   {
    "duration": 22,
    "start_time": "2022-05-04T13:32:02.657Z"
   },
   {
    "duration": 39,
    "start_time": "2022-05-04T13:32:02.681Z"
   },
   {
    "duration": 23,
    "start_time": "2022-05-04T13:32:02.723Z"
   },
   {
    "duration": 22,
    "start_time": "2022-05-04T13:32:02.748Z"
   },
   {
    "duration": 295,
    "start_time": "2022-05-04T13:32:02.772Z"
   },
   {
    "duration": 7,
    "start_time": "2022-05-04T13:32:03.069Z"
   },
   {
    "duration": 28,
    "start_time": "2022-05-04T13:32:03.078Z"
   },
   {
    "duration": 32,
    "start_time": "2022-05-04T13:32:03.108Z"
   },
   {
    "duration": 288,
    "start_time": "2022-05-04T13:32:03.142Z"
   },
   {
    "duration": 21,
    "start_time": "2022-05-04T13:32:03.432Z"
   },
   {
    "duration": 251,
    "start_time": "2022-05-04T13:32:03.455Z"
   },
   {
    "duration": 27,
    "start_time": "2022-05-04T13:32:03.708Z"
   },
   {
    "duration": 26,
    "start_time": "2022-05-04T13:32:03.737Z"
   },
   {
    "duration": 287,
    "start_time": "2022-05-04T13:32:03.765Z"
   },
   {
    "duration": 6,
    "start_time": "2022-05-04T13:32:04.054Z"
   },
   {
    "duration": 25,
    "start_time": "2022-05-04T13:32:04.062Z"
   },
   {
    "duration": 38,
    "start_time": "2022-05-04T13:32:04.090Z"
   },
   {
    "duration": 265,
    "start_time": "2022-05-04T13:32:04.130Z"
   },
   {
    "duration": 29,
    "start_time": "2022-05-04T13:32:04.398Z"
   },
   {
    "duration": 225,
    "start_time": "2022-05-04T13:32:04.429Z"
   },
   {
    "duration": 23,
    "start_time": "2022-05-04T13:32:04.657Z"
   },
   {
    "duration": 50,
    "start_time": "2022-05-04T13:32:04.683Z"
   },
   {
    "duration": 260,
    "start_time": "2022-05-04T13:32:04.736Z"
   },
   {
    "duration": 7,
    "start_time": "2022-05-04T13:32:04.999Z"
   },
   {
    "duration": 27,
    "start_time": "2022-05-04T13:32:05.009Z"
   },
   {
    "duration": 41,
    "start_time": "2022-05-04T13:32:05.038Z"
   },
   {
    "duration": 281,
    "start_time": "2022-05-04T13:32:05.082Z"
   },
   {
    "duration": 20,
    "start_time": "2022-05-04T13:32:05.365Z"
   },
   {
    "duration": 238,
    "start_time": "2022-05-04T13:32:05.387Z"
   },
   {
    "duration": 581,
    "start_time": "2022-05-04T13:32:05.628Z"
   },
   {
    "duration": 366,
    "start_time": "2022-05-04T13:32:06.212Z"
   },
   {
    "duration": 312,
    "start_time": "2022-05-04T13:32:06.581Z"
   },
   {
    "duration": 7,
    "start_time": "2022-05-04T13:32:06.895Z"
   },
   {
    "duration": 7742,
    "start_time": "2022-05-04T13:32:06.904Z"
   },
   {
    "duration": 109,
    "start_time": "2022-05-04T13:32:14.648Z"
   },
   {
    "duration": 7761,
    "start_time": "2022-05-04T13:32:14.759Z"
   },
   {
    "duration": 108,
    "start_time": "2022-05-04T13:32:22.523Z"
   },
   {
    "duration": 20,
    "start_time": "2022-05-04T13:32:22.633Z"
   },
   {
    "duration": 51,
    "start_time": "2022-05-04T13:32:22.655Z"
   },
   {
    "duration": 26,
    "start_time": "2022-05-04T13:32:22.708Z"
   },
   {
    "duration": 25,
    "start_time": "2022-05-04T13:32:22.736Z"
   },
   {
    "duration": 16,
    "start_time": "2022-05-04T13:32:22.763Z"
   },
   {
    "duration": 20,
    "start_time": "2022-05-04T13:32:22.782Z"
   },
   {
    "duration": 20,
    "start_time": "2022-05-04T13:32:22.804Z"
   },
   {
    "duration": 21,
    "start_time": "2022-05-04T13:32:22.833Z"
   },
   {
    "duration": 17,
    "start_time": "2022-05-04T13:32:22.856Z"
   },
   {
    "duration": 37,
    "start_time": "2022-05-04T13:32:22.876Z"
   },
   {
    "duration": 9,
    "start_time": "2022-05-04T13:32:22.924Z"
   },
   {
    "duration": 17,
    "start_time": "2022-05-04T13:32:22.935Z"
   },
   {
    "duration": 5,
    "start_time": "2022-05-04T13:35:49.599Z"
   },
   {
    "duration": 137,
    "start_time": "2022-05-04T13:35:49.606Z"
   },
   {
    "duration": 9,
    "start_time": "2022-05-04T13:35:49.746Z"
   },
   {
    "duration": 28,
    "start_time": "2022-05-04T13:35:49.757Z"
   },
   {
    "duration": 36,
    "start_time": "2022-05-04T13:35:49.788Z"
   },
   {
    "duration": 7,
    "start_time": "2022-05-04T13:35:49.827Z"
   },
   {
    "duration": 36,
    "start_time": "2022-05-04T13:35:49.836Z"
   },
   {
    "duration": 14,
    "start_time": "2022-05-04T13:35:49.874Z"
   },
   {
    "duration": 21,
    "start_time": "2022-05-04T13:35:49.926Z"
   },
   {
    "duration": 20,
    "start_time": "2022-05-04T13:35:49.949Z"
   },
   {
    "duration": 7,
    "start_time": "2022-05-04T13:36:06.165Z"
   },
   {
    "duration": 1504,
    "start_time": "2022-05-04T13:36:16.663Z"
   },
   {
    "duration": 121,
    "start_time": "2022-05-04T13:36:18.169Z"
   },
   {
    "duration": 9,
    "start_time": "2022-05-04T13:36:18.292Z"
   },
   {
    "duration": 33,
    "start_time": "2022-05-04T13:36:18.304Z"
   },
   {
    "duration": 13,
    "start_time": "2022-05-04T13:36:18.339Z"
   },
   {
    "duration": 7,
    "start_time": "2022-05-04T13:36:18.354Z"
   },
   {
    "duration": 67,
    "start_time": "2022-05-04T13:36:18.363Z"
   },
   {
    "duration": 13,
    "start_time": "2022-05-04T13:36:18.432Z"
   },
   {
    "duration": 23,
    "start_time": "2022-05-04T13:36:18.447Z"
   },
   {
    "duration": 15,
    "start_time": "2022-05-04T13:36:18.474Z"
   },
   {
    "duration": 7,
    "start_time": "2022-05-04T13:36:18.524Z"
   },
   {
    "duration": 8,
    "start_time": "2022-05-04T13:36:18.533Z"
   },
   {
    "duration": 19,
    "start_time": "2022-05-04T13:36:18.543Z"
   },
   {
    "duration": 26,
    "start_time": "2022-05-04T13:36:18.564Z"
   },
   {
    "duration": 50,
    "start_time": "2022-05-04T13:36:18.592Z"
   },
   {
    "duration": 306,
    "start_time": "2022-05-04T13:36:18.645Z"
   },
   {
    "duration": 27,
    "start_time": "2022-05-04T13:36:18.953Z"
   },
   {
    "duration": 45,
    "start_time": "2022-05-04T13:36:18.982Z"
   },
   {
    "duration": 6,
    "start_time": "2022-05-04T13:36:19.030Z"
   },
   {
    "duration": 1476,
    "start_time": "2022-05-04T13:36:19.038Z"
   },
   {
    "duration": 44,
    "start_time": "2022-05-04T13:36:20.517Z"
   },
   {
    "duration": 11,
    "start_time": "2022-05-04T13:36:20.563Z"
   },
   {
    "duration": 20,
    "start_time": "2022-05-04T13:36:20.575Z"
   },
   {
    "duration": 34,
    "start_time": "2022-05-04T13:36:20.597Z"
   },
   {
    "duration": 12,
    "start_time": "2022-05-04T13:36:20.633Z"
   },
   {
    "duration": 22,
    "start_time": "2022-05-04T13:36:20.648Z"
   },
   {
    "duration": 52,
    "start_time": "2022-05-04T13:36:20.672Z"
   },
   {
    "duration": 23,
    "start_time": "2022-05-04T13:36:20.731Z"
   },
   {
    "duration": 12,
    "start_time": "2022-05-04T13:36:20.756Z"
   },
   {
    "duration": 1903,
    "start_time": "2022-05-04T13:36:20.770Z"
   },
   {
    "duration": 507,
    "start_time": "2022-05-04T13:36:22.675Z"
   },
   {
    "duration": 11,
    "start_time": "2022-05-04T13:36:23.184Z"
   },
   {
    "duration": 86,
    "start_time": "2022-05-04T13:36:23.197Z"
   },
   {
    "duration": 39,
    "start_time": "2022-05-04T13:36:23.285Z"
   },
   {
    "duration": 12,
    "start_time": "2022-05-04T13:36:23.327Z"
   },
   {
    "duration": 1172,
    "start_time": "2022-05-04T13:36:23.341Z"
   },
   {
    "duration": 70,
    "start_time": "2022-05-04T13:36:24.516Z"
   },
   {
    "duration": 38,
    "start_time": "2022-05-04T13:36:24.588Z"
   },
   {
    "duration": 20,
    "start_time": "2022-05-04T13:36:24.628Z"
   },
   {
    "duration": 20,
    "start_time": "2022-05-04T13:36:24.651Z"
   },
   {
    "duration": 20,
    "start_time": "2022-05-04T13:36:24.673Z"
   },
   {
    "duration": 274,
    "start_time": "2022-05-04T13:36:24.725Z"
   },
   {
    "duration": 6,
    "start_time": "2022-05-04T13:36:25.002Z"
   },
   {
    "duration": 15,
    "start_time": "2022-05-04T13:36:25.025Z"
   },
   {
    "duration": 24,
    "start_time": "2022-05-04T13:36:25.042Z"
   },
   {
    "duration": 287,
    "start_time": "2022-05-04T13:36:25.068Z"
   },
   {
    "duration": 22,
    "start_time": "2022-05-04T13:36:25.357Z"
   },
   {
    "duration": 236,
    "start_time": "2022-05-04T13:36:25.381Z"
   },
   {
    "duration": 20,
    "start_time": "2022-05-04T13:36:25.624Z"
   },
   {
    "duration": 25,
    "start_time": "2022-05-04T13:36:25.646Z"
   },
   {
    "duration": 386,
    "start_time": "2022-05-04T13:36:25.673Z"
   },
   {
    "duration": 7,
    "start_time": "2022-05-04T13:36:26.061Z"
   },
   {
    "duration": 17,
    "start_time": "2022-05-04T13:36:26.069Z"
   },
   {
    "duration": 49,
    "start_time": "2022-05-04T13:36:26.088Z"
   },
   {
    "duration": 271,
    "start_time": "2022-05-04T13:36:26.139Z"
   },
   {
    "duration": 29,
    "start_time": "2022-05-04T13:36:26.413Z"
   },
   {
    "duration": 223,
    "start_time": "2022-05-04T13:36:26.445Z"
   },
   {
    "duration": 23,
    "start_time": "2022-05-04T13:36:26.671Z"
   },
   {
    "duration": 47,
    "start_time": "2022-05-04T13:36:26.697Z"
   },
   {
    "duration": 255,
    "start_time": "2022-05-04T13:36:26.746Z"
   },
   {
    "duration": 7,
    "start_time": "2022-05-04T13:36:27.004Z"
   },
   {
    "duration": 17,
    "start_time": "2022-05-04T13:36:27.025Z"
   },
   {
    "duration": 21,
    "start_time": "2022-05-04T13:36:27.044Z"
   },
   {
    "duration": 299,
    "start_time": "2022-05-04T13:36:27.067Z"
   },
   {
    "duration": 21,
    "start_time": "2022-05-04T13:36:27.368Z"
   },
   {
    "duration": 248,
    "start_time": "2022-05-04T13:36:27.391Z"
   },
   {
    "duration": 492,
    "start_time": "2022-05-04T13:36:27.641Z"
   },
   {
    "duration": 374,
    "start_time": "2022-05-04T13:36:28.135Z"
   },
   {
    "duration": 315,
    "start_time": "2022-05-04T13:36:28.512Z"
   },
   {
    "duration": 7,
    "start_time": "2022-05-04T13:36:28.830Z"
   },
   {
    "duration": 7311,
    "start_time": "2022-05-04T13:36:28.839Z"
   },
   {
    "duration": 109,
    "start_time": "2022-05-04T13:36:36.153Z"
   },
   {
    "duration": 7941,
    "start_time": "2022-05-04T13:36:36.264Z"
   },
   {
    "duration": 93,
    "start_time": "2022-05-04T13:36:44.207Z"
   },
   {
    "duration": 18,
    "start_time": "2022-05-04T13:36:44.324Z"
   },
   {
    "duration": 23,
    "start_time": "2022-05-04T13:36:44.345Z"
   },
   {
    "duration": 19,
    "start_time": "2022-05-04T13:36:44.370Z"
   },
   {
    "duration": 41,
    "start_time": "2022-05-04T13:36:44.391Z"
   },
   {
    "duration": 12,
    "start_time": "2022-05-04T13:36:44.434Z"
   },
   {
    "duration": 12,
    "start_time": "2022-05-04T13:36:44.448Z"
   },
   {
    "duration": 9,
    "start_time": "2022-05-04T13:36:44.462Z"
   },
   {
    "duration": 54,
    "start_time": "2022-05-04T13:36:44.479Z"
   },
   {
    "duration": 9,
    "start_time": "2022-05-04T13:36:44.535Z"
   },
   {
    "duration": 21,
    "start_time": "2022-05-04T13:36:44.546Z"
   },
   {
    "duration": 40,
    "start_time": "2022-05-04T13:36:44.569Z"
   },
   {
    "duration": 15,
    "start_time": "2022-05-04T13:36:44.611Z"
   },
   {
    "duration": 1899,
    "start_time": "2022-05-04T14:21:30.185Z"
   },
   {
    "duration": 150,
    "start_time": "2022-05-04T14:21:32.088Z"
   },
   {
    "duration": 11,
    "start_time": "2022-05-04T14:21:32.241Z"
   },
   {
    "duration": 44,
    "start_time": "2022-05-04T14:21:32.255Z"
   },
   {
    "duration": 13,
    "start_time": "2022-05-04T14:21:32.304Z"
   },
   {
    "duration": 11,
    "start_time": "2022-05-04T14:21:32.326Z"
   },
   {
    "duration": 69,
    "start_time": "2022-05-04T14:21:32.340Z"
   },
   {
    "duration": 20,
    "start_time": "2022-05-04T14:21:32.411Z"
   },
   {
    "duration": 55,
    "start_time": "2022-05-04T14:21:32.434Z"
   },
   {
    "duration": 29,
    "start_time": "2022-05-04T14:21:32.491Z"
   },
   {
    "duration": 13,
    "start_time": "2022-05-04T14:21:32.522Z"
   },
   {
    "duration": 26,
    "start_time": "2022-05-04T14:21:32.537Z"
   },
   {
    "duration": 19,
    "start_time": "2022-05-04T14:21:32.565Z"
   },
   {
    "duration": 43,
    "start_time": "2022-05-04T14:21:32.591Z"
   },
   {
    "duration": 22,
    "start_time": "2022-05-04T14:21:32.637Z"
   },
   {
    "duration": 314,
    "start_time": "2022-05-04T14:21:32.661Z"
   },
   {
    "duration": 27,
    "start_time": "2022-05-04T14:21:32.977Z"
   },
   {
    "duration": 39,
    "start_time": "2022-05-04T14:21:33.006Z"
   },
   {
    "duration": 7,
    "start_time": "2022-05-04T14:21:33.047Z"
   },
   {
    "duration": 1432,
    "start_time": "2022-05-04T14:21:33.057Z"
   },
   {
    "duration": 57,
    "start_time": "2022-05-04T14:21:34.492Z"
   },
   {
    "duration": 7,
    "start_time": "2022-05-04T14:21:34.552Z"
   },
   {
    "duration": 21,
    "start_time": "2022-05-04T14:21:34.561Z"
   },
   {
    "duration": 19,
    "start_time": "2022-05-04T14:21:34.584Z"
   },
   {
    "duration": 8,
    "start_time": "2022-05-04T14:21:34.625Z"
   },
   {
    "duration": 17,
    "start_time": "2022-05-04T14:21:34.636Z"
   },
   {
    "duration": 60,
    "start_time": "2022-05-04T14:21:34.656Z"
   },
   {
    "duration": 25,
    "start_time": "2022-05-04T14:21:34.718Z"
   },
   {
    "duration": 11,
    "start_time": "2022-05-04T14:21:34.746Z"
   },
   {
    "duration": 1991,
    "start_time": "2022-05-04T14:21:34.759Z"
   },
   {
    "duration": 526,
    "start_time": "2022-05-04T14:21:36.752Z"
   },
   {
    "duration": 12,
    "start_time": "2022-05-04T14:21:37.281Z"
   },
   {
    "duration": 92,
    "start_time": "2022-05-04T14:21:37.295Z"
   },
   {
    "duration": 35,
    "start_time": "2022-05-04T14:21:37.389Z"
   },
   {
    "duration": 13,
    "start_time": "2022-05-04T14:21:37.426Z"
   },
   {
    "duration": 1107,
    "start_time": "2022-05-04T14:21:37.442Z"
   },
   {
    "duration": 70,
    "start_time": "2022-05-04T14:21:38.553Z"
   },
   {
    "duration": 24,
    "start_time": "2022-05-04T14:21:38.626Z"
   },
   {
    "duration": 22,
    "start_time": "2022-05-04T14:21:38.653Z"
   },
   {
    "duration": 55,
    "start_time": "2022-05-04T14:21:38.678Z"
   },
   {
    "duration": 28,
    "start_time": "2022-05-04T14:21:38.740Z"
   },
   {
    "duration": 291,
    "start_time": "2022-05-04T14:21:38.771Z"
   },
   {
    "duration": 6,
    "start_time": "2022-05-04T14:21:39.065Z"
   },
   {
    "duration": 25,
    "start_time": "2022-05-04T14:21:39.073Z"
   },
   {
    "duration": 40,
    "start_time": "2022-05-04T14:21:39.101Z"
   },
   {
    "duration": 298,
    "start_time": "2022-05-04T14:21:39.143Z"
   },
   {
    "duration": 23,
    "start_time": "2022-05-04T14:21:39.444Z"
   },
   {
    "duration": 255,
    "start_time": "2022-05-04T14:21:39.470Z"
   },
   {
    "duration": 22,
    "start_time": "2022-05-04T14:21:39.728Z"
   },
   {
    "duration": 22,
    "start_time": "2022-05-04T14:21:39.753Z"
   },
   {
    "duration": 306,
    "start_time": "2022-05-04T14:21:39.778Z"
   },
   {
    "duration": 7,
    "start_time": "2022-05-04T14:21:40.087Z"
   },
   {
    "duration": 35,
    "start_time": "2022-05-04T14:21:40.097Z"
   },
   {
    "duration": 34,
    "start_time": "2022-05-04T14:21:40.134Z"
   },
   {
    "duration": 273,
    "start_time": "2022-05-04T14:21:40.170Z"
   },
   {
    "duration": 24,
    "start_time": "2022-05-04T14:21:40.446Z"
   },
   {
    "duration": 239,
    "start_time": "2022-05-04T14:21:40.472Z"
   },
   {
    "duration": 25,
    "start_time": "2022-05-04T14:21:40.714Z"
   },
   {
    "duration": 27,
    "start_time": "2022-05-04T14:21:40.741Z"
   },
   {
    "duration": 327,
    "start_time": "2022-05-04T14:21:40.771Z"
   },
   {
    "duration": 7,
    "start_time": "2022-05-04T14:21:41.100Z"
   },
   {
    "duration": 28,
    "start_time": "2022-05-04T14:21:41.109Z"
   },
   {
    "duration": 34,
    "start_time": "2022-05-04T14:21:41.139Z"
   },
   {
    "duration": 285,
    "start_time": "2022-05-04T14:21:41.176Z"
   },
   {
    "duration": 21,
    "start_time": "2022-05-04T14:21:41.464Z"
   },
   {
    "duration": 239,
    "start_time": "2022-05-04T14:21:41.488Z"
   },
   {
    "duration": 493,
    "start_time": "2022-05-04T14:21:41.729Z"
   },
   {
    "duration": 385,
    "start_time": "2022-05-04T14:21:42.225Z"
   },
   {
    "duration": 303,
    "start_time": "2022-05-04T14:21:42.612Z"
   },
   {
    "duration": 11,
    "start_time": "2022-05-04T14:21:42.917Z"
   },
   {
    "duration": 7411,
    "start_time": "2022-05-04T14:21:42.930Z"
   },
   {
    "duration": 110,
    "start_time": "2022-05-04T14:21:50.344Z"
   },
   {
    "duration": 7655,
    "start_time": "2022-05-04T14:21:50.457Z"
   },
   {
    "duration": 111,
    "start_time": "2022-05-04T14:21:58.114Z"
   },
   {
    "duration": 20,
    "start_time": "2022-05-04T14:21:58.228Z"
   },
   {
    "duration": 27,
    "start_time": "2022-05-04T14:21:58.250Z"
   },
   {
    "duration": 47,
    "start_time": "2022-05-04T14:21:58.279Z"
   },
   {
    "duration": 14,
    "start_time": "2022-05-04T14:21:58.328Z"
   },
   {
    "duration": 15,
    "start_time": "2022-05-04T14:21:58.344Z"
   },
   {
    "duration": 16,
    "start_time": "2022-05-04T14:21:58.361Z"
   },
   {
    "duration": 14,
    "start_time": "2022-05-04T14:21:58.379Z"
   },
   {
    "duration": 43,
    "start_time": "2022-05-04T14:21:58.395Z"
   },
   {
    "duration": 9,
    "start_time": "2022-05-04T14:21:58.440Z"
   },
   {
    "duration": 27,
    "start_time": "2022-05-04T14:21:58.452Z"
   },
   {
    "duration": 8,
    "start_time": "2022-05-04T14:21:58.481Z"
   },
   {
    "duration": 37,
    "start_time": "2022-05-04T14:21:58.491Z"
   },
   {
    "duration": 1310,
    "start_time": "2022-05-08T04:09:04.851Z"
   },
   {
    "duration": 101,
    "start_time": "2022-05-08T04:09:06.933Z"
   },
   {
    "duration": 7,
    "start_time": "2022-05-08T04:09:20.906Z"
   },
   {
    "duration": 16,
    "start_time": "2022-05-08T04:09:23.767Z"
   },
   {
    "duration": 10,
    "start_time": "2022-05-08T04:09:34.405Z"
   },
   {
    "duration": 5,
    "start_time": "2022-05-08T04:09:38.241Z"
   },
   {
    "duration": 30,
    "start_time": "2022-05-08T04:09:43.148Z"
   },
   {
    "duration": 13,
    "start_time": "2022-05-08T04:12:50.877Z"
   },
   {
    "duration": 1195,
    "start_time": "2022-05-08T04:19:46.114Z"
   },
   {
    "duration": 97,
    "start_time": "2022-05-08T04:19:47.311Z"
   },
   {
    "duration": 7,
    "start_time": "2022-05-08T04:19:47.410Z"
   },
   {
    "duration": 15,
    "start_time": "2022-05-08T04:19:49.685Z"
   },
   {
    "duration": 10,
    "start_time": "2022-05-08T04:20:13.789Z"
   },
   {
    "duration": 5,
    "start_time": "2022-05-08T04:20:26.143Z"
   },
   {
    "duration": 10,
    "start_time": "2022-05-08T04:20:28.899Z"
   },
   {
    "duration": 6,
    "start_time": "2022-05-08T04:21:03.404Z"
   },
   {
    "duration": 8,
    "start_time": "2022-05-08T04:21:43.238Z"
   },
   {
    "duration": 5,
    "start_time": "2022-05-08T04:22:45.415Z"
   },
   {
    "duration": 5,
    "start_time": "2022-05-08T04:22:58.089Z"
   },
   {
    "duration": 102,
    "start_time": "2022-05-08T04:23:39.034Z"
   },
   {
    "duration": 5,
    "start_time": "2022-05-08T04:24:33.886Z"
   },
   {
    "duration": 5,
    "start_time": "2022-05-08T04:24:35.163Z"
   },
   {
    "duration": 4,
    "start_time": "2022-05-08T04:24:40.409Z"
   },
   {
    "duration": 5,
    "start_time": "2022-05-08T04:24:41.131Z"
   },
   {
    "duration": 4,
    "start_time": "2022-05-08T04:27:23.996Z"
   },
   {
    "duration": 5,
    "start_time": "2022-05-08T04:27:24.687Z"
   },
   {
    "duration": 19,
    "start_time": "2022-05-08T04:27:34.733Z"
   },
   {
    "duration": 5,
    "start_time": "2022-05-08T04:27:48.608Z"
   },
   {
    "duration": 8,
    "start_time": "2022-05-08T04:29:39.948Z"
   },
   {
    "duration": 11,
    "start_time": "2022-05-08T04:31:40.095Z"
   },
   {
    "duration": 18,
    "start_time": "2022-05-08T04:32:22.423Z"
   },
   {
    "duration": 17,
    "start_time": "2022-05-08T04:32:35.045Z"
   },
   {
    "duration": 175,
    "start_time": "2022-05-08T04:32:39.885Z"
   },
   {
    "duration": 20,
    "start_time": "2022-05-08T04:32:48.557Z"
   },
   {
    "duration": 17,
    "start_time": "2022-05-08T04:33:00.484Z"
   },
   {
    "duration": 4,
    "start_time": "2022-05-08T04:33:01.691Z"
   },
   {
    "duration": 926,
    "start_time": "2022-05-08T04:33:04.367Z"
   },
   {
    "duration": 46,
    "start_time": "2022-05-08T04:35:16.132Z"
   },
   {
    "duration": 59,
    "start_time": "2022-05-08T04:35:27.606Z"
   },
   {
    "duration": 89,
    "start_time": "2022-05-08T04:37:59.029Z"
   },
   {
    "duration": 15,
    "start_time": "2022-05-08T04:38:03.164Z"
   },
   {
    "duration": 14,
    "start_time": "2022-05-08T04:38:50.759Z"
   },
   {
    "duration": 23,
    "start_time": "2022-05-08T04:40:26.004Z"
   },
   {
    "duration": 6,
    "start_time": "2022-05-08T04:40:41.412Z"
   },
   {
    "duration": 18,
    "start_time": "2022-05-08T04:40:49.329Z"
   },
   {
    "duration": 13,
    "start_time": "2022-05-08T04:41:03.830Z"
   },
   {
    "duration": 12,
    "start_time": "2022-05-08T04:41:18.221Z"
   },
   {
    "duration": 25,
    "start_time": "2022-05-08T04:44:36.086Z"
   },
   {
    "duration": 4,
    "start_time": "2022-05-08T04:44:41.294Z"
   },
   {
    "duration": 10,
    "start_time": "2022-05-08T04:44:43.565Z"
   },
   {
    "duration": 5,
    "start_time": "2022-05-08T04:44:45.275Z"
   },
   {
    "duration": 8,
    "start_time": "2022-05-08T04:44:47.707Z"
   },
   {
    "duration": 5,
    "start_time": "2022-05-08T04:44:48.436Z"
   },
   {
    "duration": 24,
    "start_time": "2022-05-08T04:47:33.763Z"
   },
   {
    "duration": 15,
    "start_time": "2022-05-08T04:48:21.178Z"
   },
   {
    "duration": 5,
    "start_time": "2022-05-08T04:48:29.610Z"
   },
   {
    "duration": 1249,
    "start_time": "2022-05-08T04:48:37.376Z"
   },
   {
    "duration": 298,
    "start_time": "2022-05-08T04:51:07.862Z"
   },
   {
    "duration": 9,
    "start_time": "2022-05-08T04:51:17.531Z"
   },
   {
    "duration": 48,
    "start_time": "2022-05-08T04:51:19.232Z"
   },
   {
    "duration": 12,
    "start_time": "2022-05-08T04:51:33.880Z"
   },
   {
    "duration": 10,
    "start_time": "2022-05-08T04:51:40.235Z"
   },
   {
    "duration": 669,
    "start_time": "2022-05-08T04:52:39.931Z"
   },
   {
    "duration": 42,
    "start_time": "2022-05-08T04:54:57.617Z"
   },
   {
    "duration": 15,
    "start_time": "2022-05-08T04:57:45.598Z"
   },
   {
    "duration": 13,
    "start_time": "2022-05-08T04:57:46.669Z"
   },
   {
    "duration": 14,
    "start_time": "2022-05-08T04:57:54.810Z"
   },
   {
    "duration": 14,
    "start_time": "2022-05-08T04:57:55.598Z"
   },
   {
    "duration": 158,
    "start_time": "2022-05-08T04:57:56.302Z"
   },
   {
    "duration": 4,
    "start_time": "2022-05-08T04:57:56.936Z"
   },
   {
    "duration": 10,
    "start_time": "2022-05-08T04:57:57.693Z"
   },
   {
    "duration": 14,
    "start_time": "2022-05-08T04:57:58.865Z"
   },
   {
    "duration": 159,
    "start_time": "2022-05-08T04:58:00.781Z"
   },
   {
    "duration": 14,
    "start_time": "2022-05-08T04:58:01.268Z"
   },
   {
    "duration": 127,
    "start_time": "2022-05-08T04:58:01.798Z"
   },
   {
    "duration": 15,
    "start_time": "2022-05-08T04:58:03.452Z"
   },
   {
    "duration": 14,
    "start_time": "2022-05-08T04:58:06.268Z"
   },
   {
    "duration": 172,
    "start_time": "2022-05-08T04:58:09.993Z"
   },
   {
    "duration": 5,
    "start_time": "2022-05-08T04:58:11.501Z"
   },
   {
    "duration": 11,
    "start_time": "2022-05-08T04:58:12.333Z"
   },
   {
    "duration": 15,
    "start_time": "2022-05-08T04:58:12.866Z"
   },
   {
    "duration": 187,
    "start_time": "2022-05-08T04:58:13.385Z"
   },
   {
    "duration": 16,
    "start_time": "2022-05-08T04:58:13.953Z"
   },
   {
    "duration": 131,
    "start_time": "2022-05-08T04:58:14.633Z"
   },
   {
    "duration": 15,
    "start_time": "2022-05-08T04:58:15.545Z"
   },
   {
    "duration": 15,
    "start_time": "2022-05-08T04:58:15.973Z"
   },
   {
    "duration": 157,
    "start_time": "2022-05-08T04:58:16.448Z"
   },
   {
    "duration": 5,
    "start_time": "2022-05-08T04:58:16.908Z"
   },
   {
    "duration": 10,
    "start_time": "2022-05-08T04:58:17.343Z"
   },
   {
    "duration": 15,
    "start_time": "2022-05-08T04:58:17.748Z"
   },
   {
    "duration": 193,
    "start_time": "2022-05-08T04:58:18.357Z"
   },
   {
    "duration": 15,
    "start_time": "2022-05-08T04:58:18.802Z"
   },
   {
    "duration": 125,
    "start_time": "2022-05-08T04:58:19.186Z"
   },
   {
    "duration": 317,
    "start_time": "2022-05-08T04:58:20.121Z"
   },
   {
    "duration": 225,
    "start_time": "2022-05-08T04:58:21.286Z"
   },
   {
    "duration": 166,
    "start_time": "2022-05-08T04:58:24.202Z"
   },
   {
    "duration": 5,
    "start_time": "2022-05-08T05:00:26.613Z"
   },
   {
    "duration": 5,
    "start_time": "2022-05-08T05:00:49.977Z"
   },
   {
    "duration": 10,
    "start_time": "2022-05-08T05:00:57.727Z"
   },
   {
    "duration": 18,
    "start_time": "2022-05-08T05:00:59.283Z"
   },
   {
    "duration": 18,
    "start_time": "2022-05-08T05:01:01.603Z"
   },
   {
    "duration": 184,
    "start_time": "2022-05-08T05:01:01.938Z"
   },
   {
    "duration": 20,
    "start_time": "2022-05-08T05:01:03.639Z"
   },
   {
    "duration": 19,
    "start_time": "2022-05-08T05:01:04.392Z"
   },
   {
    "duration": 5,
    "start_time": "2022-05-08T05:01:04.775Z"
   },
   {
    "duration": 914,
    "start_time": "2022-05-08T05:01:05.506Z"
   },
   {
    "duration": 11,
    "start_time": "2022-05-08T05:01:07.091Z"
   },
   {
    "duration": 21,
    "start_time": "2022-05-08T05:01:07.507Z"
   },
   {
    "duration": 25,
    "start_time": "2022-05-08T05:01:09.240Z"
   },
   {
    "duration": 16,
    "start_time": "2022-05-08T05:01:11.189Z"
   },
   {
    "duration": 5,
    "start_time": "2022-05-08T05:01:11.688Z"
   },
   {
    "duration": 1299,
    "start_time": "2022-05-08T05:01:12.091Z"
   },
   {
    "duration": 299,
    "start_time": "2022-05-08T05:01:13.744Z"
   },
   {
    "duration": 9,
    "start_time": "2022-05-08T05:01:14.743Z"
   },
   {
    "duration": 51,
    "start_time": "2022-05-08T05:01:15.235Z"
   },
   {
    "duration": 12,
    "start_time": "2022-05-08T05:01:17.239Z"
   },
   {
    "duration": 10,
    "start_time": "2022-05-08T05:01:17.815Z"
   },
   {
    "duration": 701,
    "start_time": "2022-05-08T05:01:18.430Z"
   },
   {
    "duration": 51,
    "start_time": "2022-05-08T05:01:20.988Z"
   },
   {
    "duration": 16,
    "start_time": "2022-05-08T05:01:23.713Z"
   },
   {
    "duration": 23,
    "start_time": "2022-05-08T05:01:24.777Z"
   },
   {
    "duration": 7,
    "start_time": "2022-05-08T05:01:29.085Z"
   },
   {
    "duration": 23,
    "start_time": "2022-05-08T05:01:37.861Z"
   },
   {
    "duration": 21,
    "start_time": "2022-05-08T05:01:38.517Z"
   },
   {
    "duration": 169,
    "start_time": "2022-05-08T05:01:39.278Z"
   },
   {
    "duration": 5,
    "start_time": "2022-05-08T05:01:40.768Z"
   },
   {
    "duration": 11,
    "start_time": "2022-05-08T05:01:41.829Z"
   },
   {
    "duration": 16,
    "start_time": "2022-05-08T05:01:42.427Z"
   },
   {
    "duration": 162,
    "start_time": "2022-05-08T05:01:43.427Z"
   },
   {
    "duration": 21,
    "start_time": "2022-05-08T05:01:48.013Z"
   },
   {
    "duration": 1240,
    "start_time": "2022-05-08T13:54:40.430Z"
   },
   {
    "duration": 89,
    "start_time": "2022-05-08T13:54:41.671Z"
   },
   {
    "duration": 6,
    "start_time": "2022-05-08T13:54:41.761Z"
   },
   {
    "duration": 15,
    "start_time": "2022-05-08T13:54:41.769Z"
   },
   {
    "duration": 8,
    "start_time": "2022-05-08T13:54:41.786Z"
   },
   {
    "duration": 4,
    "start_time": "2022-05-08T13:54:41.796Z"
   },
   {
    "duration": 10,
    "start_time": "2022-05-08T13:54:41.802Z"
   },
   {
    "duration": 16,
    "start_time": "2022-05-08T13:54:41.814Z"
   },
   {
    "duration": 8,
    "start_time": "2022-05-08T13:54:41.832Z"
   },
   {
    "duration": 40,
    "start_time": "2022-05-08T13:54:41.843Z"
   },
   {
    "duration": 9,
    "start_time": "2022-05-08T13:54:41.884Z"
   },
   {
    "duration": 4,
    "start_time": "2022-05-08T13:54:41.895Z"
   },
   {
    "duration": 12,
    "start_time": "2022-05-08T13:54:41.900Z"
   },
   {
    "duration": 15,
    "start_time": "2022-05-08T13:54:41.914Z"
   },
   {
    "duration": 18,
    "start_time": "2022-05-08T13:54:41.930Z"
   },
   {
    "duration": 195,
    "start_time": "2022-05-08T13:54:41.950Z"
   },
   {
    "duration": 27,
    "start_time": "2022-05-08T13:54:42.147Z"
   },
   {
    "duration": 16,
    "start_time": "2022-05-08T13:54:42.175Z"
   },
   {
    "duration": 3,
    "start_time": "2022-05-08T13:54:42.193Z"
   },
   {
    "duration": 817,
    "start_time": "2022-05-08T13:54:42.197Z"
   },
   {
    "duration": 13,
    "start_time": "2022-05-08T13:54:43.016Z"
   },
   {
    "duration": 10,
    "start_time": "2022-05-08T13:54:43.030Z"
   },
   {
    "duration": 36,
    "start_time": "2022-05-08T13:54:43.042Z"
   },
   {
    "duration": 13,
    "start_time": "2022-05-08T13:54:43.080Z"
   },
   {
    "duration": 4,
    "start_time": "2022-05-08T13:54:43.095Z"
   },
   {
    "duration": 1157,
    "start_time": "2022-05-08T13:54:43.100Z"
   },
   {
    "duration": 274,
    "start_time": "2022-05-08T13:54:44.259Z"
   },
   {
    "duration": 8,
    "start_time": "2022-05-08T13:54:44.538Z"
   },
   {
    "duration": 59,
    "start_time": "2022-05-08T13:54:44.548Z"
   },
   {
    "duration": 10,
    "start_time": "2022-05-08T13:54:44.609Z"
   },
   {
    "duration": 12,
    "start_time": "2022-05-08T13:54:44.621Z"
   },
   {
    "duration": 679,
    "start_time": "2022-05-08T13:54:44.634Z"
   },
   {
    "duration": 44,
    "start_time": "2022-05-08T13:54:45.315Z"
   },
   {
    "duration": 17,
    "start_time": "2022-05-08T13:54:45.361Z"
   },
   {
    "duration": 12,
    "start_time": "2022-05-08T13:54:45.380Z"
   },
   {
    "duration": 12,
    "start_time": "2022-05-08T13:54:45.394Z"
   },
   {
    "duration": 12,
    "start_time": "2022-05-08T13:54:45.408Z"
   },
   {
    "duration": 165,
    "start_time": "2022-05-08T13:54:45.422Z"
   },
   {
    "duration": 5,
    "start_time": "2022-05-08T13:54:45.589Z"
   },
   {
    "duration": 26,
    "start_time": "2022-05-08T13:54:45.595Z"
   },
   {
    "duration": 29,
    "start_time": "2022-05-08T13:54:45.623Z"
   },
   {
    "duration": 165,
    "start_time": "2022-05-08T13:54:45.653Z"
   },
   {
    "duration": 14,
    "start_time": "2022-05-08T13:54:45.820Z"
   },
   {
    "duration": 139,
    "start_time": "2022-05-08T13:54:45.836Z"
   },
   {
    "duration": 17,
    "start_time": "2022-05-08T13:54:45.976Z"
   },
   {
    "duration": 16,
    "start_time": "2022-05-08T13:54:45.994Z"
   },
   {
    "duration": 181,
    "start_time": "2022-05-08T13:54:46.011Z"
   },
   {
    "duration": 5,
    "start_time": "2022-05-08T13:54:46.194Z"
   },
   {
    "duration": 17,
    "start_time": "2022-05-08T13:54:46.200Z"
   },
   {
    "duration": 14,
    "start_time": "2022-05-08T13:54:46.219Z"
   },
   {
    "duration": 180,
    "start_time": "2022-05-08T13:54:46.235Z"
   },
   {
    "duration": 14,
    "start_time": "2022-05-08T13:54:46.416Z"
   },
   {
    "duration": 134,
    "start_time": "2022-05-08T13:54:46.432Z"
   },
   {
    "duration": 17,
    "start_time": "2022-05-08T13:54:46.567Z"
   },
   {
    "duration": 12,
    "start_time": "2022-05-08T13:54:46.586Z"
   },
   {
    "duration": 155,
    "start_time": "2022-05-08T13:54:46.600Z"
   },
   {
    "duration": 5,
    "start_time": "2022-05-08T13:54:46.757Z"
   },
   {
    "duration": 20,
    "start_time": "2022-05-08T13:54:46.763Z"
   },
   {
    "duration": 17,
    "start_time": "2022-05-08T13:54:46.785Z"
   },
   {
    "duration": 183,
    "start_time": "2022-05-08T13:54:46.804Z"
   },
   {
    "duration": 13,
    "start_time": "2022-05-08T13:54:46.989Z"
   },
   {
    "duration": 231,
    "start_time": "2022-05-08T13:54:47.004Z"
   },
   {
    "duration": 210,
    "start_time": "2022-05-08T13:54:47.236Z"
   },
   {
    "duration": 212,
    "start_time": "2022-05-08T13:54:47.448Z"
   },
   {
    "duration": 171,
    "start_time": "2022-05-08T13:54:47.662Z"
   },
   {
    "duration": 4,
    "start_time": "2022-05-08T13:54:47.835Z"
   },
   {
    "duration": 4409,
    "start_time": "2022-05-08T13:54:47.841Z"
   },
   {
    "duration": 60,
    "start_time": "2022-05-08T13:54:52.252Z"
   },
   {
    "duration": 4467,
    "start_time": "2022-05-08T13:54:52.314Z"
   },
   {
    "duration": 54,
    "start_time": "2022-05-08T13:54:56.783Z"
   },
   {
    "duration": 35,
    "start_time": "2022-05-08T13:54:56.838Z"
   },
   {
    "duration": 12,
    "start_time": "2022-05-08T13:54:56.875Z"
   },
   {
    "duration": 302,
    "start_time": "2022-05-08T13:54:56.888Z"
   },
   {
    "duration": 14,
    "start_time": "2022-05-08T13:54:57.192Z"
   },
   {
    "duration": 8,
    "start_time": "2022-05-08T13:54:57.208Z"
   },
   {
    "duration": 7,
    "start_time": "2022-05-08T13:54:57.217Z"
   },
   {
    "duration": 7,
    "start_time": "2022-05-08T13:54:57.225Z"
   },
   {
    "duration": 18,
    "start_time": "2022-05-08T13:54:57.233Z"
   },
   {
    "duration": 23,
    "start_time": "2022-05-08T13:54:57.252Z"
   },
   {
    "duration": 14,
    "start_time": "2022-05-08T13:54:57.277Z"
   },
   {
    "duration": 6,
    "start_time": "2022-05-08T13:54:57.293Z"
   },
   {
    "duration": 6,
    "start_time": "2022-05-08T13:54:57.304Z"
   },
   {
    "duration": 5,
    "start_time": "2022-05-08T14:33:27.350Z"
   },
   {
    "duration": 1031,
    "start_time": "2022-05-08T14:34:10.860Z"
   },
   {
    "duration": 996,
    "start_time": "2022-05-08T14:34:31.617Z"
   },
   {
    "duration": 4,
    "start_time": "2022-05-08T14:34:37.552Z"
   },
   {
    "duration": 5,
    "start_time": "2022-05-08T14:34:51.441Z"
   },
   {
    "duration": 5,
    "start_time": "2022-05-08T14:35:51.372Z"
   },
   {
    "duration": 9,
    "start_time": "2022-05-08T14:37:11.618Z"
   },
   {
    "duration": 5,
    "start_time": "2022-05-08T14:37:14.653Z"
   },
   {
    "duration": 4,
    "start_time": "2022-05-08T14:37:33.156Z"
   },
   {
    "duration": 1247,
    "start_time": "2022-05-08T14:41:25.151Z"
   },
   {
    "duration": 89,
    "start_time": "2022-05-08T14:41:26.400Z"
   },
   {
    "duration": 6,
    "start_time": "2022-05-08T14:41:26.490Z"
   },
   {
    "duration": 34,
    "start_time": "2022-05-08T14:41:26.499Z"
   },
   {
    "duration": 22,
    "start_time": "2022-05-08T14:41:26.535Z"
   },
   {
    "duration": 12,
    "start_time": "2022-05-08T14:41:26.559Z"
   },
   {
    "duration": 23,
    "start_time": "2022-05-08T14:41:26.573Z"
   },
   {
    "duration": 22,
    "start_time": "2022-05-08T14:41:26.598Z"
   },
   {
    "duration": 11,
    "start_time": "2022-05-08T14:41:26.622Z"
   },
   {
    "duration": 16,
    "start_time": "2022-05-08T14:41:26.635Z"
   },
   {
    "duration": 20,
    "start_time": "2022-05-08T14:41:26.653Z"
   },
   {
    "duration": 4,
    "start_time": "2022-05-08T14:41:26.675Z"
   },
   {
    "duration": 16,
    "start_time": "2022-05-08T14:41:26.681Z"
   },
   {
    "duration": 16,
    "start_time": "2022-05-08T14:41:26.699Z"
   },
   {
    "duration": 15,
    "start_time": "2022-05-08T14:41:26.717Z"
   },
   {
    "duration": 212,
    "start_time": "2022-05-08T14:41:26.734Z"
   },
   {
    "duration": 27,
    "start_time": "2022-05-08T14:41:26.948Z"
   },
   {
    "duration": 18,
    "start_time": "2022-05-08T14:41:26.977Z"
   },
   {
    "duration": 5,
    "start_time": "2022-05-08T14:41:26.996Z"
   },
   {
    "duration": 942,
    "start_time": "2022-05-08T14:41:27.002Z"
   },
   {
    "duration": 15,
    "start_time": "2022-05-08T14:41:27.946Z"
   },
   {
    "duration": 9,
    "start_time": "2022-05-08T14:41:27.972Z"
   },
   {
    "duration": 47,
    "start_time": "2022-05-08T14:41:27.983Z"
   },
   {
    "duration": 16,
    "start_time": "2022-05-08T14:41:28.032Z"
   },
   {
    "duration": 5,
    "start_time": "2022-05-08T14:41:28.049Z"
   },
   {
    "duration": 1255,
    "start_time": "2022-05-08T14:41:28.056Z"
   },
   {
    "duration": 297,
    "start_time": "2022-05-08T14:41:29.313Z"
   },
   {
    "duration": 9,
    "start_time": "2022-05-08T14:41:29.614Z"
   },
   {
    "duration": 63,
    "start_time": "2022-05-08T14:41:29.624Z"
   },
   {
    "duration": 12,
    "start_time": "2022-05-08T14:41:29.688Z"
   },
   {
    "duration": 10,
    "start_time": "2022-05-08T14:41:29.701Z"
   },
   {
    "duration": 729,
    "start_time": "2022-05-08T14:41:29.712Z"
   },
   {
    "duration": 44,
    "start_time": "2022-05-08T14:41:30.443Z"
   },
   {
    "duration": 14,
    "start_time": "2022-05-08T14:41:30.489Z"
   },
   {
    "duration": 23,
    "start_time": "2022-05-08T14:41:30.504Z"
   },
   {
    "duration": 18,
    "start_time": "2022-05-08T14:41:30.528Z"
   },
   {
    "duration": 36,
    "start_time": "2022-05-08T14:41:30.548Z"
   },
   {
    "duration": 165,
    "start_time": "2022-05-08T14:41:30.586Z"
   },
   {
    "duration": 4,
    "start_time": "2022-05-08T14:41:30.753Z"
   },
   {
    "duration": 31,
    "start_time": "2022-05-08T14:41:30.759Z"
   },
   {
    "duration": 22,
    "start_time": "2022-05-08T14:41:30.792Z"
   },
   {
    "duration": 165,
    "start_time": "2022-05-08T14:41:30.815Z"
   },
   {
    "duration": 14,
    "start_time": "2022-05-08T14:41:30.982Z"
   },
   {
    "duration": 158,
    "start_time": "2022-05-08T14:41:30.998Z"
   },
   {
    "duration": 24,
    "start_time": "2022-05-08T14:41:31.158Z"
   },
   {
    "duration": 25,
    "start_time": "2022-05-08T14:41:31.184Z"
   },
   {
    "duration": 179,
    "start_time": "2022-05-08T14:41:31.211Z"
   },
   {
    "duration": 6,
    "start_time": "2022-05-08T14:41:31.391Z"
   },
   {
    "duration": 22,
    "start_time": "2022-05-08T14:41:31.399Z"
   },
   {
    "duration": 36,
    "start_time": "2022-05-08T14:41:31.423Z"
   },
   {
    "duration": 198,
    "start_time": "2022-05-08T14:41:31.461Z"
   },
   {
    "duration": 20,
    "start_time": "2022-05-08T14:41:31.661Z"
   },
   {
    "duration": 146,
    "start_time": "2022-05-08T14:41:31.682Z"
   },
   {
    "duration": 15,
    "start_time": "2022-05-08T14:41:31.829Z"
   },
   {
    "duration": 28,
    "start_time": "2022-05-08T14:41:31.846Z"
   },
   {
    "duration": 167,
    "start_time": "2022-05-08T14:41:31.876Z"
   },
   {
    "duration": 6,
    "start_time": "2022-05-08T14:41:32.045Z"
   },
   {
    "duration": 32,
    "start_time": "2022-05-08T14:41:32.053Z"
   },
   {
    "duration": 76,
    "start_time": "2022-05-08T14:41:32.087Z"
   },
   {
    "duration": 188,
    "start_time": "2022-05-08T14:41:32.165Z"
   },
   {
    "duration": 18,
    "start_time": "2022-05-08T14:41:32.355Z"
   },
   {
    "duration": 151,
    "start_time": "2022-05-08T14:41:32.375Z"
   },
   {
    "duration": 334,
    "start_time": "2022-05-08T14:41:32.529Z"
   },
   {
    "duration": 238,
    "start_time": "2022-05-08T14:41:32.865Z"
   },
   {
    "duration": 191,
    "start_time": "2022-05-08T14:41:33.105Z"
   },
   {
    "duration": 5,
    "start_time": "2022-05-08T14:41:33.298Z"
   },
   {
    "duration": 4699,
    "start_time": "2022-05-08T14:41:33.305Z"
   },
   {
    "duration": 74,
    "start_time": "2022-05-08T14:41:38.006Z"
   },
   {
    "duration": 4754,
    "start_time": "2022-05-08T14:41:38.081Z"
   },
   {
    "duration": 70,
    "start_time": "2022-05-08T14:41:42.837Z"
   },
   {
    "duration": 13,
    "start_time": "2022-05-08T14:41:42.909Z"
   },
   {
    "duration": 13,
    "start_time": "2022-05-08T14:41:42.923Z"
   },
   {
    "duration": 38,
    "start_time": "2022-05-08T14:41:42.937Z"
   },
   {
    "duration": 11,
    "start_time": "2022-05-08T14:41:42.977Z"
   },
   {
    "duration": 11,
    "start_time": "2022-05-08T14:41:42.990Z"
   },
   {
    "duration": 7,
    "start_time": "2022-05-08T14:41:43.003Z"
   },
   {
    "duration": 7,
    "start_time": "2022-05-08T14:41:43.012Z"
   },
   {
    "duration": 9,
    "start_time": "2022-05-08T14:41:43.020Z"
   },
   {
    "duration": 7,
    "start_time": "2022-05-08T14:41:43.030Z"
   },
   {
    "duration": 45,
    "start_time": "2022-05-08T14:41:43.038Z"
   },
   {
    "duration": 6,
    "start_time": "2022-05-08T14:41:43.085Z"
   },
   {
    "duration": 13,
    "start_time": "2022-05-08T14:41:43.097Z"
   },
   {
    "duration": 5,
    "start_time": "2022-05-08T14:41:43.112Z"
   },
   {
    "duration": 6,
    "start_time": "2022-05-08T14:41:43.119Z"
   },
   {
    "duration": 48,
    "start_time": "2022-05-08T14:41:43.126Z"
   },
   {
    "duration": 6,
    "start_time": "2022-05-08T14:41:43.176Z"
   },
   {
    "duration": 1816,
    "start_time": "2022-05-09T08:02:34.398Z"
   },
   {
    "duration": 122,
    "start_time": "2022-05-09T08:02:36.217Z"
   },
   {
    "duration": 9,
    "start_time": "2022-05-09T08:02:36.341Z"
   },
   {
    "duration": 32,
    "start_time": "2022-05-09T08:02:36.352Z"
   },
   {
    "duration": 12,
    "start_time": "2022-05-09T08:02:36.387Z"
   },
   {
    "duration": 9,
    "start_time": "2022-05-09T08:02:36.402Z"
   },
   {
    "duration": 16,
    "start_time": "2022-05-09T08:02:36.413Z"
   },
   {
    "duration": 58,
    "start_time": "2022-05-09T08:02:36.432Z"
   },
   {
    "duration": 14,
    "start_time": "2022-05-09T08:02:36.492Z"
   },
   {
    "duration": 24,
    "start_time": "2022-05-09T08:02:36.508Z"
   },
   {
    "duration": 13,
    "start_time": "2022-05-09T08:02:36.534Z"
   },
   {
    "duration": 8,
    "start_time": "2022-05-09T08:02:36.581Z"
   },
   {
    "duration": 16,
    "start_time": "2022-05-09T08:02:36.591Z"
   },
   {
    "duration": 33,
    "start_time": "2022-05-09T08:02:36.614Z"
   },
   {
    "duration": 59,
    "start_time": "2022-05-09T08:02:36.651Z"
   },
   {
    "duration": 479,
    "start_time": "2022-05-09T08:02:36.713Z"
   },
   {
    "duration": 41,
    "start_time": "2022-05-09T08:02:37.195Z"
   },
   {
    "duration": 56,
    "start_time": "2022-05-09T08:02:37.239Z"
   },
   {
    "duration": 7,
    "start_time": "2022-05-09T08:02:37.298Z"
   },
   {
    "duration": 2198,
    "start_time": "2022-05-09T08:02:37.308Z"
   },
   {
    "duration": 20,
    "start_time": "2022-05-09T08:02:39.508Z"
   },
   {
    "duration": 11,
    "start_time": "2022-05-09T08:02:39.531Z"
   },
   {
    "duration": 68,
    "start_time": "2022-05-09T08:02:39.545Z"
   },
   {
    "duration": 23,
    "start_time": "2022-05-09T08:02:39.616Z"
   },
   {
    "duration": 8,
    "start_time": "2022-05-09T08:02:39.641Z"
   },
   {
    "duration": 1924,
    "start_time": "2022-05-09T08:02:39.651Z"
   },
   {
    "duration": 484,
    "start_time": "2022-05-09T08:02:41.583Z"
   },
   {
    "duration": 19,
    "start_time": "2022-05-09T08:02:42.069Z"
   },
   {
    "duration": 61,
    "start_time": "2022-05-09T08:02:42.090Z"
   },
   {
    "duration": 40,
    "start_time": "2022-05-09T08:02:42.153Z"
   },
   {
    "duration": 11,
    "start_time": "2022-05-09T08:02:42.196Z"
   },
   {
    "duration": 1037,
    "start_time": "2022-05-09T08:02:42.209Z"
   },
   {
    "duration": 67,
    "start_time": "2022-05-09T08:02:43.248Z"
   },
   {
    "duration": 20,
    "start_time": "2022-05-09T08:02:43.317Z"
   },
   {
    "duration": 44,
    "start_time": "2022-05-09T08:02:43.339Z"
   },
   {
    "duration": 20,
    "start_time": "2022-05-09T08:02:43.385Z"
   },
   {
    "duration": 23,
    "start_time": "2022-05-09T08:02:43.408Z"
   },
   {
    "duration": 261,
    "start_time": "2022-05-09T08:02:43.434Z"
   },
   {
    "duration": 7,
    "start_time": "2022-05-09T08:02:43.697Z"
   },
   {
    "duration": 15,
    "start_time": "2022-05-09T08:02:43.706Z"
   },
   {
    "duration": 56,
    "start_time": "2022-05-09T08:02:43.728Z"
   },
   {
    "duration": 260,
    "start_time": "2022-05-09T08:02:43.786Z"
   },
   {
    "duration": 36,
    "start_time": "2022-05-09T08:02:44.048Z"
   },
   {
    "duration": 226,
    "start_time": "2022-05-09T08:02:44.086Z"
   },
   {
    "duration": 20,
    "start_time": "2022-05-09T08:02:44.314Z"
   },
   {
    "duration": 51,
    "start_time": "2022-05-09T08:02:44.337Z"
   },
   {
    "duration": 429,
    "start_time": "2022-05-09T08:02:44.390Z"
   },
   {
    "duration": 9,
    "start_time": "2022-05-09T08:02:44.822Z"
   },
   {
    "duration": 20,
    "start_time": "2022-05-09T08:02:44.833Z"
   },
   {
    "duration": 45,
    "start_time": "2022-05-09T08:02:44.855Z"
   },
   {
    "duration": 314,
    "start_time": "2022-05-09T08:02:44.903Z"
   },
   {
    "duration": 29,
    "start_time": "2022-05-09T08:02:45.220Z"
   },
   {
    "duration": 363,
    "start_time": "2022-05-09T08:02:45.251Z"
   },
   {
    "duration": 29,
    "start_time": "2022-05-09T08:02:45.617Z"
   },
   {
    "duration": 56,
    "start_time": "2022-05-09T08:02:45.649Z"
   },
   {
    "duration": 377,
    "start_time": "2022-05-09T08:02:45.708Z"
   },
   {
    "duration": 7,
    "start_time": "2022-05-09T08:02:46.088Z"
   },
   {
    "duration": 32,
    "start_time": "2022-05-09T08:02:46.098Z"
   },
   {
    "duration": 29,
    "start_time": "2022-05-09T08:02:46.132Z"
   },
   {
    "duration": 376,
    "start_time": "2022-05-09T08:02:46.163Z"
   },
   {
    "duration": 42,
    "start_time": "2022-05-09T08:02:46.541Z"
   },
   {
    "duration": 342,
    "start_time": "2022-05-09T08:02:46.585Z"
   },
   {
    "duration": 460,
    "start_time": "2022-05-09T08:02:46.930Z"
   },
   {
    "duration": 464,
    "start_time": "2022-05-09T08:02:47.393Z"
   },
   {
    "duration": 553,
    "start_time": "2022-05-09T08:02:47.859Z"
   },
   {
    "duration": 6,
    "start_time": "2022-05-09T08:02:48.414Z"
   },
   {
    "duration": 12576,
    "start_time": "2022-05-09T08:02:48.422Z"
   },
   {
    "duration": 135,
    "start_time": "2022-05-09T08:03:01.001Z"
   },
   {
    "duration": 7213,
    "start_time": "2022-05-09T08:03:01.138Z"
   },
   {
    "duration": 89,
    "start_time": "2022-05-09T08:03:08.353Z"
   },
   {
    "duration": 39,
    "start_time": "2022-05-09T08:03:08.444Z"
   },
   {
    "duration": 18,
    "start_time": "2022-05-09T08:03:08.486Z"
   },
   {
    "duration": 17,
    "start_time": "2022-05-09T08:03:08.506Z"
   },
   {
    "duration": 13,
    "start_time": "2022-05-09T08:03:08.526Z"
   },
   {
    "duration": 9,
    "start_time": "2022-05-09T08:03:08.581Z"
   },
   {
    "duration": 9,
    "start_time": "2022-05-09T08:03:08.592Z"
   },
   {
    "duration": 6,
    "start_time": "2022-05-09T08:03:08.603Z"
   },
   {
    "duration": 14,
    "start_time": "2022-05-09T08:03:08.611Z"
   },
   {
    "duration": 7,
    "start_time": "2022-05-09T08:03:08.627Z"
   },
   {
    "duration": 60,
    "start_time": "2022-05-09T08:03:08.636Z"
   },
   {
    "duration": 10,
    "start_time": "2022-05-09T08:03:08.698Z"
   },
   {
    "duration": 19,
    "start_time": "2022-05-09T08:03:08.711Z"
   },
   {
    "duration": 8,
    "start_time": "2022-05-09T08:03:08.733Z"
   },
   {
    "duration": 40,
    "start_time": "2022-05-09T08:03:08.743Z"
   },
   {
    "duration": 9,
    "start_time": "2022-05-09T08:03:08.785Z"
   },
   {
    "duration": 6,
    "start_time": "2022-05-09T08:03:08.797Z"
   }
  ],
  "kernelspec": {
   "display_name": "Python 3 (ipykernel)",
   "language": "python",
   "name": "python3"
  },
  "language_info": {
   "codemirror_mode": {
    "name": "ipython",
    "version": 3
   },
   "file_extension": ".py",
   "mimetype": "text/x-python",
   "name": "python",
   "nbconvert_exporter": "python",
   "pygments_lexer": "ipython3",
   "version": "3.9.7"
  },
  "toc": {
   "base_numbering": 1,
   "nav_menu": {},
   "number_sections": true,
   "sideBar": true,
   "skip_h1_title": true,
   "title_cell": "Table of Contents",
   "title_sidebar": "Contents",
   "toc_cell": false,
   "toc_position": {},
   "toc_section_display": true,
   "toc_window_display": false
  }
 },
 "nbformat": 4,
 "nbformat_minor": 2
}
